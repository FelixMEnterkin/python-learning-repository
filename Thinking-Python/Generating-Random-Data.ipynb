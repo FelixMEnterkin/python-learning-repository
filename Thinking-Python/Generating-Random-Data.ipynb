{
 "cells": [
  {
   "cell_type": "code",
   "execution_count": 3,
   "metadata": {},
   "outputs": [],
   "source": [
    "import numpy as np"
   ]
  },
  {
   "cell_type": "markdown",
   "metadata": {},
   "source": [
    "## Random number from a Standard Normal Distribution\n",
    "Use the `rand` function to generate numbers from the standard normal distibition $N(0,1)$"
   ]
  },
  {
   "cell_type": "code",
   "execution_count": 14,
   "metadata": {},
   "outputs": [
    {
     "data": {
      "text/plain": [
       "array([ 1.03834458, -1.17017494,  0.75666295,  0.41393397, -2.48587658,\n",
       "       -1.75889766, -0.30184055,  0.70666215, -0.10206799,  0.61295805])"
      ]
     },
     "execution_count": 14,
     "metadata": {},
     "output_type": "execute_result"
    }
   ],
   "source": [
    "# Random numbers from a statard normal distribution \n",
    "\n",
    "rand_num = np.random.randn(10)\n",
    "rand_num"
   ]
  },
  {
   "cell_type": "markdown",
   "metadata": {},
   "source": [
    "## Random Integer from Range\n",
    "We can generate a an integer from within a range using the `integers` method in `default_rng()`. Here we specify the start and end of the rang - both inclusive - and the number of draws we want from within this range.  "
   ]
  },
  {
   "cell_type": "code",
   "execution_count": 13,
   "metadata": {},
   "outputs": [
    {
     "data": {
      "text/plain": [
       "array([5, 5, 4, 3, 1, 2, 4, 5, 4, 1])"
      ]
     },
     "execution_count": 13,
     "metadata": {},
     "output_type": "execute_result"
    }
   ],
   "source": [
    "# Random number within a range \n",
    "# Return random integers from low (inclusive) to high (exclusive), or if endpoint=True, low (inclusive) to high (inclusive)\n",
    "\n",
    "rng = np.random.default_rng()\n",
    "a = rng.integers(1,6,10)\n",
    "a"
   ]
  },
  {
   "cell_type": "markdown",
   "metadata": {},
   "source": [
    "# Random Floas 0-1\n",
    "Generate a random value inbeteen 0 and 1. Will be helpfull for gerating random probabilities."
   ]
  },
  {
   "cell_type": "code",
   "execution_count": 10,
   "metadata": {},
   "outputs": [
    {
     "data": {
      "text/plain": [
       "array([0.62887944, 0.43428408, 0.74646825, 0.09828681, 0.39215318,\n",
       "       0.07781022, 0.22060355, 0.15091109, 0.93144916, 0.91207824])"
      ]
     },
     "execution_count": 10,
     "metadata": {},
     "output_type": "execute_result"
    }
   ],
   "source": [
    "# Retrun value betwen 0 and 1\n",
    "## Return random floats in the half-open interval [0.0, 1.0).\n",
    "\n",
    "x = np.random.random(10)\n",
    "x"
   ]
  },
  {
   "cell_type": "markdown",
   "metadata": {},
   "source": [
    "# Random Choice\n",
    "Choose at ramndom from a list of items/catagories in a list. "
   ]
  },
  {
   "cell_type": "code",
   "execution_count": 12,
   "metadata": {},
   "outputs": [
    {
     "data": {
      "text/plain": [
       "array(['C', 'C', 'B', 'A', 'A', 'A', 'B', 'C', 'C', 'B'], dtype='<U1')"
      ]
     },
     "execution_count": 12,
     "metadata": {},
     "output_type": "execute_result"
    }
   ],
   "source": [
    "# random Choice \n",
    "\n",
    "options = ['A', 'B', 'C']\n",
    "x = np.random.choice(options, 10)\n",
    "x"
   ]
  },
  {
   "cell_type": "markdown",
   "metadata": {},
   "source": [
    "# Random Shuffle \n",
    "If we want to shuffel the order oif an exising catagoery top randomise we can also do taht using the `shuffle` method in the `default_range()` function. "
   ]
  },
  {
   "cell_type": "code",
   "execution_count": 19,
   "metadata": {},
   "outputs": [
    {
     "data": {
      "text/plain": [
       "['b', 'c', 'e', 'a', 'd']"
      ]
     },
     "execution_count": 19,
     "metadata": {},
     "output_type": "execute_result"
    }
   ],
   "source": [
    "rng = np.random.default_rng()\n",
    "a = ['a', 'b', 'c', 'd', 'e']\n",
    "rng.shuffle(a)\n",
    "a"
   ]
  }
 ],
 "metadata": {
  "kernelspec": {
   "display_name": "Python 3",
   "language": "python",
   "name": "python3"
  },
  "language_info": {
   "codemirror_mode": {
    "name": "ipython",
    "version": 3
   },
   "file_extension": ".py",
   "mimetype": "text/x-python",
   "name": "python",
   "nbconvert_exporter": "python",
   "pygments_lexer": "ipython3",
   "version": "3.10.13"
  }
 },
 "nbformat": 4,
 "nbformat_minor": 2
}

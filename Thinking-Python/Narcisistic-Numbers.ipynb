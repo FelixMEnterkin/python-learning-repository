{
 "cells": [
  {
   "cell_type": "markdown",
   "metadata": {},
   "source": [
    "# Narssisistic Number Simulation \n",
    "\n",
    "A narsistitic number is a number where each didget of the number, raised to the power of the numer of didgets and summed, isd equal to teh original number. FOr illustartation:\n",
    "\n",
    "$$ 9474 = 9^4 + 7^4 + 0^4 + 4^4 = 6561 + 256 +2401 + 256 = 9474$$\n",
    "\n",
    "\n",
    "This function tests wheather a numebr is a narsisiticic number. The loop counts up from one through all positive intigers, assigning narisistic numbers to the narsistic number list. once it has reached 20 narcisitic numbers it stoppes and prints the list. "
   ]
  },
  {
   "cell_type": "code",
   "execution_count": 2,
   "metadata": {},
   "outputs": [
    {
     "name": "stdout",
     "output_type": "stream",
     "text": [
      "9474 is a narcisistic number\n"
     ]
    }
   ],
   "source": [
    "# Narsisiistic number test \n",
    "\n",
    "def is_nacisistic(number):\n",
    "    digits = str(number)\n",
    "    length = len(digits)\n",
    "    product = 0\n",
    "\n",
    "    for digit in digits:\n",
    "        digit2 = int(digit)**length\n",
    "        product += digit2\n",
    "        \n",
    "    if number == product:\n",
    "        print(f'{number} is a narcisistic number')\n",
    "    else:\n",
    "        print(f'{number} is not narcisistic')\n",
    "\n",
    "is_nacisistic(9474)\n"
   ]
  },
  {
   "cell_type": "code",
   "execution_count": null,
   "metadata": {},
   "outputs": [],
   "source": [
    "## First 20 Narsististic Number loop \n",
    "\n",
    "\n",
    "number = 0\n",
    "number_list = []\n",
    "\n",
    "while len(number_list) <= 20:\n",
    "    digits = str(number)\n",
    "    length = len(digits)\n",
    "    product = 0\n",
    "        \n",
    "    for digit in digits:\n",
    "        digit2 = int(digit)**length\n",
    "        product += digit2\n",
    "        \n",
    "    if number == product:\n",
    "        number_list.append(product)\n",
    "    number += 1  \n",
    "print(number_list)"
   ]
  },
  {
   "cell_type": "code",
   "execution_count": null,
   "metadata": {},
   "outputs": [],
   "source": [
    "import numpy as np\n",
    "\n",
    "def narc_checker(number):\n",
    "    '''Takes a number and converts it to a string so its length can be checked and\n",
    "    used as the power numbers are raised to. Converting a number to a string\n",
    "    allows the characters of the number to be iterrated over in a loop.\n",
    "\n",
    "    A value of 0 is initialised and each time a character of the number is raised\n",
    "    to the power of the length of the number, it's added to that value. Once this \n",
    "    is done for the whole number, it's checked against the value of the original \n",
    "    number, and if they're the same, it's added to the narc. list. \n",
    "    '''\n",
    "    \n",
    "    num_string = str(number)\n",
    "    length_number = len(num_string)\n",
    "\n",
    "    values_sum = 0\n",
    "\n",
    "    # Iterating over characters (digits) in the number\n",
    "    for i in str(number):\n",
    "        i = int(i)\n",
    "        values_sum += i**length_number\n",
    "\n",
    "    if values_sum == number:\n",
    "        narc_numbers.append(number)\n",
    "\n",
    "# Variable we can change to change the list length we are looking for\n",
    "numbers_to_find = 20\n",
    "\n",
    "# Initialising an empty list fo add narc. numbers to, and setting an intial\n",
    "# value to test\n",
    "narc_numbers = []\n",
    "\n",
    "i = 0\n",
    "\n",
    "# Low tech solution to doing timings in Python, there are better packages\n",
    "# that tell you what bits take the most time and use the most memory, but\n",
    "# lets keep ity simple for now.\n",
    "\n",
    "start = np.datetime64('now')\n",
    "while len(narc_numbers) <= numbers_to_find:\n",
    "    i += 1\n",
    "    narc_checker(i)\n",
    "end = np.datetime64('now')\n",
    "\n",
    "runtime = end - start\n",
    "\n",
    "print(narc_numbers)\n",
    "print(f'Finding the first {numbers_to_find} narc. numbers takes {runtime}.')"
   ]
  }
 ],
 "metadata": {
  "kernelspec": {
   "display_name": "Python 3",
   "language": "python",
   "name": "python3"
  },
  "language_info": {
   "codemirror_mode": {
    "name": "ipython",
    "version": 3
   },
   "file_extension": ".py",
   "mimetype": "text/x-python",
   "name": "python",
   "nbconvert_exporter": "python",
   "pygments_lexer": "ipython3",
   "version": "3.10.13"
  }
 },
 "nbformat": 4,
 "nbformat_minor": 2
}

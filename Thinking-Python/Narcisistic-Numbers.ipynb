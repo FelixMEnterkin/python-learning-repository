{
 "cells": [
  {
   "cell_type": "markdown",
   "metadata": {},
   "source": [
    "# Narssisistic Number Simulation \n",
    "\n",
    "A narsistitic number is a number where each didget of the number, raised to the power of the numer of didgets and summed, isd equal to teh original number. FOr illustartation:\n",
    "\n",
    "$$ 9474 = 9^4 + 7^4 + 0^4 + 4^4 = 6561 + 256 +2401 + 256 = 9474$$\n",
    "\n",
    "\n",
    "This function tests wheather a numebr is a narsisiticic number. The loop counts up from one through all positive intigers, assigning narisistic numbers to the narsistic number list. once it has reached 20 narcisitic numbers it stoppes and prints the list. "
   ]
  },
  {
   "cell_type": "code",
   "execution_count": null,
   "metadata": {},
   "outputs": [],
   "source": []
  },
  {
   "cell_type": "code",
   "execution_count": null,
   "metadata": {},
   "outputs": [],
   "source": []
  }
 ],
 "metadata": {
  "language_info": {
   "name": "python"
  }
 },
 "nbformat": 4,
 "nbformat_minor": 2
}

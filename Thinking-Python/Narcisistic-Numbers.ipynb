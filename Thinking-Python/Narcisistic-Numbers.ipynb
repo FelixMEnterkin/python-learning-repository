{
 "cells": [
  {
   "cell_type": "markdown",
   "metadata": {},
   "source": [
    "# Narssisistic Number Simulation \n",
    "\n",
    "A narsistitic number is a number where each didget of the number, raised to the power of the numer of didgets and summed, isd equal to teh original number. FOr illustartation:\n",
    "\n",
    "$$ 9474 = 9^4 + 7^4 + 0^4 + 4^4 = 6561 + 256 +2401 + 256 = 9474$$\n",
    "\n",
    "\n",
    "This function tests wheather a numebr is a narsisiticic number. The loop counts up from one through all positive intigers, assigning narisistic numbers to the narsistic number list. once it has reached 20 narcisitic numbers it stoppes and prints the list. "
   ]
  },
  {
   "cell_type": "code",
   "execution_count": 2,
   "metadata": {},
   "outputs": [
    {
     "name": "stdout",
     "output_type": "stream",
     "text": [
      "9474 is a narcisistic number\n"
     ]
    }
   ],
   "source": [
    "# Narsisiistic number test \n",
    "\n",
    "def is_nacisistic(number):\n",
    "    digits = str(number)\n",
    "    length = len(digits)\n",
    "    product = 0\n",
    "\n",
    "    for digit in digits:\n",
    "        digit2 = int(digit)**length\n",
    "        product += digit2\n",
    "        \n",
    "    if number == product:\n",
    "        print(f'{number} is a narcisistic number')\n",
    "    else:\n",
    "        print(f'{number} is not narcisistic')\n",
    "\n",
    "is_nacisistic(9474)\n"
   ]
  },
  {
   "cell_type": "code",
   "execution_count": null,
   "metadata": {},
   "outputs": [],
   "source": [
    "## First 20 Narsististic Number loop \n",
    "\n",
    "\n",
    "number = 0\n",
    "number_list = []\n",
    "\n",
    "while len(number_list) <= 20:\n",
    "    digits = str(number)\n",
    "    length = len(digits)\n",
    "    product = 0\n",
    "        \n",
    "    for digit in digits:\n",
    "        digit2 = int(digit)**length\n",
    "        product += digit2\n",
    "        \n",
    "    if number == product:\n",
    "        number_list.append(product)\n",
    "    number += 1  \n",
    "print(number_list)"
   ]
  }
 ],
 "metadata": {
  "kernelspec": {
   "display_name": "Python 3",
   "language": "python",
   "name": "python3"
  },
  "language_info": {
   "codemirror_mode": {
    "name": "ipython",
    "version": 3
   },
   "file_extension": ".py",
   "mimetype": "text/x-python",
   "name": "python",
   "nbconvert_exporter": "python",
   "pygments_lexer": "ipython3",
   "version": "3.10.13"
  }
 },
 "nbformat": 4,
 "nbformat_minor": 2
}

{
 "cells": [
  {
   "cell_type": "markdown",
   "metadata": {},
   "source": [
    "# Montey Hall Simulation in Python\n",
    "\n",
    "The Montey Hall experiment is a famous probeblitity test that is omn the face of it counter intuitive. However through the use of a statical simulation can be shown to be correct.\n",
    "\n",
    "\n"
   ]
  },
  {
   "cell_type": "code",
   "execution_count": 3,
   "metadata": {},
   "outputs": [],
   "source": [
    "# Set up \n",
    "import random"
   ]
  },
  {
   "cell_type": "code",
   "execution_count": 123,
   "metadata": {},
   "outputs": [
    {
     "name": "stdout",
     "output_type": "stream",
     "text": [
      "The win percentage from always switching is 66.8% when we conduct 10000 trials\n"
     ]
    }
   ],
   "source": [
    "# Simulation \n",
    "\n",
    "num_games = 10000\n",
    "wins_count = 0\n",
    "doors = [1, 2, 3]\n",
    "\n",
    "for i in range(num_games):\n",
    "\n",
    "    car = random.choice(doors)\n",
    "    first_pick = random.choice(doors)\n",
    "\n",
    "    host_can_open = set(doors) - set([first_pick, car])\n",
    "    host_open = random.choice(list(host_can_open))\n",
    "\n",
    "    second_pick = min(set(doors) - set([first_pick, host_open]))\n",
    "\n",
    "    if second_pick == car:\n",
    "        wins_count += 1\n",
    "    \n",
    "print(f'The win percentage from always switching is {wins_count / num_games:.1%} when we conduct {num_games} trials')\n",
    "\n"
   ]
  },
  {
   "cell_type": "markdown",
   "metadata": {},
   "source": [
    "Here the doors are stored in a list - initialised using the `[ ]` - and the function `choice` from the `random` packed allows us to randomly sampel one of the elements in the list. We can use this to assing the value of doors to the objects of car and first choice. Note that as choice sampels without replacement then the car and first pick can take the same value. \n",
    "\n",
    "The host is able to select from all doors, except the door with the car and the first choice. While the second choice is necisarily different from both the first choice and the door the hoast opens. \n",
    "\n",
    "The second pick is nesisarily the only remaining dooer within the doors list and tehrefore the function `min` simply returns the value (`max( )` would also work). \n",
    "\n",
    "Finnaly the boolan equation tests whether our second opick was indeed the car with the door in and if so adds one to the win counter. \n",
    "\n",
    "The for loop repeats this pcrocess 10,000 times and returmns the numer of wins as a percentage of the number of trials. "
   ]
  }
 ],
 "metadata": {
  "language_info": {
   "name": "python"
  }
 },
 "nbformat": 4,
 "nbformat_minor": 2
}

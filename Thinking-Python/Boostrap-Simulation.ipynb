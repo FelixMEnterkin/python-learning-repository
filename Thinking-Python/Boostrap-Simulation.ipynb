{
 "cells": [
  {
   "cell_type": "markdown",
   "metadata": {},
   "source": [
    "# Bootstrap Simulation\n",
    "\n"
   ]
  },
  {
   "cell_type": "code",
   "execution_count": 4,
   "metadata": {},
   "outputs": [
    {
     "ename": "ModuleNotFoundError",
     "evalue": "No module named 'statsmodels'",
     "output_type": "error",
     "traceback": [
      "\u001b[0;31m---------------------------------------------------------------------------\u001b[0m",
      "\u001b[0;31mModuleNotFoundError\u001b[0m                       Traceback (most recent call last)",
      "\u001b[1;32m/workspaces/python-learning-repository/Thinking-Python/Boostrap-Simulation.ipynb Cell 2\u001b[0m line \u001b[0;36m1\n\u001b[1;32m     <a href='vscode-notebook-cell://codespaces%2Bexpert-yodel-r47x7vrp479jfp6vp/workspaces/python-learning-repository/Thinking-Python/Boostrap-Simulation.ipynb#W2sdnNjb2RlLXJlbW90ZQ%3D%3D?line=10'>11</a>\u001b[0m     \u001b[39mreturn\u001b[39;00m filename\n\u001b[1;32m     <a href='vscode-notebook-cell://codespaces%2Bexpert-yodel-r47x7vrp479jfp6vp/workspaces/python-learning-repository/Thinking-Python/Boostrap-Simulation.ipynb#W2sdnNjb2RlLXJlbW90ZQ%3D%3D?line=12'>13</a>\u001b[0m download(\u001b[39m'\u001b[39m\u001b[39mhttps://raw.githubusercontent.com/AllenDowney/ElementsOfDataScience/v1/utils.py\u001b[39m\u001b[39m'\u001b[39m)\n\u001b[0;32m---> <a href='vscode-notebook-cell://codespaces%2Bexpert-yodel-r47x7vrp479jfp6vp/workspaces/python-learning-repository/Thinking-Python/Boostrap-Simulation.ipynb#W2sdnNjb2RlLXJlbW90ZQ%3D%3D?line=14'>15</a>\u001b[0m \u001b[39mimport\u001b[39;00m \u001b[39mutils\u001b[39;00m\n\u001b[1;32m     <a href='vscode-notebook-cell://codespaces%2Bexpert-yodel-r47x7vrp479jfp6vp/workspaces/python-learning-repository/Thinking-Python/Boostrap-Simulation.ipynb#W2sdnNjb2RlLXJlbW90ZQ%3D%3D?line=16'>17</a>\u001b[0m \u001b[39m# Simulation data \u001b[39;00m\n",
      "File \u001b[0;32m/workspaces/python-learning-repository/Thinking-Python/utils.py:259\u001b[0m\n\u001b[1;32m    256\u001b[0m     \u001b[39m#TODO: don't draw if there are none\u001b[39;00m\n\u001b[1;32m    257\u001b[0m     ax\u001b[39m.\u001b[39mlegend(handles, labels, \u001b[39m*\u001b[39m\u001b[39m*\u001b[39moptions)\n\u001b[0;32m--> 259\u001b[0m \u001b[39mfrom\u001b[39;00m \u001b[39mstatsmodels\u001b[39;00m\u001b[39m.\u001b[39;00m\u001b[39mnonparametric\u001b[39;00m\u001b[39m.\u001b[39;00m\u001b[39msmoothers_lowess\u001b[39;00m \u001b[39mimport\u001b[39;00m lowess\n\u001b[1;32m    261\u001b[0m \u001b[39mdef\u001b[39;00m \u001b[39mmake_lowess\u001b[39m(series):\n\u001b[1;32m    262\u001b[0m \u001b[39m    \u001b[39m\u001b[39m\"\"\"Use LOWESS to compute a smooth line.\u001b[39;00m\n\u001b[1;32m    263\u001b[0m \n\u001b[1;32m    264\u001b[0m \u001b[39m    series: pd.Series\u001b[39;00m\n\u001b[1;32m    265\u001b[0m \n\u001b[1;32m    266\u001b[0m \u001b[39m    returns: pd.Series\u001b[39;00m\n\u001b[1;32m    267\u001b[0m \u001b[39m    \"\"\"\u001b[39;00m\n",
      "\u001b[0;31mModuleNotFoundError\u001b[0m: No module named 'statsmodels'"
     ]
    }
   ],
   "source": [
    "# Set up \n",
    "\n",
    "\n",
    "# Simulation data \n",
    "\n"
   ]
  }
 ],
 "metadata": {
  "language_info": {
   "name": "python"
  }
 },
 "nbformat": 4,
 "nbformat_minor": 2
}

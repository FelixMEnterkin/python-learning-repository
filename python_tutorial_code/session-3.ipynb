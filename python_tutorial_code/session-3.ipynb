{
 "cells": [
  {
   "cell_type": "markdown",
   "metadata": {},
   "source": [
    "# Session 3 \n",
    "This is the follow along with session 3"
   ]
  },
  {
   "cell_type": "code",
   "execution_count": 1,
   "metadata": {},
   "outputs": [],
   "source": [
    "import pandas as pd "
   ]
  },
  {
   "cell_type": "code",
   "execution_count": 2,
   "metadata": {},
   "outputs": [],
   "source": [
    "path = r\"https://raw.githubusercontent.com/data-to-insight/ERN-sessions/main/data/1980%202023%20average%20house%20prices.csv\"\n",
    "df = pd.read_csv(path)\n",
    "\n"
   ]
  },
  {
   "cell_type": "code",
   "execution_count": 3,
   "metadata": {},
   "outputs": [],
   "source": [
    "# df_l = read_excel(filepath, sheet_name=[\"sheet name 1\", \"Sheet name 2\"] )\n",
    "# when loading though read_excel there is an additional argument for sheets\n",
    "\n",
    "# if we read in multiple sheets it will give us a dictionary with each sheet as a dataftame in it v\n",
    "\n",
    "dfs = {\n",
    "    \"df1\": \"Sheet 1\",\n",
    "    \"df2\": \"sheet 2\"\n",
    "}\n",
    "\n",
    "#import openpyxl\n",
    "# this is a packedge that allows us to read in excel files \n"
   ]
  },
  {
   "cell_type": "markdown",
   "metadata": {},
   "source": [
    "Using Pd.red_Excle() it will defult to leading the first sheet, if you want a different one you must specify it. \n",
    "\n",
    "\n",
    "Anaconda has a really nice viewer for charts and data - will would recomend"
   ]
  },
  {
   "cell_type": "markdown",
   "metadata": {},
   "source": [
    "Ignore the geeks for python etc they tend not to be very good, stacl overflow is often better"
   ]
  },
  {
   "cell_type": "code",
   "execution_count": 4,
   "metadata": {},
   "outputs": [
    {
     "name": "stdout",
     "output_type": "stream",
     "text": [
      "<class 'pandas.core.frame.DataFrame'>\n",
      "RangeIndex: 523 entries, 0 to 522\n",
      "Data columns (total 6 columns):\n",
      " #   Column                                          Non-Null Count  Dtype  \n",
      "---  ------                                          --------------  -----  \n",
      " 0   Name                                            523 non-null    object \n",
      " 1   Period                                          523 non-null    object \n",
      " 2   House price index All property types            523 non-null    float64\n",
      " 3   Average price All property types                523 non-null    int64  \n",
      " 4   Percentage change (monthly) All property types  523 non-null    float64\n",
      " 5   Percentage change (yearly) All property types   523 non-null    float64\n",
      "dtypes: float64(3), int64(1), object(2)\n",
      "memory usage: 24.6+ KB\n"
     ]
    },
    {
     "data": {
      "text/html": [
       "<div>\n",
       "<style scoped>\n",
       "    .dataframe tbody tr th:only-of-type {\n",
       "        vertical-align: middle;\n",
       "    }\n",
       "\n",
       "    .dataframe tbody tr th {\n",
       "        vertical-align: top;\n",
       "    }\n",
       "\n",
       "    .dataframe thead th {\n",
       "        text-align: right;\n",
       "    }\n",
       "</style>\n",
       "<table border=\"1\" class=\"dataframe\">\n",
       "  <thead>\n",
       "    <tr style=\"text-align: right;\">\n",
       "      <th></th>\n",
       "      <th>Name</th>\n",
       "      <th>Period</th>\n",
       "      <th>House price index All property types</th>\n",
       "      <th>Average price All property types</th>\n",
       "      <th>Percentage change (monthly) All property types</th>\n",
       "      <th>Percentage change (yearly) All property types</th>\n",
       "    </tr>\n",
       "  </thead>\n",
       "  <tbody>\n",
       "    <tr>\n",
       "      <th>518</th>\n",
       "      <td>United Kingdom</td>\n",
       "      <td>2023-03</td>\n",
       "      <td>148.2</td>\n",
       "      <td>282548</td>\n",
       "      <td>-1.0</td>\n",
       "      <td>3.2</td>\n",
       "    </tr>\n",
       "    <tr>\n",
       "      <th>519</th>\n",
       "      <td>United Kingdom</td>\n",
       "      <td>2023-04</td>\n",
       "      <td>148.9</td>\n",
       "      <td>283871</td>\n",
       "      <td>0.5</td>\n",
       "      <td>2.5</td>\n",
       "    </tr>\n",
       "    <tr>\n",
       "      <th>520</th>\n",
       "      <td>United Kingdom</td>\n",
       "      <td>2023-05</td>\n",
       "      <td>149.5</td>\n",
       "      <td>285053</td>\n",
       "      <td>0.4</td>\n",
       "      <td>1.6</td>\n",
       "    </tr>\n",
       "    <tr>\n",
       "      <th>521</th>\n",
       "      <td>United Kingdom</td>\n",
       "      <td>2023-06</td>\n",
       "      <td>151.2</td>\n",
       "      <td>288281</td>\n",
       "      <td>1.1</td>\n",
       "      <td>1.9</td>\n",
       "    </tr>\n",
       "    <tr>\n",
       "      <th>522</th>\n",
       "      <td>United Kingdom</td>\n",
       "      <td>2023-07</td>\n",
       "      <td>152.0</td>\n",
       "      <td>289824</td>\n",
       "      <td>0.5</td>\n",
       "      <td>0.6</td>\n",
       "    </tr>\n",
       "  </tbody>\n",
       "</table>\n",
       "</div>"
      ],
      "text/plain": [
       "               Name   Period  House price index All property types  \\\n",
       "518  United Kingdom  2023-03                                 148.2   \n",
       "519  United Kingdom  2023-04                                 148.9   \n",
       "520  United Kingdom  2023-05                                 149.5   \n",
       "521  United Kingdom  2023-06                                 151.2   \n",
       "522  United Kingdom  2023-07                                 152.0   \n",
       "\n",
       "     Average price All property types  \\\n",
       "518                            282548   \n",
       "519                            283871   \n",
       "520                            285053   \n",
       "521                            288281   \n",
       "522                            289824   \n",
       "\n",
       "     Percentage change (monthly) All property types  \\\n",
       "518                                            -1.0   \n",
       "519                                             0.5   \n",
       "520                                             0.4   \n",
       "521                                             1.1   \n",
       "522                                             0.5   \n",
       "\n",
       "     Percentage change (yearly) All property types  \n",
       "518                                            3.2  \n",
       "519                                            2.5  \n",
       "520                                            1.6  \n",
       "521                                            1.9  \n",
       "522                                            0.6  "
      ]
     },
     "execution_count": 4,
     "metadata": {},
     "output_type": "execute_result"
    }
   ],
   "source": [
    "## Lets get teh informatio from this dataframe\n",
    "df.info()\n",
    "# This allows us to look t teh different columns, their names and what type of data they have \n",
    "\n",
    "df.head() # top row\n",
    "df.tail() # bottom row "
   ]
  },
  {
   "cell_type": "code",
   "execution_count": 5,
   "metadata": {},
   "outputs": [],
   "source": [
    "# to raed from local files you need to import your operating system using the lines:\n",
    "import os\n",
    "\n",
    "#####"
   ]
  },
  {
   "cell_type": "code",
   "execution_count": 6,
   "metadata": {},
   "outputs": [
    {
     "name": "stdout",
     "output_type": "stream",
     "text": [
      "<class 'pandas.core.frame.DataFrame'>\n",
      "RangeIndex: 332 entries, 0 to 331\n",
      "Data columns (total 9 columns):\n",
      " #   Column                   Non-Null Count  Dtype  \n",
      "---  ------                   --------------  -----  \n",
      " 0   Unnamed: 0               332 non-null    int64  \n",
      " 1   LAchildID                332 non-null    object \n",
      " 2   UPN                      332 non-null    object \n",
      " 3   FormerUPN                0 non-null      float64\n",
      " 4   UPNunknown               0 non-null      float64\n",
      " 5   PersonBirthDate          332 non-null    object \n",
      " 6   ExpectedPersonBirthDate  7 non-null      object \n",
      " 7   GenderCurrent            332 non-null    int64  \n",
      " 8   PersonDeathDate          21 non-null     object \n",
      "dtypes: float64(2), int64(2), object(5)\n",
      "memory usage: 23.5+ KB\n"
     ]
    },
    {
     "data": {
      "text/html": [
       "<div>\n",
       "<style scoped>\n",
       "    .dataframe tbody tr th:only-of-type {\n",
       "        vertical-align: middle;\n",
       "    }\n",
       "\n",
       "    .dataframe tbody tr th {\n",
       "        vertical-align: top;\n",
       "    }\n",
       "\n",
       "    .dataframe thead th {\n",
       "        text-align: right;\n",
       "    }\n",
       "</style>\n",
       "<table border=\"1\" class=\"dataframe\">\n",
       "  <thead>\n",
       "    <tr style=\"text-align: right;\">\n",
       "      <th></th>\n",
       "      <th>Unnamed: 0</th>\n",
       "      <th>LAchildID</th>\n",
       "      <th>UPN</th>\n",
       "      <th>FormerUPN</th>\n",
       "      <th>UPNunknown</th>\n",
       "      <th>PersonBirthDate</th>\n",
       "      <th>ExpectedPersonBirthDate</th>\n",
       "      <th>GenderCurrent</th>\n",
       "      <th>PersonDeathDate</th>\n",
       "    </tr>\n",
       "  </thead>\n",
       "  <tbody>\n",
       "    <tr>\n",
       "      <th>0</th>\n",
       "      <td>0</td>\n",
       "      <td>RND000215205141</td>\n",
       "      <td>A850728973744</td>\n",
       "      <td>NaN</td>\n",
       "      <td>NaN</td>\n",
       "      <td>06/12/2019</td>\n",
       "      <td>NaN</td>\n",
       "      <td>1</td>\n",
       "      <td>NaN</td>\n",
       "    </tr>\n",
       "    <tr>\n",
       "      <th>1</th>\n",
       "      <td>1</td>\n",
       "      <td>RND000824303014</td>\n",
       "      <td>A141396438491</td>\n",
       "      <td>NaN</td>\n",
       "      <td>NaN</td>\n",
       "      <td>27/04/2011</td>\n",
       "      <td>NaN</td>\n",
       "      <td>9</td>\n",
       "      <td>NaN</td>\n",
       "    </tr>\n",
       "    <tr>\n",
       "      <th>2</th>\n",
       "      <td>2</td>\n",
       "      <td>RND000750143123</td>\n",
       "      <td>A929946861554</td>\n",
       "      <td>NaN</td>\n",
       "      <td>NaN</td>\n",
       "      <td>06/06/2017</td>\n",
       "      <td>06/12/2019</td>\n",
       "      <td>1</td>\n",
       "      <td>NaN</td>\n",
       "    </tr>\n",
       "    <tr>\n",
       "      <th>3</th>\n",
       "      <td>3</td>\n",
       "      <td>RND000909164501</td>\n",
       "      <td>A612330267292</td>\n",
       "      <td>NaN</td>\n",
       "      <td>NaN</td>\n",
       "      <td>03/10/2014</td>\n",
       "      <td>NaN</td>\n",
       "      <td>0</td>\n",
       "      <td>NaN</td>\n",
       "    </tr>\n",
       "    <tr>\n",
       "      <th>4</th>\n",
       "      <td>4</td>\n",
       "      <td>RND000382171815</td>\n",
       "      <td>A604459366806</td>\n",
       "      <td>NaN</td>\n",
       "      <td>NaN</td>\n",
       "      <td>25/09/2019</td>\n",
       "      <td>NaN</td>\n",
       "      <td>2</td>\n",
       "      <td>NaN</td>\n",
       "    </tr>\n",
       "  </tbody>\n",
       "</table>\n",
       "</div>"
      ],
      "text/plain": [
       "   Unnamed: 0        LAchildID            UPN  FormerUPN  UPNunknown  \\\n",
       "0           0  RND000215205141  A850728973744        NaN         NaN   \n",
       "1           1  RND000824303014  A141396438491        NaN         NaN   \n",
       "2           2  RND000750143123  A929946861554        NaN         NaN   \n",
       "3           3  RND000909164501  A612330267292        NaN         NaN   \n",
       "4           4  RND000382171815  A604459366806        NaN         NaN   \n",
       "\n",
       "  PersonBirthDate ExpectedPersonBirthDate  GenderCurrent PersonDeathDate  \n",
       "0      06/12/2019                     NaN              1             NaN  \n",
       "1      27/04/2011                     NaN              9             NaN  \n",
       "2      06/06/2017              06/12/2019              1             NaN  \n",
       "3      03/10/2014                     NaN              0             NaN  \n",
       "4      25/09/2019                     NaN              2             NaN  "
      ]
     },
     "execution_count": 6,
     "metadata": {},
     "output_type": "execute_result"
    }
   ],
   "source": [
    "# Lets load new data \n",
    "childid = pd.read_csv(\"/workspaces/python-learning-repository/example _data/ChildIdentifiers.csv\")\n",
    "\n",
    "childid.info()\n",
    "childid.head()"
   ]
  },
  {
   "cell_type": "code",
   "execution_count": 7,
   "metadata": {},
   "outputs": [],
   "source": [
    "# we need to convert to datetime \n",
    "\n",
    "df[\"Period\"] = pd.to_datetime(df[\"Period\"], format=\"%Y-%m\")\n"
   ]
  },
  {
   "cell_type": "markdown",
   "metadata": {},
   "source": [
    "in date times all of the characters start with a % sign, e.g., %m is month like 09.\n",
    "In this case the dates will read YYYY-MM"
   ]
  }
 ],
 "metadata": {
  "kernelspec": {
   "display_name": "Python 3",
   "language": "python",
   "name": "python3"
  },
  "language_info": {
   "codemirror_mode": {
    "name": "ipython",
    "version": 3
   },
   "file_extension": ".py",
   "mimetype": "text/x-python",
   "name": "python",
   "nbconvert_exporter": "python",
   "pygments_lexer": "ipython3",
   "version": "3.10.13"
  }
 },
 "nbformat": 4,
 "nbformat_minor": 2
}

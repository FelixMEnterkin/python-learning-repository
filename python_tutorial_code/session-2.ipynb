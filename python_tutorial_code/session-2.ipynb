{
 "cells": [
  {
   "cell_type": "markdown",
   "metadata": {},
   "source": [
    "# Session 2 Notes \n",
    "\n",
    "This file includes the scrap cade jotted down during the session"
   ]
  },
  {
   "cell_type": "markdown",
   "metadata": {},
   "source": [
    "We can write python code in either a .py file (similar to an r script) or we can write it in a .ipybn (which is similar to an r markdown).\n",
    "These are denoted differently by the file type\n",
    "\n",
    "\n",
    " In a jupyter notebook Python will remeber the code that you have already run - it is kept in the enviroment"
   ]
  },
  {
   "cell_type": "code",
   "execution_count": null,
   "metadata": {},
   "outputs": [],
   "source": [
    "# this is the standard format for a python file \n",
    "\n",
    "# import statement \n",
    "\n",
    "# define classes \n",
    "\n",
    "# define functions \n",
    "\n",
    "# define variables \n",
    "\n",
    "# write some code / scripts "
   ]
  },
  {
   "cell_type": "code",
   "execution_count": 3,
   "metadata": {},
   "outputs": [
    {
     "name": "stdout",
     "output_type": "stream",
     "text": [
      "ters\n",
      "srettel fo gnirts emoS\n"
     ]
    }
   ],
   "source": [
    "string = \"Some string of letters\"\n",
    "\n",
    "# we use suare brackets to take a slice or index \n",
    "\n",
    "# when counting using the minus sign gets it to count from the right not the left \n",
    "\n",
    "print(string[-4:])\n",
    "\n",
    "\n",
    "# reverse a string \n",
    "\n",
    "revese = string[-1::-1]\n",
    "print(revese)"
   ]
  },
  {
   "cell_type": "code",
   "execution_count": 4,
   "metadata": {},
   "outputs": [],
   "source": [
    "# lists \n",
    "\n",
    "# a set of bits of data that are stored and associated with one variable \n",
    "\n",
    "my_list = []\n",
    "\n"
   ]
  },
  {
   "cell_type": "markdown",
   "metadata": {},
   "source": [
    "All the time we are using a method we use a dot to signify that we are using a method. \n"
   ]
  },
  {
   "cell_type": "code",
   "execution_count": null,
   "metadata": {},
   "outputs": [],
   "source": [
    "list_1 = [] \n",
    "print(type(list_1))\n",
    "\n",
    "colours_list = ['red', 'blue', 'green']\n",
    "print(colours_list)\n",
    "\n",
    "# The append method adds whatever is being appended to a list as one item in a list\n",
    "colours_list.append('purple') \n",
    "print(colours_list)\n",
    "\n",
    "# as append is a method it only applies to cenratin object types. so you can only get append with a list. this means that for the color list you can use the dot then the append function"
   ]
  }
 ],
 "metadata": {
  "kernelspec": {
   "display_name": "Python 3",
   "language": "python",
   "name": "python3"
  },
  "language_info": {
   "codemirror_mode": {
    "name": "ipython",
    "version": 3
   },
   "file_extension": ".py",
   "mimetype": "text/x-python",
   "name": "python",
   "nbconvert_exporter": "python",
   "pygments_lexer": "ipython3",
   "version": "3.10.13"
  }
 },
 "nbformat": 4,
 "nbformat_minor": 2
}

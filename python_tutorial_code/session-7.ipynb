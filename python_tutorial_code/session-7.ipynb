{
 "cells": [
  {
   "cell_type": "markdown",
   "metadata": {},
   "source": [
    "# Session 7 \n",
    "\n",
    "This file conataains the session notes for lession 5 of the course. in this session we cover some more coputer science type concepts like if/else statement, looping, and writing functions. The focus of this session specificaly is how we use loops to perform repeated tasks and how wre can next one loop inside another. \n",
    "\n",
    "Python is one of the sloweer programming languages in terms of run time. This means that loops are often not tht eefficient, pqarticularly when we are nesting lost of loops inside each other. As a result while loops are incredibly useful to perform iterations we should be mindful about how heavily we use them. That said, the runtime of loops only becomes a big problem when we are running quite large and complex tasks, for small scale data tasks it shoudl be fine. \n",
    "\n",
    "In programming we shouold aim to reducve how much we type out cvode and repeat ourselves. The acronym DRY stands for Dont Repeat Yourself and is a common saying in programming. in esseng programming is really the process of creating lots of different functions and combining them in a way to perform the task that we need.\n",
    "\n",
    "This type of programming is incredibly usefull when it comes to trying to automate reports. For exampel when trying to draw on data from multiple sources with multiple formats, functions can be set up to deal with specific errors or complications and these can be ran every time the same issue apearts using if/else conditions to catch them.\n"
   ]
  },
  {
   "cell_type": "code",
   "execution_count": 1,
   "metadata": {},
   "outputs": [],
   "source": [
    "# Initialising an number list \n",
    "numbers = [1, 2, 3, 4, 5]\n",
    "numbers = list(range(1,6))\n",
    "\n",
    "# This can eb acheived either way\n",
    "# these are both equvilant \n",
    "\n",
    "print(numbers)\n",
    "# thing we want to loop over is called the iterator\n",
    "# the elemtn we get is the iterable\n",
    " \n",
    "for num in numbers:\n",
    "    x = num + num\n",
    "    print(x)\n",
    " \n",
    "print(x)\n",
    " \n",
    "# first iterable in the list 1-10 is 1 - we're referring to it as i\n",
    "# so if i print i in the first loop - i print 1\n",
    " \n",
    "# second iterable in the list 1-10 is 2 - we're referring to it as i\n",
    "# so if I print i in the second loop - I print 2\n",
    " "
   ]
  },
  {
   "cell_type": "markdown",
   "metadata": {},
   "source": [
    "When we *itorate* with loops we repeat a number of steps for each element of a sequence. The list that we loop over is known as the *iterable* and the individual items each time are called *itarators*. In this the itorable is the sequence of number while the number i at any point is the iterator. \n",
    "\n"
   ]
  },
  {
   "cell_type": "code",
   "execution_count": 2,
   "metadata": {},
   "outputs": [
    {
     "name": "stdout",
     "output_type": "stream",
     "text": [
      "Hello, my name is Jake.\n",
      "Hello, my name is Tabitha.\n",
      "Hello, my name is Penelope.\n",
      "Hello, my name is Rupert.\n",
      "Hello, my name is Artimous.\n"
     ]
    }
   ],
   "source": [
    "# make a list of 5 names as strings\n",
    "# loop over that list of names and using an f string have it print out\n",
    "# somethign like \"Hello, my name is NAME\"\n",
    "\n",
    "names = [\"Jake\", \"Tabitha\", \"Penelope\", \"Rupert\", \"Artimous\"]\n",
    "\n",
    "for name in names:\n",
    "    print(f'Hello, my name is {name}.')\n",
    "\n"
   ]
  },
  {
   "cell_type": "markdown",
   "metadata": {},
   "source": [
    "If we didn't want the same function to be performed on each element of the itarable then we can use `if` / `else` statements to specify what code we want to run on each elelmet using logical conditions. For instance:"
   ]
  },
  {
   "cell_type": "code",
   "execution_count": 4,
   "metadata": {},
   "outputs": [
    {
     "name": "stdout",
     "output_type": "stream",
     "text": [
      "Hi, I'm will!\n",
      "Hello, my name is Annie.\n",
      "Hello, my name is Andy.\n",
      "Hello, my name is Naiomi.\n",
      "Woof!\n"
     ]
    }
   ],
   "source": [
    "# make a list of 5 names as strings\n",
    "names_list = ['Will', 'Annie', 'Andy', 'Naiomi', 'Scout']\n",
    " \n",
    "# loop over that list of names and using an f string have it print out\n",
    "# somethign like \"Hello, my name is NAME\"\n",
    "for name in names_list:\n",
    "    if name == 'Scout':\n",
    "        print('Woof!')\n",
    "    elif name == 'Will':\n",
    "        print(\"Hi, I'm will!\")  \n",
    "    else:\n",
    "        phrase = f'Hello, my name is {name}.'\n",
    "        print(phrase)"
   ]
  },
  {
   "cell_type": "markdown",
   "metadata": {},
   "source": [
    "We can use teh `enumerate` function to return a tuple that index's each element of a list. Here it goes through the list of names adding a index number to each element and paring them. We could acheive the same output from a dictionary using the `items()` method. "
   ]
  },
  {
   "cell_type": "code",
   "execution_count": 5,
   "metadata": {},
   "outputs": [
    {
     "name": "stdout",
     "output_type": "stream",
     "text": [
      "(0, 'Will')\n",
      "(1, 'Annie')\n",
      "(2, 'Andy')\n",
      "(3, 'Naiomi')\n",
      "(4, 'Scout')\n"
     ]
    }
   ],
   "source": [
    "## using enumerate \n",
    "\n",
    "# it take a list and adds and index location (number) and matchint it with the element of this list as a tuple \n",
    "\n",
    "for tuple_i in enumerate(names_list):\n",
    "    print(tuple_i)\n"
   ]
  },
  {
   "cell_type": "code",
   "execution_count": null,
   "metadata": {},
   "outputs": [],
   "source": [
    "dict_1 = {'key1':1,\n",
    "          'key2':2}\n",
    "# ... "
   ]
  },
  {
   "cell_type": "code",
   "execution_count": 22,
   "metadata": {},
   "outputs": [
    {
     "name": "stdout",
     "output_type": "stream",
     "text": [
      "1 key1\n",
      "2 key2\n"
     ]
    }
   ],
   "source": [
    "names_dict = {}\n",
    " \n",
    "for index, name in enumerate(names_list):\n",
    "    names_dict[index] = name\n",
    " \n",
    "names_dict\n",
    " \n",
    "for k, v in dict_1.items():\n",
    "    print(v, k)\n"
   ]
  },
  {
   "cell_type": "code",
   "execution_count": 8,
   "metadata": {},
   "outputs": [
    {
     "name": "stdout",
     "output_type": "stream",
     "text": [
      "My name is Teigan and I am a Performance Analyst\n",
      "My name is Zivilie and I am a Performence Officer\n",
      "My name is Felix and I am a Data Officer\n",
      "My name is Clare and I am a Head of Service\n",
      "My name is Jarred and I am a Director of Education\n"
     ]
    }
   ],
   "source": [
    "# make a dictionry of 5 names and job titles\n",
    "# use k,v loop to print something like \"My name is NAME and I am a JOB TITLE\"\n",
    "\n",
    "# Create a dictionary of names ans job titles\n",
    "group_names = {\n",
    "    'Teigan':\"Performance Analyst\",\n",
    "    'Zivilie':\"Performence Officer\",\n",
    "    'Felix':\"Data Officer\",\n",
    "    'Clare':\"Head of Service\",\n",
    "    \"Jarred\":'Director of Education'}\n",
    "\n",
    "for name, job in group_names.items():\n",
    "    print(f'My name is {name} and I am a {job}')\n",
    "\n"
   ]
  },
  {
   "cell_type": "markdown",
   "metadata": {},
   "source": [
    "We can also add in some `if` / `else` statements that change what code runs on each element, maeniung we can specify different outputs. As we are specifying multiple conditions we need to encolse them in parethesis."
   ]
  },
  {
   "cell_type": "code",
   "execution_count": 9,
   "metadata": {},
   "outputs": [
    {
     "name": "stdout",
     "output_type": "stream",
     "text": [
      "Hi, I'm Will, and I'm a Data manager.\n",
      "Hi, I'm Annie, and I'm Retired.\n",
      "Hi, I'm Andy, and I'm Retired.\n",
      "Hi, I'm Naiomi, and I'm a Policy Writer.\n",
      "Hi, I'm Scout, and I'm a Moral Support.\n"
     ]
    }
   ],
   "source": [
    "# make a dictionry of 5 names and job titles\n",
    "# use k,v loop to print something like \"My name is NAME and I am a JOB TITLE\"\n",
    " \n",
    "name_job = {'Will':'Data manager',\n",
    "            'Annie':'Retired',\n",
    "            'Andy':'Retired',\n",
    "            'Naiomi':'Policy Writer',\n",
    "            'Scout':'Moral Support'}\n",
    " \n",
    "# print(name_job.keys())\n",
    "# print(name_job.values())\n",
    "# print(name_job.items())\n",
    " \n",
    "for k, v in name_job.items():\n",
    "    if (k == 'Annie') | (k == 'Andy'):\n",
    "        print(f\"Hi, I'm {k}, and I'm {v}.\")\n",
    "    else:\n",
    "        print(f\"Hi, I'm {k}, and I'm a {v}.\")"
   ]
  },
  {
   "cell_type": "markdown",
   "metadata": {},
   "source": [
    "We can nest one loop in another loop. For insanec in teh loop teh outer loop starts with teh value 2, then runns thorough all iterations of the inner loop and returns to the outer to repeat the priocess with 4."
   ]
  },
  {
   "cell_type": "code",
   "execution_count": 12,
   "metadata": {},
   "outputs": [
    {
     "name": "stdout",
     "output_type": "stream",
     "text": [
      "2 times 1 equals 2\n",
      "2 times 3 equals 6\n",
      "2 times 5 equals 10\n",
      "2 times 7 equals 14\n",
      "2 times 9 equals 18\n",
      "2 times 11 equals 22\n",
      "4 times 1 equals 4\n",
      "4 times 3 equals 12\n",
      "4 times 5 equals 20\n",
      "4 times 7 equals 28\n",
      "4 times 9 equals 36\n",
      "4 times 11 equals 44\n",
      "6 times 1 equals 6\n",
      "6 times 3 equals 18\n",
      "6 times 5 equals 30\n",
      "6 times 7 equals 42\n",
      "6 times 9 equals 54\n",
      "6 times 11 equals 66\n",
      "8 times 1 equals 8\n",
      "8 times 3 equals 24\n",
      "8 times 5 equals 40\n",
      "8 times 7 equals 56\n",
      "8 times 9 equals 72\n",
      "8 times 11 equals 88\n",
      "10 times 1 equals 10\n",
      "10 times 3 equals 30\n",
      "10 times 5 equals 50\n",
      "10 times 7 equals 70\n",
      "10 times 9 equals 90\n",
      "10 times 11 equals 110\n",
      "12 times 1 equals 12\n",
      "12 times 3 equals 36\n",
      "12 times 5 equals 60\n",
      "12 times 7 equals 84\n",
      "12 times 9 equals 108\n",
      "12 times 11 equals 132\n"
     ]
    }
   ],
   "source": [
    "## We can nest a list within another list \n",
    "evens = list(range(2,13,2))\n",
    "odds = list(range(1,13,2))\n",
    " \n",
    "for even in evens:\n",
    "    for odd in odds:\n",
    "        num = even * odd\n",
    "        print(f\"{even} times {odd} equals {num}\")\n",
    " "
   ]
  },
  {
   "cell_type": "code",
   "execution_count": 11,
   "metadata": {},
   "outputs": [
    {
     "data": {
      "text/plain": [
       "['2 times 1 equals 2',\n",
       " '2 times 3 equals 6',\n",
       " '2 times 5 equals 10',\n",
       " '2 times 7 equals 14',\n",
       " '2 times 9 equals 18',\n",
       " '2 times 11 equals 22',\n",
       " '4 times 1 equals 4',\n",
       " '4 times 3 equals 12',\n",
       " '4 times 5 equals 20',\n",
       " '4 times 7 equals 28',\n",
       " '4 times 9 equals 36',\n",
       " '4 times 11 equals 44',\n",
       " '6 times 1 equals 6',\n",
       " '6 times 3 equals 18',\n",
       " '6 times 5 equals 30',\n",
       " '6 times 7 equals 42',\n",
       " '6 times 9 equals 54',\n",
       " '6 times 11 equals 66',\n",
       " '8 times 1 equals 8',\n",
       " '8 times 3 equals 24',\n",
       " '8 times 5 equals 40',\n",
       " '8 times 7 equals 56',\n",
       " '8 times 9 equals 72',\n",
       " '8 times 11 equals 88',\n",
       " '10 times 1 equals 10',\n",
       " '10 times 3 equals 30',\n",
       " '10 times 5 equals 50',\n",
       " '10 times 7 equals 70',\n",
       " '10 times 9 equals 90',\n",
       " '10 times 11 equals 110',\n",
       " '12 times 1 equals 12',\n",
       " '12 times 3 equals 36',\n",
       " '12 times 5 equals 60',\n",
       " '12 times 7 equals 84',\n",
       " '12 times 9 equals 108',\n",
       " '12 times 11 equals 132']"
      ]
     },
     "execution_count": 11,
     "metadata": {},
     "output_type": "execute_result"
    }
   ],
   "source": [
    "## lsirt of evens and ords \n",
    "\n",
    "evens = list(range(2,13,2)) # Start, Stop, Step\n",
    "odds = list(range(1,13,2))\n",
    " \n",
    "multiply_list = []\n",
    " \n",
    "for even in evens:\n",
    "    for odd in odds:\n",
    "        num = even * odd\n",
    "        multiply_list.append(f\"{even} times {odd} equals {num}\")\n",
    " \n",
    "multiply_list\n"
   ]
  },
  {
   "cell_type": "code",
   "execution_count": 14,
   "metadata": {},
   "outputs": [
    {
     "data": {
      "text/plain": [
       "['butter and ham',\n",
       " 'butter and cheese',\n",
       " 'butter and sardines',\n",
       " 'jam and ham',\n",
       " 'jam and cheese',\n",
       " 'jam and sardines',\n",
       " 'peanut butter and ham',\n",
       " 'peanut butter and cheese',\n",
       " 'peanut butter and sardines']"
      ]
     },
     "execution_count": 14,
     "metadata": {},
     "output_type": "execute_result"
    }
   ],
   "source": [
    "# using these two lists of sandwich ingredients, find (using for loops) all of the spread/topping combinations\n",
    "# append them to a new list of all the combos\n",
    "\n",
    "spreads = ['butter', 'jam', 'peanut butter']\n",
    "toppings = ['ham', 'cheese', 'sardines']\n",
    "sandwiches = []\n",
    "\n",
    "for spread in spreads:\n",
    "    for topping in toppings:\n",
    "        sandwiches.append(f'{spread} and {topping}')\n",
    "\n",
    "sandwiches\n"
   ]
  },
  {
   "cell_type": "markdown",
   "metadata": {},
   "source": [
    "This is a key example of where you should avaoid using for loops. They are slow and nested for loops are even slopr. nexting three loops is nmorm,al going too far. Python offers a load of functions in librarys that create combinations and permutaions that work far bettr \n"
   ]
  },
  {
   "cell_type": "code",
   "execution_count": null,
   "metadata": {},
   "outputs": [],
   "source": [
    "# if - checks and does thing if true\n",
    "# elif - if above ifs/elifs aren't true, tried and does thing\n",
    "# else does if nothign above was true\n",
    " \n",
    "number = 60\n",
    " \n",
    "if (number % 10 == 0):\n",
    "    print('Divisible by 10!')\n",
    "elif (number % 3 == 0):\n",
    "    print(\"diviible by 3\")\n",
    "else:\n",
    "    print('not divisible by 10')"
   ]
  },
  {
   "cell_type": "code",
   "execution_count": 20,
   "metadata": {},
   "outputs": [
    {
     "name": "stdout",
     "output_type": "stream",
     "text": [
      "1\n",
      "2\n",
      "Fizz\n",
      "4\n",
      "Bang\n",
      "Fizz\n",
      "7\n",
      "8\n",
      "Fizz\n",
      "Bang\n",
      "11\n",
      "Fizz\n",
      "13\n",
      "14\n",
      "FizzBang\n",
      "16\n",
      "17\n",
      "Fizz\n",
      "19\n",
      "Bang\n",
      "Fizz\n",
      "22\n",
      "23\n",
      "Fizz\n",
      "Bang\n",
      "26\n",
      "Fizz\n",
      "28\n",
      "29\n",
      "FizzBang\n",
      "31\n",
      "32\n",
      "Fizz\n",
      "34\n",
      "Bang\n",
      "Fizz\n",
      "37\n",
      "38\n",
      "Fizz\n",
      "Bang\n",
      "41\n",
      "Fizz\n",
      "43\n",
      "44\n",
      "FizzBang\n",
      "46\n",
      "47\n",
      "Fizz\n",
      "49\n",
      "Bang\n",
      "Fizz\n",
      "52\n",
      "53\n",
      "Fizz\n",
      "Bang\n",
      "56\n",
      "Fizz\n",
      "58\n",
      "59\n",
      "FizzBang\n",
      "61\n",
      "62\n",
      "Fizz\n",
      "64\n",
      "Bang\n",
      "Fizz\n",
      "67\n",
      "68\n",
      "Fizz\n",
      "Bang\n",
      "71\n",
      "Fizz\n",
      "73\n",
      "74\n",
      "FizzBang\n",
      "76\n",
      "77\n",
      "Fizz\n",
      "79\n",
      "Bang\n",
      "Fizz\n",
      "82\n",
      "83\n",
      "Fizz\n",
      "Bang\n",
      "86\n",
      "Fizz\n",
      "88\n",
      "89\n",
      "FizzBang\n",
      "91\n",
      "92\n",
      "Fizz\n",
      "94\n",
      "Bang\n",
      "Fizz\n",
      "97\n",
      "98\n",
      "Fizz\n",
      "Bang\n"
     ]
    }
   ],
   "source": [
    "# fizzbang\n",
    "# take all the numbers form 1-100,\n",
    "# print them, BUT if the number is divisible by 3, print fizz,\n",
    "# if it's divisible by 5 print bang\n",
    "# BUT if it's divisible by 3 & 5 print fizzbang\n",
    "\n",
    "\n",
    "for i in range(1, 101):\n",
    "    if (i %3 == 0)  & (i %5 == 0):\n",
    "        print('FizzBang')\n",
    "    elif (i %3 == 0):\n",
    "        print('Fizz')\n",
    "    elif (i %5 == 0):\n",
    "        print('Bang')\n",
    "    else:\n",
    "        print(i)\n"
   ]
  },
  {
   "cell_type": "code",
   "execution_count": null,
   "metadata": {},
   "outputs": [],
   "source": [
    "## izzbang\n",
    "# take all the numbers form 1-100,\n",
    "onehundred = list(range(1,101))\n",
    " \n",
    "for num in onehundred:\n",
    "    if (num % 3 == 0) & (num % 5 == 0):\n",
    "        print('fizzbang')\n",
    "    elif (num % 3 == 0):\n",
    "        print('fizz')\n",
    "    elif (num % 5 == 0):\n",
    "        print('bang')\n",
    "    else:    \n",
    "        print(num)\n",
    " \n",
    "# print them, BUT if the number is divisible by 3, print fizz,\n",
    "# if it's divisible by 5 print bang\n",
    "# BUT if it's divisible by 3 & 5 print fizzbang"
   ]
  }
 ],
 "metadata": {
  "kernelspec": {
   "display_name": "Python 3",
   "language": "python",
   "name": "python3"
  },
  "language_info": {
   "codemirror_mode": {
    "name": "ipython",
    "version": 3
   },
   "file_extension": ".py",
   "mimetype": "text/x-python",
   "name": "python",
   "nbconvert_exporter": "python",
   "pygments_lexer": "ipython3",
   "version": "3.10.13"
  }
 },
 "nbformat": 4,
 "nbformat_minor": 2
}

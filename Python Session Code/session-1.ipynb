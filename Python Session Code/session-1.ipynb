{
 "cells": [
  {
   "cell_type": "markdown",
   "metadata": {},
   "source": [
    "# Session 1 Notes \n",
    "This documnet includes notes from session 1"
   ]
  },
  {
   "cell_type": "code",
   "execution_count": 6,
   "metadata": {},
   "outputs": [],
   "source": [
    "num_1 = 5  # integer \n",
    "num_2 = 5.0 # float \n"
   ]
  },
  {
   "cell_type": "markdown",
   "metadata": {},
   "source": [
    "Plython stores numbers as either floats or integers. The integers refer to whole numbesr while floats include decimals. This is so that it can store less information for the numbers."
   ]
  },
  {
   "cell_type": "code",
   "execution_count": 3,
   "metadata": {},
   "outputs": [],
   "source": [
    "num_3 = \"word\" # can ues double or signle quotes although it messess up if your text has apostophies in \n",
    "num_3 = \"5\" # as this si stored as text we cannot perform arithmatic "
   ]
  },
  {
   "cell_type": "markdown",
   "metadata": {},
   "source": [
    "In python a word or characters are stored as strings or str "
   ]
  },
  {
   "cell_type": "code",
   "execution_count": 7,
   "metadata": {},
   "outputs": [
    {
     "name": "stdout",
     "output_type": "stream",
     "text": [
      "Hello World\n",
      "<class 'float'>\n"
     ]
    }
   ],
   "source": [
    "print(\"Hello World\")\n",
    "print(type(num_2))"
   ]
  },
  {
   "cell_type": "markdown",
   "metadata": {},
   "source": [
    "We can print stull in the terminal if we are using the standard py file or to natebook if we are using jypeter "
   ]
  },
  {
   "cell_type": "code",
   "execution_count": 8,
   "metadata": {},
   "outputs": [
    {
     "data": {
      "text/plain": [
       "' \\nWe can write a multi line comment with three apostophies before snd after \\n'"
      ]
     },
     "execution_count": 8,
     "metadata": {},
     "output_type": "execute_result"
    }
   ],
   "source": [
    "''' \n",
    "We can write a multi line comment with three apostophies before snd after \n",
    "'''"
   ]
  },
  {
   "cell_type": "code",
   "execution_count": 17,
   "metadata": {},
   "outputs": [
    {
     "name": "stdout",
     "output_type": "stream",
     "text": [
      "1\n",
      "23456789\n",
      "13579\n",
      "987654321\n"
     ]
    }
   ],
   "source": [
    "num_string = \"123456789\"\n",
    "\n",
    "sub_string = num_string[0]\n",
    "\n",
    "print(sub_string)\n",
    "\n",
    "sub_string = num_string[1:]\n",
    "\n",
    "print(sub_string)\n",
    "\n",
    "sub_string = num_string[::2]  # every second item\n",
    "print(sub_string)\n",
    "\n",
    "sub_string = num_string[-1::-1]  # reverses the string \n",
    "print(sub_string)"
   ]
  },
  {
   "cell_type": "code",
   "execution_count": 19,
   "metadata": {},
   "outputs": [
    {
     "name": "stdout",
     "output_type": "stream",
     "text": [
      "CLAs\n"
     ]
    }
   ],
   "source": [
    "filename = \"CLAs.csv\"\n",
    "\n",
    "filename = filename[:-4] # slice out from the begining to the minus 4 elemenrt\n",
    "print(filename)"
   ]
  }
 ],
 "metadata": {
  "kernelspec": {
   "display_name": "Python 3",
   "language": "python",
   "name": "python3"
  },
  "language_info": {
   "name": "python",
   "version": "3.10.13"
  }
 },
 "nbformat": 4,
 "nbformat_minor": 2
}

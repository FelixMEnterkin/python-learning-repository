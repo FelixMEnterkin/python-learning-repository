{
 "cells": [
  {
   "cell_type": "markdown",
   "metadata": {},
   "source": [
    "# Session 9\n",
    "\n",
    "This session contains the code from workshop 9. In this session we start to look at app dovelopment creating a basic app that we will be able to publish this app to a Github hosted site. This app will performe a number of basic data analysis and visualisation to create a dashboard."
   ]
  },
  {
   "cell_type": "code",
   "execution_count": null,
   "metadata": {},
   "outputs": [],
   "source": [
    "# Session Set Up \n",
    "\n",
    "# we put the app in the if statement so that is ony runs if true\n",
    "# the easiest way it to create a load of functions and the add teh funtions to the app\n"
   ]
  },
  {
   "cell_type": "markdown",
   "metadata": {},
   "source": [
    "At the start we download sf-nova that allows us to test out apps in codespace. D2I built it. It lets you run streamlit packedges ion brower and in vs code. Streamlitlight can allow you to publish on your git hub.\n",
    "\n",
    "This allows us to avoid learning HTML or JAva. Streamlit does this all for us. \n",
    "\n",
    "When lookiing for a library we can just google the api i.e. search 'streamlit api' \n",
    "\n",
    "\n",
    "the appp itself consists of loading in the data with a drop box, \n",
    "reading that data as a csv\n",
    "an if sataement checks whether there is a file there `file != None` or simply just `if file:`\n",
    "\n",
    "Teh functions for the app can be defined before havd and then assembled in a master ingress funtion. and tho\n",
    "\n",
    "\n",
    "axis for teh drop commant 0 is columns 1 is rows \n",
    "\n"
   ]
  }
 ],
 "metadata": {
  "language_info": {
   "name": "python"
  }
 },
 "nbformat": 4,
 "nbformat_minor": 2
}

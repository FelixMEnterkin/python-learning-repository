{
 "cells": [
  {
   "cell_type": "markdown",
   "metadata": {},
   "source": [
    "# Session 8\n",
    "\n",
    "This file contains the session notes for session 8 of the course.\n",
    "\n",
    "Today we are looking at writing functions in python. These are incredible useful as they allow us to save a particular step or process and then apply it again when needed. The functions that we will be looking at in this session are not necisarrily usefull functions to build but rather they allow us to illustrate how we create and use our on functions."
   ]
  },
  {
   "cell_type": "code",
   "execution_count": 12,
   "metadata": {},
   "outputs": [],
   "source": [
    "# Set Up \n",
    "import pandas as pd"
   ]
  },
  {
   "cell_type": "code",
   "execution_count": 9,
   "metadata": {},
   "outputs": [
    {
     "data": {
      "text/plain": [
       "13"
      ]
     },
     "execution_count": 9,
     "metadata": {},
     "output_type": "execute_result"
    }
   ],
   "source": [
    "# We can define a function using the def command \n",
    "\n",
    "def sum_function(x, y):\n",
    "    '''\n",
    "    Finds the sum of two numbers, prints the result.\n",
    " \n",
    "    Args:\n",
    "        x: The first number to sum.\n",
    "        y: The second number to sum.\n",
    "   \n",
    "    Returns:\n",
    "        N/A\n",
    "    '''\n",
    "    z = x + y\n",
    "    return z \n",
    "\n",
    "sum_function(5,8)"
   ]
  },
  {
   "cell_type": "markdown",
   "metadata": {},
   "source": [
    "If we specify the imput in teh function using `x=` or `y=` then they do not have to be in the same order. However if we input two values without specifying it will take the former as x and the later as y, as the function is structured.\n",
    "\n",
    "The docstring is used to add additional information anout the function, this will appear in the popo up bubble/box when writing the function as with premade functions.  We can also ustlise doctring normally in the code chunck rather than using the # if we needed multiple lines."
   ]
  },
  {
   "cell_type": "code",
   "execution_count": 10,
   "metadata": {},
   "outputs": [
    {
     "data": {
      "text/plain": [
       "53"
      ]
     },
     "execution_count": 10,
     "metadata": {},
     "output_type": "execute_result"
    }
   ],
   "source": [
    "sum_function(y=8,x=45)"
   ]
  },
  {
   "cell_type": "markdown",
   "metadata": {},
   "source": [
    "## Specifying Arguments\n",
    "\n",
    "We could always speify a default parameter in the function call. This meamns that if we have not specified x then the default number will be 10. If we wanted to speciofy a number that couldnt be changed then we woul specify it in the body of the function rather tahnin the arguments. In the below function the function `summation` takes the arguments `x` and `y`. If no `x` or `y` values arev given then they both take the defult value of 10. `a` is also given the value of 10 in this function however as it is not done as an argument this cannot be changed. "
   ]
  },
  {
   "cell_type": "code",
   "execution_count": 5,
   "metadata": {},
   "outputs": [],
   "source": [
    "def sum_function(x=10, y=0):\n",
    "    a = 10 \n",
    "    z = x + y\n",
    "    return z\n"
   ]
  },
  {
   "cell_type": "code",
   "execution_count": null,
   "metadata": {},
   "outputs": [
    {
     "data": {
      "text/plain": [
       "3.0"
      ]
     },
     "execution_count": 4,
     "metadata": {},
     "output_type": "execute_result"
    }
   ],
   "source": [
    "# Now it's your go. Write a function, with an appropriate name\n",
    "# that divides one number by the other. Bonus points if you can make the function\n",
    "# always divide the largest of the two numbers by the smallest.\n",
    "# Get the function to print the answer\n",
    "\n",
    "def divide(x, y):\n",
    "    if x > y:\n",
    "        z = x/y\n",
    "    else:\n",
    "        z = y/x\n",
    "    return z\n",
    "\n",
    "divide(12,4)\n"
   ]
  },
  {
   "cell_type": "markdown",
   "metadata": {},
   "source": [
    "### Writing comments \n",
    "\n",
    "We need to write comments on our code so that we or someone else. This is not just critical for other people to be able to read outr code but it also allows future us wheather next week, next month or next year to understand why whe have writtern the code we have.\n",
    "\n",
    "When writing comments we don't need to explain the obvious. Code by its nature is self documenting and you can technically retrace and ste[p taht is performed. By looking at the functions and arguments we can trace exactly what a peice of code is doing, a quick google search will allow us to undestand what any specific pice of code does. What is important to explain is *why* code is there. \n",
    "\n",
    "Leaving explantions about why functions are needed not only helps others to undersnat the stages and function but makes reviewing the code far easier on the brain than attempting to disipher each intidudual funtion when we review our code. \n",
    "\n",
    "If we want to write a comment over multipel lines we can use a docstring. Here we will use sphinx doctrings which are quite common and a good way of explaining what a funtion does as it includes a description and example.\n",
    "### Function Scope \n",
    "\n",
    "Functions have a thing called function scope. In Python functions have *local scope* which means that variables initialised in a function are only accessable within the function - it does not leave the function (local scope). For instance, in the below while the values of `a` and `b` are returned if we tried to use the variables `a` or `b` after using the function they will not keep this value. This is different to a loop where if something is initialised it will be accessable outside of the loop - known as *global scope*. \n"
   ]
  },
  {
   "cell_type": "code",
   "execution_count": 6,
   "metadata": {},
   "outputs": [
    {
     "name": "stdout",
     "output_type": "stream",
     "text": [
      "10\n",
      "25\n",
      "30 1.4285714285714286\n"
     ]
    }
   ],
   "source": [
    "# write a function that returns x / y and x - y,\n",
    "# # always dividing the biggest by the smallest number\n",
    "# # and always taking the smallest fromt he biggest \n",
    "\n",
    "def func(x,y):\n",
    "    if x > y:\n",
    "        a = x / y \n",
    "        b = x - y\n",
    "    else:\n",
    "        a = y / x \n",
    "        b = y - x \n",
    "    return a , b\n",
    "\n",
    "func(100,20)\n",
    "\n",
    "\n",
    "# Example 1  \n",
    "def sum_prod(x, y):\n",
    "    sum_xy = x + y\n",
    "    prod_xy = x * y\n",
    "    return sum_xy, prod_xy\n",
    "\n",
    "x_plus_y, x_times_y = sum_prod(5, 5)\n",
    "\n",
    "print(x_plus_y)\n",
    "print(x_times_y)\n",
    "\n",
    "\n",
    "# Example 2 \n",
    "def minus_divide(x,y):\n",
    "    if x >= y:\n",
    "        big = x\n",
    "        small = y\n",
    "    else:\n",
    "        big = y\n",
    "        small = x\n",
    "    subtract = big - small\n",
    "    division = big / small\n",
    "\n",
    "    return subtract, division\n",
    "\n",
    "sub, div = minus_divide(70, 100)\n",
    "\n",
    "print(sub, div)\n"
   ]
  },
  {
   "cell_type": "markdown",
   "metadata": {},
   "source": [
    "If you are getting a function to perform lost of tasks it is better to define each one seperatly and then craete a master function that calls the other functions. this allows us to identify where a problem is far easier if we need to trouble shoot. "
   ]
  },
  {
   "cell_type": "markdown",
   "metadata": {},
   "source": [
    "We can also add optional parameters in python uining an *"
   ]
  },
  {
   "cell_type": "code",
   "execution_count": 2,
   "metadata": {},
   "outputs": [],
   "source": [
    "def func(x,y,*z):\n",
    "    return"
   ]
  },
  {
   "cell_type": "code",
   "execution_count": null,
   "metadata": {},
   "outputs": [
    {
     "data": {
      "text/plain": [
       "(25, 2.23606797749979)"
      ]
     },
     "execution_count": 9,
     "metadata": {},
     "output_type": "execute_result"
    }
   ],
   "source": [
    "# In this cell, first, import the 'math' module.\n",
    "# Next, write a function that squares a number (hint: you can simply uses x*x),\n",
    "# Now write a function that uses math.sqrt() to find the square root of a number\n",
    "# (hint: https://docs.python.org/3/library/math.html#math.sqrt)\n",
    "# Then, write a funciton that performs both of these functions and returns both answers,\n",
    "# Finally, call the function getting two variables as your answer, and print them.\n",
    "\n",
    "import math\n",
    "\n",
    "def square_f(x):\n",
    "    return x**2\n",
    "\n",
    "def root_f(x):\n",
    "    return math.sqrt(x)\n",
    "\n",
    "def master_function(x):\n",
    "    return square_f(x), root_f(x)\n",
    "\n",
    "master_function(5)"
   ]
  },
  {
   "cell_type": "code",
   "execution_count": null,
   "metadata": {},
   "outputs": [],
   "source": [
    "# Example \n",
    "def square_x(x):\n",
    "    return x ** 2\n",
    "\n",
    "def x_power_x(x):\n",
    "    return x ** x\n",
    "\n",
    "\n",
    "def big_maths(x):\n",
    "    sq = square_x(x)\n",
    "    x_p_x = x_power_x(x)    \n",
    "\n",
    "    return sq, x_p_x\n",
    "\n",
    "print(big_maths(50))"
   ]
  },
  {
   "cell_type": "markdown",
   "metadata": {},
   "source": [
    "We can also add optional arguments to functions. That is arguments taht can be given to a function but are not required for the function to run. In the case of the `prod_sum` because the default value for each is `None` then if arguments are not provided then they will take no value. "
   ]
  },
  {
   "cell_type": "code",
   "execution_count": null,
   "metadata": {},
   "outputs": [],
   "source": [
    "def prod_xy(x, y):\n",
    "    return x * y\n",
    "\n",
    "def sum_xy(x, y):\n",
    "    return x + y\n",
    "\n",
    "\n",
    "def prod_sum(x, y, i=None, j=None):\n",
    "    if i == None:\n",
    "        i = x\n",
    "    if j == None:\n",
    "        j = y\n",
    "\n",
    "    return prod_xy(x, y), sum_xy(i, j)\n",
    "\n",
    "\n",
    "print(prod_sum(5, 10, 7, 14))"
   ]
  },
  {
   "cell_type": "markdown",
   "metadata": {},
   "source": [
    "We can turn tasks that we want to perform on a dataframe into functions so that we can repeat the steps with similar datasets."
   ]
  },
  {
   "cell_type": "code",
   "execution_count": 9,
   "metadata": {},
   "outputs": [
    {
     "data": {
      "text/html": [
       "<div>\n",
       "<style scoped>\n",
       "    .dataframe tbody tr th:only-of-type {\n",
       "        vertical-align: middle;\n",
       "    }\n",
       "\n",
       "    .dataframe tbody tr th {\n",
       "        vertical-align: top;\n",
       "    }\n",
       "\n",
       "    .dataframe thead th {\n",
       "        text-align: right;\n",
       "    }\n",
       "</style>\n",
       "<table border=\"1\" class=\"dataframe\">\n",
       "  <thead>\n",
       "    <tr style=\"text-align: right;\">\n",
       "      <th></th>\n",
       "      <th>Unnamed: 0</th>\n",
       "      <th>LAchildID</th>\n",
       "      <th>Ethnicity</th>\n",
       "    </tr>\n",
       "  </thead>\n",
       "  <tbody>\n",
       "    <tr>\n",
       "      <th>0</th>\n",
       "      <td>0</td>\n",
       "      <td>RND000215205141</td>\n",
       "      <td>WIRT</td>\n",
       "    </tr>\n",
       "    <tr>\n",
       "      <th>1</th>\n",
       "      <td>1</td>\n",
       "      <td>RND000824303014</td>\n",
       "      <td>WROM</td>\n",
       "    </tr>\n",
       "    <tr>\n",
       "      <th>2</th>\n",
       "      <td>2</td>\n",
       "      <td>RND000750143123</td>\n",
       "      <td>AOTH</td>\n",
       "    </tr>\n",
       "    <tr>\n",
       "      <th>3</th>\n",
       "      <td>3</td>\n",
       "      <td>RND000909164501</td>\n",
       "      <td>MWBC</td>\n",
       "    </tr>\n",
       "    <tr>\n",
       "      <th>4</th>\n",
       "      <td>4</td>\n",
       "      <td>RND000382171815</td>\n",
       "      <td>APKN</td>\n",
       "    </tr>\n",
       "    <tr>\n",
       "      <th>...</th>\n",
       "      <td>...</td>\n",
       "      <td>...</td>\n",
       "      <td>...</td>\n",
       "    </tr>\n",
       "    <tr>\n",
       "      <th>327</th>\n",
       "      <td>327</td>\n",
       "      <td>RND000112711501</td>\n",
       "      <td>WOTH</td>\n",
       "    </tr>\n",
       "    <tr>\n",
       "      <th>328</th>\n",
       "      <td>328</td>\n",
       "      <td>RND000513120794</td>\n",
       "      <td>WROM</td>\n",
       "    </tr>\n",
       "    <tr>\n",
       "      <th>329</th>\n",
       "      <td>329</td>\n",
       "      <td>RND000541643134</td>\n",
       "      <td>BCRB</td>\n",
       "    </tr>\n",
       "    <tr>\n",
       "      <th>330</th>\n",
       "      <td>330</td>\n",
       "      <td>RND000404939452</td>\n",
       "      <td>AIND</td>\n",
       "    </tr>\n",
       "    <tr>\n",
       "      <th>331</th>\n",
       "      <td>331</td>\n",
       "      <td>RND000589802835</td>\n",
       "      <td>WBRI</td>\n",
       "    </tr>\n",
       "  </tbody>\n",
       "</table>\n",
       "<p>332 rows × 3 columns</p>\n",
       "</div>"
      ],
      "text/plain": [
       "     Unnamed: 0        LAchildID Ethnicity\n",
       "0             0  RND000215205141      WIRT\n",
       "1             1  RND000824303014      WROM\n",
       "2             2  RND000750143123      AOTH\n",
       "3             3  RND000909164501      MWBC\n",
       "4             4  RND000382171815      APKN\n",
       "..          ...              ...       ...\n",
       "327         327  RND000112711501      WOTH\n",
       "328         328  RND000513120794      WROM\n",
       "329         329  RND000541643134      BCRB\n",
       "330         330  RND000404939452      AIND\n",
       "331         331  RND000589802835      WBRI\n",
       "\n",
       "[332 rows x 3 columns]"
      ]
     },
     "execution_count": 9,
     "metadata": {},
     "output_type": "execute_result"
    }
   ],
   "source": [
    "import pandas as pd \n",
    "\n",
    "df = pd.read_csv(r'https://raw.githubusercontent.com/data-to-insight/ERN-sessions/main/data/ChildCharacteristics.csv')\n",
    "df"
   ]
  },
  {
   "cell_type": "code",
   "execution_count": null,
   "metadata": {},
   "outputs": [],
   "source": [
    "def ethnic_check(row):\n",
    "    if row in ['WIRT', 'WIRI', 'WBRI', 'WROM', 'WOTH']:\n",
    "        return 'white'\n",
    "    else:\n",
    "        return 'non-white'\n",
    "    \n",
    "df['white'] = df['Ethnicity'].apply(ethnic_check)    \n",
    "\n",
    "df\n"
   ]
  },
  {
   "cell_type": "markdown",
   "metadata": {},
   "source": [
    "## Task"
   ]
  },
  {
   "cell_type": "code",
   "execution_count": 11,
   "metadata": {},
   "outputs": [
    {
     "data": {
      "text/html": [
       "<div>\n",
       "<style scoped>\n",
       "    .dataframe tbody tr th:only-of-type {\n",
       "        vertical-align: middle;\n",
       "    }\n",
       "\n",
       "    .dataframe tbody tr th {\n",
       "        vertical-align: top;\n",
       "    }\n",
       "\n",
       "    .dataframe thead th {\n",
       "        text-align: right;\n",
       "    }\n",
       "</style>\n",
       "<table border=\"1\" class=\"dataframe\">\n",
       "  <thead>\n",
       "    <tr style=\"text-align: right;\">\n",
       "      <th></th>\n",
       "      <th>PersonBirthDate</th>\n",
       "      <th>Age bucket</th>\n",
       "    </tr>\n",
       "  </thead>\n",
       "  <tbody>\n",
       "    <tr>\n",
       "      <th>0</th>\n",
       "      <td>2019-12-06</td>\n",
       "      <td>0 - 5 years old</td>\n",
       "    </tr>\n",
       "    <tr>\n",
       "      <th>1</th>\n",
       "      <td>2011-04-27</td>\n",
       "      <td>12 - 17 years old</td>\n",
       "    </tr>\n",
       "    <tr>\n",
       "      <th>2</th>\n",
       "      <td>2017-06-06</td>\n",
       "      <td>6 - 11 years old</td>\n",
       "    </tr>\n",
       "    <tr>\n",
       "      <th>3</th>\n",
       "      <td>2014-10-03</td>\n",
       "      <td>6 - 11 years old</td>\n",
       "    </tr>\n",
       "    <tr>\n",
       "      <th>4</th>\n",
       "      <td>2019-09-25</td>\n",
       "      <td>0 - 5 years old</td>\n",
       "    </tr>\n",
       "    <tr>\n",
       "      <th>...</th>\n",
       "      <td>...</td>\n",
       "      <td>...</td>\n",
       "    </tr>\n",
       "    <tr>\n",
       "      <th>327</th>\n",
       "      <td>2010-07-07</td>\n",
       "      <td>12 - 17 years old</td>\n",
       "    </tr>\n",
       "    <tr>\n",
       "      <th>328</th>\n",
       "      <td>2018-08-14</td>\n",
       "      <td>0 - 5 years old</td>\n",
       "    </tr>\n",
       "    <tr>\n",
       "      <th>329</th>\n",
       "      <td>2021-12-09</td>\n",
       "      <td>0 - 5 years old</td>\n",
       "    </tr>\n",
       "    <tr>\n",
       "      <th>330</th>\n",
       "      <td>2013-07-23</td>\n",
       "      <td>6 - 11 years old</td>\n",
       "    </tr>\n",
       "    <tr>\n",
       "      <th>331</th>\n",
       "      <td>2021-10-25</td>\n",
       "      <td>0 - 5 years old</td>\n",
       "    </tr>\n",
       "  </tbody>\n",
       "</table>\n",
       "<p>332 rows × 2 columns</p>\n",
       "</div>"
      ],
      "text/plain": [
       "    PersonBirthDate         Age bucket\n",
       "0        2019-12-06    0 - 5 years old\n",
       "1        2011-04-27  12 - 17 years old\n",
       "2        2017-06-06   6 - 11 years old\n",
       "3        2014-10-03   6 - 11 years old\n",
       "4        2019-09-25    0 - 5 years old\n",
       "..              ...                ...\n",
       "327      2010-07-07  12 - 17 years old\n",
       "328      2018-08-14    0 - 5 years old\n",
       "329      2021-12-09    0 - 5 years old\n",
       "330      2013-07-23   6 - 11 years old\n",
       "331      2021-10-25    0 - 5 years old\n",
       "\n",
       "[332 rows x 2 columns]"
      ]
     },
     "execution_count": 11,
     "metadata": {},
     "output_type": "execute_result"
    }
   ],
   "source": [
    "'''\n",
    "'https://raw.githubusercontent.com/data-to-insight/ERN-sessions/main/data/ChildIdentifiers.csv'\n",
    "write a function that calculates ages based on the data, and returns a new column in age range buckets\n",
    "0-5, 6-11, 12-17, 17+\n",
    " \n",
    "convert that to a datetime\n",
    "find the difference between the datetime and today\n",
    "if else statements to put that difference in time in a bucket\n",
    "return as a string the appropriate buckets to a new column\n",
    " \n",
    "'''\n",
    "\n",
    "df = pd.read_csv(f'https://raw.githubusercontent.com/data-to-insight/ERN-sessions/main/data/ChildIdentifiers.csv')\n",
    "\n",
    "# Example\n",
    "def age_bucket(date):\n",
    "    \n",
    "    bd = pd.to_datetime(date, format=\"%Y-%m-%d\")\n",
    "\n",
    "    age = pd.to_datetime('today') - bd\n",
    "\n",
    "    age = age / pd.Timedelta(365.25, 'd')\n",
    "\n",
    "    if age < 6:\n",
    "        return '0 - 5 years old'\n",
    "    elif age < 12:\n",
    "        return '6 - 11 years old'\n",
    "    elif age < 18:\n",
    "        return '12 - 17 years old'\n",
    "    else:\n",
    "        return '18+ years old'\n",
    "    \n",
    "df['Age bucket'] = df['PersonBirthDate'].apply(age_bucket)\n",
    "\n",
    "df[['PersonBirthDate', 'Age bucket']]\n",
    "\n",
    "\n",
    "\n"
   ]
  },
  {
   "cell_type": "code",
   "execution_count": 13,
   "metadata": {},
   "outputs": [
    {
     "data": {
      "text/html": [
       "<div>\n",
       "<style scoped>\n",
       "    .dataframe tbody tr th:only-of-type {\n",
       "        vertical-align: middle;\n",
       "    }\n",
       "\n",
       "    .dataframe tbody tr th {\n",
       "        vertical-align: top;\n",
       "    }\n",
       "\n",
       "    .dataframe thead th {\n",
       "        text-align: right;\n",
       "    }\n",
       "</style>\n",
       "<table border=\"1\" class=\"dataframe\">\n",
       "  <thead>\n",
       "    <tr style=\"text-align: right;\">\n",
       "      <th></th>\n",
       "      <th>PersonBirthDate</th>\n",
       "      <th>Age Bucket</th>\n",
       "    </tr>\n",
       "  </thead>\n",
       "  <tbody>\n",
       "    <tr>\n",
       "      <th>0</th>\n",
       "      <td>2019-12-06</td>\n",
       "      <td>0-5 years</td>\n",
       "    </tr>\n",
       "    <tr>\n",
       "      <th>1</th>\n",
       "      <td>2011-04-27</td>\n",
       "      <td>12-17 years</td>\n",
       "    </tr>\n",
       "    <tr>\n",
       "      <th>2</th>\n",
       "      <td>2017-06-06</td>\n",
       "      <td>6-11 years</td>\n",
       "    </tr>\n",
       "    <tr>\n",
       "      <th>3</th>\n",
       "      <td>2014-10-03</td>\n",
       "      <td>6-11 years</td>\n",
       "    </tr>\n",
       "    <tr>\n",
       "      <th>4</th>\n",
       "      <td>2019-09-25</td>\n",
       "      <td>0-5 years</td>\n",
       "    </tr>\n",
       "    <tr>\n",
       "      <th>...</th>\n",
       "      <td>...</td>\n",
       "      <td>...</td>\n",
       "    </tr>\n",
       "    <tr>\n",
       "      <th>327</th>\n",
       "      <td>2010-07-07</td>\n",
       "      <td>12-17 years</td>\n",
       "    </tr>\n",
       "    <tr>\n",
       "      <th>328</th>\n",
       "      <td>2018-08-14</td>\n",
       "      <td>0-5 years</td>\n",
       "    </tr>\n",
       "    <tr>\n",
       "      <th>329</th>\n",
       "      <td>2021-12-09</td>\n",
       "      <td>0-5 years</td>\n",
       "    </tr>\n",
       "    <tr>\n",
       "      <th>330</th>\n",
       "      <td>2013-07-23</td>\n",
       "      <td>6-11 years</td>\n",
       "    </tr>\n",
       "    <tr>\n",
       "      <th>331</th>\n",
       "      <td>2021-10-25</td>\n",
       "      <td>0-5 years</td>\n",
       "    </tr>\n",
       "  </tbody>\n",
       "</table>\n",
       "<p>332 rows × 2 columns</p>\n",
       "</div>"
      ],
      "text/plain": [
       "    PersonBirthDate   Age Bucket\n",
       "0        2019-12-06    0-5 years\n",
       "1        2011-04-27  12-17 years\n",
       "2        2017-06-06   6-11 years\n",
       "3        2014-10-03   6-11 years\n",
       "4        2019-09-25    0-5 years\n",
       "..              ...          ...\n",
       "327      2010-07-07  12-17 years\n",
       "328      2018-08-14    0-5 years\n",
       "329      2021-12-09    0-5 years\n",
       "330      2013-07-23   6-11 years\n",
       "331      2021-10-25    0-5 years\n",
       "\n",
       "[332 rows x 2 columns]"
      ]
     },
     "execution_count": 13,
     "metadata": {},
     "output_type": "execute_result"
    }
   ],
   "source": [
    "\n",
    "df = pd.read_csv(f'https://raw.githubusercontent.com/data-to-insight/ERN-sessions/main/data/ChildIdentifiers.csv')\n",
    "\n",
    "df\n",
    "df = pd.read_csv('https://raw.githubusercontent.com/data-to-insight/ERN-sessions/main/data/ChildIdentifiers.csv')\n",
    "\n",
    "\n",
    "def bucket_maker(date_code):\n",
    "    \n",
    "    bday = pd.to_datetime(date_code, format=\"%Y-%m-%d\")\n",
    "    today = pd.to_datetime('today')\n",
    "\n",
    "    if bday + pd.DateOffset(years=6) > today:\n",
    "        return '0-5 years'\n",
    "    elif bday + pd.DateOffset(years=12) > today:\n",
    "        return '6-11 years'\n",
    "    elif bday + pd.DateOffset(years=18) > today:\n",
    "        return '12-17 years'\n",
    "    else:\n",
    "        return '18+'\n",
    "    \n",
    "\n",
    "\n",
    "df['Age Bucket'] = df['PersonBirthDate'].apply(bucket_maker)\n",
    "\n",
    "df[['PersonBirthDate', 'Age Bucket']]"
   ]
  },
  {
   "cell_type": "code",
   "execution_count": null,
   "metadata": {},
   "outputs": [],
   "source": [
    "df = pd.read_csv('https://raw.githubusercontent.com/data-to-insight/ERN-sessions/main/data/ChildIdentifiers.csv')\n",
    "\n",
    "\n",
    "def bucket_maker(date_code):\n",
    "    bday = pd.to_datetime(date_code, format=\"%Y-%m-%d\")\n",
    "    today = pd.to_datetime('today')\n",
    " \n",
    "    if bday + pd.DateOffset(years=6) > today:\n",
    "        return '0-5 years'\n",
    "    elif bday + pd.DateOffset(years=12) > today:\n",
    "        return '6-11 years'\n",
    "    elif bday + pd.DateOffset(years=18) > today:\n",
    "        return '12-17 years'\n",
    "    else:\n",
    "        return '18+'\n",
    "    \n",
    "\n",
    "df['Age Bucket'] = df['PersonBirthDate'].apply(bucket_maker)\n",
    "\n",
    "df[['PersonBirthDate', 'Age Bucket']]"
   ]
  }
 ],
 "metadata": {
  "kernelspec": {
   "display_name": "Python 3",
   "language": "python",
   "name": "python3"
  },
  "language_info": {
   "codemirror_mode": {
    "name": "ipython",
    "version": 3
   },
   "file_extension": ".py",
   "mimetype": "text/x-python",
   "name": "python",
   "nbconvert_exporter": "python",
   "pygments_lexer": "ipython3",
   "version": "3.10.13"
  }
 },
 "nbformat": 4,
 "nbformat_minor": 2
}

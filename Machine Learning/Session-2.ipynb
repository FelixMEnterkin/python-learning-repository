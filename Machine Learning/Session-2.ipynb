{
 "cells": [
  {
   "cell_type": "markdown",
   "metadata": {},
   "source": [
    "# Session 2 - Forcasting in Python with Pycaret\n",
    "\n",
    "We will look at using time series as well as making a forecast. \n",
    "This is more macheine learning.\n",
    "\n",
    "We will be using the `pycaret` packedge rather than `SciKit`. It is supposed to be a less code intensive way to do machine learning."
   ]
  },
  {
   "cell_type": "code",
   "execution_count": 2,
   "metadata": {},
   "outputs": [
    {
     "ename": "RuntimeError",
     "evalue": "('Pycaret only supports python 3.9, 3.10, 3.11. Your actual Python version: ', sys.version_info(major=3, minor=12, micro=1, releaselevel='final', serial=0), 'Please DOWNGRADE your Python version.')",
     "output_type": "error",
     "traceback": [
      "\u001b[0;31m---------------------------------------------------------------------------\u001b[0m",
      "\u001b[0;31mRuntimeError\u001b[0m                              Traceback (most recent call last)",
      "Cell \u001b[0;32mIn[2], line 3\u001b[0m\n\u001b[1;32m      1\u001b[0m \u001b[38;5;66;03m# we must first install pycaret in the terminal usinhg pip install \u001b[39;00m\n\u001b[0;32m----> 3\u001b[0m \u001b[38;5;28;01mfrom\u001b[39;00m \u001b[38;5;21;01mpycaret\u001b[39;00m\u001b[38;5;21;01m.\u001b[39;00m\u001b[38;5;21;01mregression\u001b[39;00m \u001b[38;5;28;01mimport\u001b[39;00m \u001b[38;5;241m*\u001b[39m\n",
      "File \u001b[0;32m~/.python/current/lib/python3.12/site-packages/pycaret/__init__.py:22\u001b[0m\n\u001b[1;32m     16\u001b[0m     \u001b[38;5;28;01mraise\u001b[39;00m \u001b[38;5;167;01mRuntimeError\u001b[39;00m(\n\u001b[1;32m     17\u001b[0m         \u001b[38;5;124m\"\u001b[39m\u001b[38;5;124mPycaret only supports python 3.9, 3.10, 3.11. Your actual Python version: \u001b[39m\u001b[38;5;124m\"\u001b[39m,\n\u001b[1;32m     18\u001b[0m         sys\u001b[38;5;241m.\u001b[39mversion_info,\n\u001b[1;32m     19\u001b[0m         \u001b[38;5;124m\"\u001b[39m\u001b[38;5;124mPlease UPGRADE your Python version.\u001b[39m\u001b[38;5;124m\"\u001b[39m,\n\u001b[1;32m     20\u001b[0m     )\n\u001b[1;32m     21\u001b[0m \u001b[38;5;28;01melif\u001b[39;00m sys\u001b[38;5;241m.\u001b[39mversion_info \u001b[38;5;241m>\u001b[39m\u001b[38;5;241m=\u001b[39m (\u001b[38;5;241m3\u001b[39m, \u001b[38;5;241m12\u001b[39m):\n\u001b[0;32m---> 22\u001b[0m     \u001b[38;5;28;01mraise\u001b[39;00m \u001b[38;5;167;01mRuntimeError\u001b[39;00m(\n\u001b[1;32m     23\u001b[0m         \u001b[38;5;124m\"\u001b[39m\u001b[38;5;124mPycaret only supports python 3.9, 3.10, 3.11. Your actual Python version: \u001b[39m\u001b[38;5;124m\"\u001b[39m,\n\u001b[1;32m     24\u001b[0m         sys\u001b[38;5;241m.\u001b[39mversion_info,\n\u001b[1;32m     25\u001b[0m         \u001b[38;5;124m\"\u001b[39m\u001b[38;5;124mPlease DOWNGRADE your Python version.\u001b[39m\u001b[38;5;124m\"\u001b[39m,\n\u001b[1;32m     26\u001b[0m     )\n",
      "\u001b[0;31mRuntimeError\u001b[0m: ('Pycaret only supports python 3.9, 3.10, 3.11. Your actual Python version: ', sys.version_info(major=3, minor=12, micro=1, releaselevel='final', serial=0), 'Please DOWNGRADE your Python version.')"
     ]
    }
   ],
   "source": [
    "# we must first install pycaret in the terminal usinhg pip install \n",
    "\n",
    "from pycaret.regression import * "
   ]
  },
  {
   "cell_type": "code",
   "execution_count": 3,
   "metadata": {},
   "outputs": [
    {
     "ename": "RuntimeError",
     "evalue": "('Pycaret only supports python 3.9, 3.10, 3.11. Your actual Python version: ', sys.version_info(major=3, minor=12, micro=1, releaselevel='final', serial=0), 'Please DOWNGRADE your Python version.')",
     "output_type": "error",
     "traceback": [
      "\u001b[0;31m---------------------------------------------------------------------------\u001b[0m",
      "\u001b[0;31mRuntimeError\u001b[0m                              Traceback (most recent call last)",
      "Cell \u001b[0;32mIn[3], line 1\u001b[0m\n\u001b[0;32m----> 1\u001b[0m \u001b[38;5;28;01mfrom\u001b[39;00m \u001b[38;5;21;01mpycaret\u001b[39;00m\u001b[38;5;21;01m.\u001b[39;00m\u001b[38;5;21;01mregression\u001b[39;00m \u001b[38;5;28;01mimport\u001b[39;00m \u001b[38;5;241m*\u001b[39m\n\u001b[1;32m      3\u001b[0m \u001b[38;5;28;01mimport\u001b[39;00m \u001b[38;5;21;01mpandas\u001b[39;00m \u001b[38;5;28;01mas\u001b[39;00m \u001b[38;5;21;01mpd\u001b[39;00m\n\u001b[1;32m      4\u001b[0m \u001b[38;5;28;01mimport\u001b[39;00m \u001b[38;5;21;01mnumpy\u001b[39;00m \u001b[38;5;28;01mas\u001b[39;00m \u001b[38;5;21;01mnp\u001b[39;00m\n",
      "File \u001b[0;32m~/.python/current/lib/python3.12/site-packages/pycaret/__init__.py:22\u001b[0m\n\u001b[1;32m     16\u001b[0m     \u001b[38;5;28;01mraise\u001b[39;00m \u001b[38;5;167;01mRuntimeError\u001b[39;00m(\n\u001b[1;32m     17\u001b[0m         \u001b[38;5;124m\"\u001b[39m\u001b[38;5;124mPycaret only supports python 3.9, 3.10, 3.11. Your actual Python version: \u001b[39m\u001b[38;5;124m\"\u001b[39m,\n\u001b[1;32m     18\u001b[0m         sys\u001b[38;5;241m.\u001b[39mversion_info,\n\u001b[1;32m     19\u001b[0m         \u001b[38;5;124m\"\u001b[39m\u001b[38;5;124mPlease UPGRADE your Python version.\u001b[39m\u001b[38;5;124m\"\u001b[39m,\n\u001b[1;32m     20\u001b[0m     )\n\u001b[1;32m     21\u001b[0m \u001b[38;5;28;01melif\u001b[39;00m sys\u001b[38;5;241m.\u001b[39mversion_info \u001b[38;5;241m>\u001b[39m\u001b[38;5;241m=\u001b[39m (\u001b[38;5;241m3\u001b[39m, \u001b[38;5;241m12\u001b[39m):\n\u001b[0;32m---> 22\u001b[0m     \u001b[38;5;28;01mraise\u001b[39;00m \u001b[38;5;167;01mRuntimeError\u001b[39;00m(\n\u001b[1;32m     23\u001b[0m         \u001b[38;5;124m\"\u001b[39m\u001b[38;5;124mPycaret only supports python 3.9, 3.10, 3.11. Your actual Python version: \u001b[39m\u001b[38;5;124m\"\u001b[39m,\n\u001b[1;32m     24\u001b[0m         sys\u001b[38;5;241m.\u001b[39mversion_info,\n\u001b[1;32m     25\u001b[0m         \u001b[38;5;124m\"\u001b[39m\u001b[38;5;124mPlease DOWNGRADE your Python version.\u001b[39m\u001b[38;5;124m\"\u001b[39m,\n\u001b[1;32m     26\u001b[0m     )\n",
      "\u001b[0;31mRuntimeError\u001b[0m: ('Pycaret only supports python 3.9, 3.10, 3.11. Your actual Python version: ', sys.version_info(major=3, minor=12, micro=1, releaselevel='final', serial=0), 'Please DOWNGRADE your Python version.')"
     ]
    }
   ],
   "source": [
    "from pycaret.regression import *\n",
    " \n",
    "import pandas as pd\n",
    "import numpy as np\n",
    " \n",
    "df = pd.read_csv(r'https://raw.githubusercontent.com/data-to-insight/ERN-sessions/main/data/1980%202023%20average%20house%20prices.csv')\n",
    "df['Period'] = pd.to_datetime(df['Period'], format=\"%Y-%m\")\n",
    " \n",
    "df['Series'] = np.arange(1, len(df)+1)\n",
    " \n",
    "df = df[['Period', 'Average price All property types', 'Series']]\n",
    " \n",
    "df\n",
    " \n",
    "model_data = df[df['Period'] < pd.to_datetime(\"2011-01-01\", format=\"%Y-%m-%d\")]\n",
    "comparison_data = df[df['Period'] >= pd.to_datetime(\"2011-01-01\", format=\"%Y-%m-%d\")]\n",
    "comparison_data\n",
    " "
   ]
  },
  {
   "cell_type": "code",
   "execution_count": null,
   "metadata": {},
   "outputs": [],
   "source": [
    "model_data = df[df['Period'] < pd.to_datetime(\"2011-01-01\", format=\"%Y-%m-%d\")]\n",
    "comparison_data = df[df['Period'] >= pd.to_datetime(\"2011-01-01\", format=\"%Y-%m-%d\")]\n",
    " \n",
    "s = setup(\n",
    "    data=model_data,\n",
    "    train_size=0.7,\n",
    "    target='Average price All property types',\n",
    "    date_features=['Period'],\n",
    "    ignore_features=['Series'],\n",
    "    fold_strategy='timeseries',\n",
    "    fold=3,\n",
    "    data_split_shuffle=False,\n",
    "    fold_shuffle=False\n",
    ")\n",
    "\n"
   ]
  },
  {
   "cell_type": "code",
   "execution_count": null,
   "metadata": {},
   "outputs": [],
   "source": [
    "final_real_val = model_data['Average price All property types'].iloc[-1]\n",
    "first_predicted_val = predictions_future['prediction_label'].iloc[0]\n",
    " \n",
    "all_data['corrected val'] = all_data['prediction_label'] - first_predicted_val + final_real_val\n",
    " \n",
    "fig = px.line(all_data, x=all_data['Period'], y=['Average price All property types', 'corrected val'])\n",
    "fig.add_scatter(x=df['Period'], y=df['Average price All property types'])\n",
    " \n",
    "fig.show()\n",
    " "
   ]
  },
  {
   "cell_type": "code",
   "execution_count": null,
   "metadata": {},
   "outputs": [],
   "source": [
    "model_data = df[(df['Period'] < pd.to_datetime(\"2011-01-01\", format=\"%Y-%m-%d\")) & (\n",
    "    df['Period'] > pd.to_datetime(\"2000-01-01\", format=\"%Y-%m-%d\"))]\n",
    "comparison_data = df[df['Period'] >= pd.to_datetime(\"2011-01-01\", format=\"%Y-%m-%d\")]\n",
    " \n",
    "s = setup(\n",
    "    data=model_data,\n",
    "    train_size=0.7,\n",
    "    target='Average price All property types',\n",
    "    date_features=['Period'],\n",
    "    ignore_features=['Series'],\n",
    "    fold_strategy='timeseries',\n",
    "    fold=3,\n",
    "    data_split_shuffle=False,\n",
    "    fold_shuffle=False\n",
    ")"
   ]
  }
 ],
 "metadata": {
  "kernelspec": {
   "display_name": "Python 3",
   "language": "python",
   "name": "python3"
  },
  "language_info": {
   "codemirror_mode": {
    "name": "ipython",
    "version": 3
   },
   "file_extension": ".py",
   "mimetype": "text/x-python",
   "name": "python",
   "nbconvert_exporter": "python",
   "pygments_lexer": "ipython3",
   "version": "3.12.1"
  }
 },
 "nbformat": 4,
 "nbformat_minor": 2
}

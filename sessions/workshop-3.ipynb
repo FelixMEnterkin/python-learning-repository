{
 "cells": [
  {
   "cell_type": "markdown",
   "metadata": {},
   "source": [
    "# Session 5\n",
    "\n",
    "### Points on Making Functions\n",
    "\n",
    "Make functions as simple as possible\n",
    "\n",
    "* Use meaningful names for functions (and variables, classes etc.) e.g. check_year\n",
    "\n",
    "* Create docstrings for every function describing what it does\n",
    "\n",
    "* Create unit tests for as many functions as possible\n",
    "\n",
    "* Always work on a non /main branch\n",
    "\n",
    "* Create new branches for each issue you want to fix\n",
    "\n",
    "* Don't repeat yourself (if you're going to do something multiple times try and turn it into a function/class)\n",
    "\n"
   ]
  },
  {
   "cell_type": "markdown",
   "metadata": {},
   "source": [
    "Functions are repeatable bits of code, a good rule of thumb is if you think you might have to repeat an action more than once, write it as a function, and if you find yourself repeating an action more than once, re-write it as a function."
   ]
  },
  {
   "cell_type": "code",
   "execution_count": 9,
   "metadata": {},
   "outputs": [
    {
     "name": "stdout",
     "output_type": "stream",
     "text": [
      "9\n"
     ]
    }
   ],
   "source": [
    "# We tell Python we want to start defining a function with def, name it (generally snake case), \n",
    "# put arguments in brackets, then colon to start defining\n",
    "\n",
    "def sum_function(x, y): \n",
    "    '''It is good practice to write a docstring for every function explaining what it does.\n",
    "    These are done with three apostrphes. Different organisations/repos will have preferences \n",
    "    for the style a docstring should use. Generally, a docstring says: what a  function does,\n",
    "     what goes in, what comes out. Here is a docstring example for this function:\n",
    "     \n",
    "     Adds two numbers, returns the result.\n",
    "     \n",
    "     Args:\n",
    "        x, y: Numbers to be added\n",
    "    \n",
    "    Returns:\n",
    "        z: The sum of the args x and y.\n",
    "    '''\n",
    "    z = x + y\n",
    "    # The return statement is important, when you set a variable equal to a function,\n",
    "    # it tells Python what you want the variable to equal\n",
    "    return z \n",
    "sum_4_5 = sum_function(4, 5)\n",
    "print(sum_4_5)\n"
   ]
  },
  {
   "cell_type": "markdown",
   "metadata": {},
   "source": [
    "When writing a function we can make a docstring that conains a description of what teh function does. The standard format details what the function does, where it goes and what it returns. In this exampel above the docstring also includesa a description of each argument that the function takes. When the cursor is whithin the brackets of the function teh docstring is the description box that pops up. We can see this with pre-built bpackedges from python librarys however we can also test this by building out own functions and creating custom docstrings."
   ]
  },
  {
   "cell_type": "code",
   "execution_count": 10,
   "metadata": {},
   "outputs": [
    {
     "data": {
      "text/plain": [
       "5.0"
      ]
     },
     "execution_count": 10,
     "metadata": {},
     "output_type": "execute_result"
    }
   ],
   "source": [
    "# Now it's your go. Write a function, with an appropriate name and a \n",
    "# docstring that explains: what it does, the arguments, and what it returns,\n",
    "# that divides one number by the other. Bonus points if you can make the function \n",
    "# always divide the larges of the two numbers by the smallest.\n",
    "# Call the function and print it.\n",
    "\n",
    "def divide_large(x,y):\n",
    "    '''\n",
    "    This function sorts two numbers by size. Then divids the larger number by the smaller.\n",
    "    Args:\n",
    "        x,y: Numers to be input \n",
    "    Return:\n",
    "        z: The result of dividing the larger number than the smaller\n",
    "    '''\n",
    "    if x > y:\n",
    "        z = x / y\n",
    "    elif y > x:\n",
    "        z = y / x \n",
    "    else:\n",
    "        z = f'Numbers are Equal'\n",
    "\n",
    "    return z \n",
    "\n",
    "divide_large(25,5)\n",
    "\n",
    "\n"
   ]
  },
  {
   "cell_type": "code",
   "execution_count": 11,
   "metadata": {},
   "outputs": [
    {
     "name": "stdout",
     "output_type": "stream",
     "text": [
      "The sum of 3 and 4 is 7     \n",
      "The product of 3 and 4 is 12.\n"
     ]
    }
   ],
   "source": [
    "# Notice the names of the functions explain clearly what the function will do\n",
    "def sum_prod(x, y): \n",
    "    '''Finds the sum and product of two numbers, returning the result.\n",
    "    \n",
    "    Args:\n",
    "        x, y: Numbers for which the sum and product will be found.\n",
    "        \n",
    "    Returns:\n",
    "        sum: The sum of x and y.\n",
    "        prod: The product of x and y.\n",
    "    '''\n",
    "\n",
    "    sum = x + y\n",
    "    prod = x * y\n",
    "    # Notice here the function returns two things, when we call the function, \n",
    "    # notice how we assign variables to each of those variables\n",
    "    return sum, prod \n",
    "\n",
    "sum_3_4, prod_3_4 = sum_prod(3, 4)\n",
    "\n",
    "# In the print statement below we've used an f string to allow us to use \n",
    "# variables inside the string (preceed with an f, variables inside {})\n",
    "# We've also written the string over two lines, using \\ to tell \n",
    "# Python the string continues on the next line.\n",
    "# We have also used \\n to tell Python that there should be a line break in the string\n",
    "\n",
    "print(f'The sum of 3 and 4 is {sum_3_4}\\\n",
    "     \\nThe product of 3 and 4 is {prod_3_4}.') "
   ]
  },
  {
   "cell_type": "code",
   "execution_count": 12,
   "metadata": {},
   "outputs": [
    {
     "name": "stdout",
     "output_type": "stream",
     "text": [
      "The number 10 divided by 5 is 2      \n",
      "The number 10 minus 5 is 5 \n"
     ]
    }
   ],
   "source": [
    "# Write a new function that takes two numbers as an argument and returns \n",
    "# the answer when one is divided by the other, and the answer when one is subtracked from the other.\n",
    "# Return both answers and assign them variables, then print these two variables.\n",
    "\n",
    "def div_min(x, y): \n",
    "    '''Divide and subtract two numbers\n",
    "    args:\n",
    "        x,y: the numerator and the demoniator \n",
    "\n",
    "    Return:\n",
    "        div: the first number divide by the second\n",
    "        minus: the first number minus the second \n",
    "    '''\n",
    "    div = x / y \n",
    "    minus = x - y\n",
    "    return div, minus\n",
    "\n",
    "div, min = div_min(10, 5)\n",
    "\n",
    "print(f'The number 10 divided by 5 is {int(div)}\\\n",
    "      \\nThe number 10 minus 5 is {min} ')"
   ]
  },
  {
   "cell_type": "markdown",
   "metadata": {},
   "source": [
    "We generally want functions do do the most suitably simple thing we can, which often means chaining functions, putting multiple functions inside others. This way each individual step can be turned into its own function and these can be assabled into a more coplicated function. The advantage of this, I assume, is that it is easier to trouble shoot as you will be able to identify which sub function an error occured in."
   ]
  },
  {
   "cell_type": "code",
   "execution_count": 13,
   "metadata": {},
   "outputs": [
    {
     "name": "stdout",
     "output_type": "stream",
     "text": [
      "11 30\n"
     ]
    }
   ],
   "source": [
    "def sum_xy(x, y):\n",
    "    ''' Sums two values.\n",
    "    \n",
    "    Args:\n",
    "        x, y (int): values to be summed.\n",
    "    \n",
    "    Returns:\n",
    "        Sum of x and y.\n",
    "    '''\n",
    "    return x + y\n",
    "\n",
    "\n",
    "def prod_xy(x, y):\n",
    "    '''Find the product of two values.\n",
    "    \n",
    "    Args:\n",
    "        x, y (int): values to be multipled.\n",
    "    \n",
    "    Returns:\n",
    "        Product of x and y.\n",
    "    '''\n",
    "    return x * y\n",
    "\n",
    "\n",
    "def prod_sum(x, y):\n",
    "    '''Find the product and sum of two values.\n",
    "    \n",
    "    Args:\n",
    "        x, y (int): values to be multipled.\n",
    "    \n",
    "    Returns:\n",
    "        Sum and product of x, y\n",
    "    '''\n",
    "\n",
    "    return sum_xy(x, y),  prod_xy(x, y)\n",
    "\n",
    "\n",
    "val_1, val_2 = prod_sum(5, 6)\n",
    "\n",
    "print(val_1, val_2)"
   ]
  },
  {
   "cell_type": "code",
   "execution_count": 14,
   "metadata": {},
   "outputs": [
    {
     "name": "stdout",
     "output_type": "stream",
     "text": [
      "9 1.7320508075688772\n"
     ]
    }
   ],
   "source": [
    "# In this cell, first, import the 'math' module.\n",
    "\n",
    "import math \n",
    "\n",
    "# Next, write a function that squares a number (hint: you can simply uses x*x), \n",
    "\n",
    "def square(x):\n",
    "    return x*x\n",
    "\n",
    "# Now write a function that uses math.sqrt() to find the square root of a number \n",
    "\n",
    "def square_root(x):\n",
    "    return math.sqrt(x)\n",
    "\n",
    "# (hint: https://docs.python.org/3/library/math.html#math.sqrt)\n",
    "# Then, write a funciton that performs both of these functions and returns both answers.\n",
    "\n",
    "def squares(x):\n",
    "    a = square(x)\n",
    "    b = square_root(x)\n",
    "    return a, b\n",
    "\n",
    "# Finally, call the function getting two variables as your answer, and print them.\n",
    "\n",
    "awnser_1, awnser_2 = squares(3)\n",
    "print(awnser_1, awnser_2)\n"
   ]
  },
  {
   "cell_type": "markdown",
   "metadata": {},
   "source": [
    "When we write functions, it's good practice to raise errors that we expect might occur. This way when something predictable goes wrong we can easily identify what that is. For instance when we are using arithmatic any input value must be numerical for 5the functiobn to work, shouold you put a tring in it will fail. As a result we can build in clauses that will raise an error based on a condition. By dfoing it this way we can aalos create our own custom error message to tell us what has gone wrong. "
   ]
  },
  {
   "cell_type": "code",
   "execution_count": 15,
   "metadata": {},
   "outputs": [
    {
     "data": {
      "text/plain": [
       "9"
      ]
     },
     "execution_count": 15,
     "metadata": {},
     "output_type": "execute_result"
    }
   ],
   "source": [
    "def addition_xy(x, y):\n",
    "\n",
    "    if ((type(x) == float) | (type(x) == int)) & ((type(y) == float) | (type(y) == int)):\n",
    "        return x + y\n",
    "    \n",
    "    elif (type(x) == str) | (type(y) == str):\n",
    "        \n",
    "        if type(x) == str:\n",
    "            raise TypeError('x was a string, expected a float or int')\n",
    "        \n",
    "        if type(y) == str:\n",
    "            raise TypeError('y was a string, expected a float or int')\n",
    "\n",
    "addition_xy(5, 4)"
   ]
  },
  {
   "cell_type": "code",
   "execution_count": 16,
   "metadata": {},
   "outputs": [
    {
     "ename": "ValueError",
     "evalue": "Input is not an apple",
     "output_type": "error",
     "traceback": [
      "\u001b[0;31m---------------------------------------------------------------------------\u001b[0m",
      "\u001b[0;31mValueError\u001b[0m                                Traceback (most recent call last)",
      "Cell \u001b[0;32mIn[16], line 14\u001b[0m\n\u001b[1;32m     10\u001b[0m     \u001b[38;5;28;01melse\u001b[39;00m:\n\u001b[1;32m     11\u001b[0m         \u001b[38;5;28;01mraise\u001b[39;00m \u001b[38;5;167;01mValueError\u001b[39;00m(\u001b[38;5;124m'\u001b[39m\u001b[38;5;124mInput is not an apple\u001b[39m\u001b[38;5;124m'\u001b[39m)\n\u001b[0;32m---> 14\u001b[0m \u001b[43mapple_or_error\u001b[49m\u001b[43m(\u001b[49m\u001b[38;5;124;43m\"\u001b[39;49m\u001b[38;5;124;43mappe\u001b[39;49m\u001b[38;5;124;43m\"\u001b[39;49m\u001b[43m)\u001b[49m\n",
      "Cell \u001b[0;32mIn[16], line 11\u001b[0m, in \u001b[0;36mapple_or_error\u001b[0;34m(thing)\u001b[0m\n\u001b[1;32m      9\u001b[0m     \u001b[38;5;28mprint\u001b[39m(\u001b[38;5;124m\"\u001b[39m\u001b[38;5;124mit\u001b[39m\u001b[38;5;124m'\u001b[39m\u001b[38;5;124ms an apple\u001b[39m\u001b[38;5;124m\"\u001b[39m)\n\u001b[1;32m     10\u001b[0m \u001b[38;5;28;01melse\u001b[39;00m:\n\u001b[0;32m---> 11\u001b[0m     \u001b[38;5;28;01mraise\u001b[39;00m \u001b[38;5;167;01mValueError\u001b[39;00m(\u001b[38;5;124m'\u001b[39m\u001b[38;5;124mInput is not an apple\u001b[39m\u001b[38;5;124m'\u001b[39m)\n",
      "\u001b[0;31mValueError\u001b[0m: Input is not an apple"
     ]
    }
   ],
   "source": [
    "# Below is a function that checks if the argument passed to it is an apple or not. \n",
    "# If it's not an apple, it'll just pass to the next thing.\n",
    "# We want to make sure that people only every pass it apple as arguments, \n",
    "# and we want it to throw an error if it doesnt.\n",
    "# Replace the 'pass' in the else block with a line that raises a ValueError with a suitable message.\n",
    "\n",
    "def apple_or_error(thing):\n",
    "    if thing == 'apple': \n",
    "        print(\"it's an apple\")\n",
    "    else:\n",
    "        raise ValueError('Input is not an apple')\n",
    "\n",
    "\n",
    "apple_or_error(\"appe\")"
   ]
  },
  {
   "cell_type": "markdown",
   "metadata": {},
   "source": [
    "Recall back to the session on Pandas, we briefly used lambda functions. Lambda functions let us define and use a function in one line, pandas is just one of many times they're really useful. They can often do similar things to list comprehensions, so it's worth touching both. List comprehensions give us syntax to make a new list based on a pre existing list."
   ]
  },
  {
   "cell_type": "code",
   "execution_count": null,
   "metadata": {},
   "outputs": [
    {
     "name": "stdout",
     "output_type": "stream",
     "text": [
      "9\n",
      "5.0\n",
      "[0, 1, 2, 3, 4, 5, 6, 7, 8, 9, 10, 11, 12, 13, 14, 15, 16, 17, 18, 19]\n",
      "[0, 2, 4, 6, 8, 10, 12, 14, 16, 18]\n"
     ]
    }
   ],
   "source": [
    "# Lambda function, (lambda variables: expression)(argument)\n",
    "square_function = (lambda x: x*x) \n",
    "square = square_function(3)\n",
    "print(square)\n",
    "\n",
    "# Lambda function in one line, (lambda variables: expression)(argument)\n",
    "divided = (lambda x, y: x / y)(10, 2) \n",
    "print(divided)\n",
    "\n",
    "# Uses list on range 20 to get a list of numbers from 0 to 20\n",
    "numbers = list(range(20)) \n",
    "print(numbers)\n",
    "\n",
    "# Uses a list comprehension to get even numbers form the 'numbers' list, \n",
    "# using the fact that if the modulus (remainder) of a number/2 is 0, it's even\n",
    "\n",
    "evens = [x for x in numbers if x %2 == 0] \n",
    "print(evens)"
   ]
  },
  {
   "cell_type": "code",
   "execution_count": null,
   "metadata": {},
   "outputs": [
    {
     "name": "stdout",
     "output_type": "stream",
     "text": [
      "[10, 11, 12, 13, 14, 15, 16, 17, 18, 19, 20, 21, 22, 23, 24]\n"
     ]
    }
   ],
   "source": [
    "# In this cell, write a lambda function to add a number to itself \n",
    "# and assign that function to a variable, run it, print the answer.\n",
    "\n",
    "addition = (lambda x: x+x)\n",
    "addition(3)\n",
    "\n",
    "\n",
    "# Next, use a list comprehension to create a new list from the list 'numbers' \n",
    "# already made, that adds 10 to every number. Print it.\n",
    "\n",
    "numbers = list(range(15))\n",
    "numbers_10 = [num + 10 for num in numbers]\n",
    "print(numbers_10)\n"
   ]
  },
  {
   "cell_type": "code",
   "execution_count": null,
   "metadata": {},
   "outputs": [
    {
     "name": "stdout",
     "output_type": "stream",
     "text": [
      "[0, 1, 4, 9, 16, 25, 36, 49, 64, 81, 100]\n",
      "[0, 1, 4, 9, 16, 25, 36, 49, 64, 81, 100]\n"
     ]
    }
   ],
   "source": [
    "# list comprehension to get all the square numbers with roots from 0-10\n",
    "\n",
    "squares_comp = [x*x for x in range(11)] \n",
    "print(squares_comp)\n",
    "\n",
    "# This seems pointless given the above option, just know it's possible as there\n",
    "# may be a time when you want it\n",
    "# note here we've defined our lambda function to be able to be used at a later date\n",
    "\n",
    "f = lambda x : x*x \n",
    "\n",
    "squares_lamb_comp = [f(x) for x in range(11)] \n",
    "print(squares_lamb_comp)\n",
    "\n"
   ]
  },
  {
   "cell_type": "markdown",
   "metadata": {},
   "source": [
    "## Group work for session 5\n",
    "Remember the CSV from Ggroup work for session 2:\n",
    "https://raw.githubusercontent.com/data-to-insight/D2I-Jupyter-Notebook-Tools/main/ERN-worksheets/data/1980%202023%20average%20house%20prices.csv\n",
    "\n",
    "Read the CSV into a dataframe with a sensible name.\n",
    "Write a function that takes in in the dataframe as an argument, finds the mean value for percentage change in house price per time period, and creates a new column assigning the strings 'above', 'below', and equal' to the dataframe based on the values relative to the mean. Have the function return this new dataframe and assign it back to the original variable containing the dataframe."
   ]
  },
  {
   "cell_type": "code",
   "execution_count": null,
   "metadata": {},
   "outputs": [
    {
     "data": {
      "text/html": [
       "<div>\n",
       "<style scoped>\n",
       "    .dataframe tbody tr th:only-of-type {\n",
       "        vertical-align: middle;\n",
       "    }\n",
       "\n",
       "    .dataframe tbody tr th {\n",
       "        vertical-align: top;\n",
       "    }\n",
       "\n",
       "    .dataframe thead th {\n",
       "        text-align: right;\n",
       "    }\n",
       "</style>\n",
       "<table border=\"1\" class=\"dataframe\">\n",
       "  <thead>\n",
       "    <tr style=\"text-align: right;\">\n",
       "      <th></th>\n",
       "      <th>Name</th>\n",
       "      <th>Period</th>\n",
       "      <th>House price index All property types</th>\n",
       "      <th>Average price All property types</th>\n",
       "      <th>Percentage change (monthly) All property types</th>\n",
       "      <th>Percentage change (yearly) All property types</th>\n",
       "    </tr>\n",
       "  </thead>\n",
       "  <tbody>\n",
       "    <tr>\n",
       "      <th>0</th>\n",
       "      <td>United Kingdom</td>\n",
       "      <td>1980-01</td>\n",
       "      <td>10.11</td>\n",
       "      <td>19273</td>\n",
       "      <td>3.94</td>\n",
       "      <td>28.59</td>\n",
       "    </tr>\n",
       "    <tr>\n",
       "      <th>1</th>\n",
       "      <td>United Kingdom</td>\n",
       "      <td>1980-02</td>\n",
       "      <td>10.11</td>\n",
       "      <td>19273</td>\n",
       "      <td>3.94</td>\n",
       "      <td>28.59</td>\n",
       "    </tr>\n",
       "    <tr>\n",
       "      <th>2</th>\n",
       "      <td>United Kingdom</td>\n",
       "      <td>1980-03</td>\n",
       "      <td>10.11</td>\n",
       "      <td>19273</td>\n",
       "      <td>3.94</td>\n",
       "      <td>28.59</td>\n",
       "    </tr>\n",
       "    <tr>\n",
       "      <th>3</th>\n",
       "      <td>United Kingdom</td>\n",
       "      <td>1980-04</td>\n",
       "      <td>10.51</td>\n",
       "      <td>20044</td>\n",
       "      <td>4.00</td>\n",
       "      <td>24.15</td>\n",
       "    </tr>\n",
       "    <tr>\n",
       "      <th>4</th>\n",
       "      <td>United Kingdom</td>\n",
       "      <td>1980-05</td>\n",
       "      <td>10.51</td>\n",
       "      <td>20044</td>\n",
       "      <td>4.00</td>\n",
       "      <td>24.15</td>\n",
       "    </tr>\n",
       "  </tbody>\n",
       "</table>\n",
       "</div>"
      ],
      "text/plain": [
       "             Name   Period  House price index All property types  \\\n",
       "0  United Kingdom  1980-01                                 10.11   \n",
       "1  United Kingdom  1980-02                                 10.11   \n",
       "2  United Kingdom  1980-03                                 10.11   \n",
       "3  United Kingdom  1980-04                                 10.51   \n",
       "4  United Kingdom  1980-05                                 10.51   \n",
       "\n",
       "   Average price All property types  \\\n",
       "0                             19273   \n",
       "1                             19273   \n",
       "2                             19273   \n",
       "3                             20044   \n",
       "4                             20044   \n",
       "\n",
       "   Percentage change (monthly) All property types  \\\n",
       "0                                            3.94   \n",
       "1                                            3.94   \n",
       "2                                            3.94   \n",
       "3                                            4.00   \n",
       "4                                            4.00   \n",
       "\n",
       "   Percentage change (yearly) All property types  \n",
       "0                                          28.59  \n",
       "1                                          28.59  \n",
       "2                                          28.59  \n",
       "3                                          24.15  \n",
       "4                                          24.15  "
      ]
     },
     "execution_count": 17,
     "metadata": {},
     "output_type": "execute_result"
    }
   ],
   "source": [
    "import pandas as pd \n",
    "\n",
    "df = pd.read_csv(\"https://raw.githubusercontent.com/data-to-insight/D2I-Jupyter-Notebook-Tools/main/ERN-worksheets/data/1980%202023%20average%20house%20prices.csv\")\n",
    "\n",
    "## test if loaded\n",
    "df.head()\n",
    "\n"
   ]
  },
  {
   "cell_type": "code",
   "execution_count": null,
   "metadata": {},
   "outputs": [
    {
     "data": {
      "text/html": [
       "<div>\n",
       "<style scoped>\n",
       "    .dataframe tbody tr th:only-of-type {\n",
       "        vertical-align: middle;\n",
       "    }\n",
       "\n",
       "    .dataframe tbody tr th {\n",
       "        vertical-align: top;\n",
       "    }\n",
       "\n",
       "    .dataframe thead th {\n",
       "        text-align: right;\n",
       "    }\n",
       "</style>\n",
       "<table border=\"1\" class=\"dataframe\">\n",
       "  <thead>\n",
       "    <tr style=\"text-align: right;\">\n",
       "      <th></th>\n",
       "      <th>Name</th>\n",
       "      <th>Period</th>\n",
       "      <th>House price index All property types</th>\n",
       "      <th>Average price All property types</th>\n",
       "      <th>Percentage change (monthly) All property types</th>\n",
       "      <th>Percentage change (yearly) All property types</th>\n",
       "      <th>Location</th>\n",
       "      <th>Relative Position</th>\n",
       "    </tr>\n",
       "  </thead>\n",
       "  <tbody>\n",
       "    <tr>\n",
       "      <th>0</th>\n",
       "      <td>United Kingdom</td>\n",
       "      <td>1980-01</td>\n",
       "      <td>10.11</td>\n",
       "      <td>19273</td>\n",
       "      <td>3.94</td>\n",
       "      <td>28.59</td>\n",
       "      <td></td>\n",
       "      <td>Above</td>\n",
       "    </tr>\n",
       "    <tr>\n",
       "      <th>1</th>\n",
       "      <td>United Kingdom</td>\n",
       "      <td>1980-02</td>\n",
       "      <td>10.11</td>\n",
       "      <td>19273</td>\n",
       "      <td>3.94</td>\n",
       "      <td>28.59</td>\n",
       "      <td></td>\n",
       "      <td>Above</td>\n",
       "    </tr>\n",
       "    <tr>\n",
       "      <th>2</th>\n",
       "      <td>United Kingdom</td>\n",
       "      <td>1980-03</td>\n",
       "      <td>10.11</td>\n",
       "      <td>19273</td>\n",
       "      <td>3.94</td>\n",
       "      <td>28.59</td>\n",
       "      <td></td>\n",
       "      <td>Above</td>\n",
       "    </tr>\n",
       "    <tr>\n",
       "      <th>3</th>\n",
       "      <td>United Kingdom</td>\n",
       "      <td>1980-04</td>\n",
       "      <td>10.51</td>\n",
       "      <td>20044</td>\n",
       "      <td>4.00</td>\n",
       "      <td>24.15</td>\n",
       "      <td></td>\n",
       "      <td>Above</td>\n",
       "    </tr>\n",
       "    <tr>\n",
       "      <th>4</th>\n",
       "      <td>United Kingdom</td>\n",
       "      <td>1980-05</td>\n",
       "      <td>10.51</td>\n",
       "      <td>20044</td>\n",
       "      <td>4.00</td>\n",
       "      <td>24.15</td>\n",
       "      <td></td>\n",
       "      <td>Above</td>\n",
       "    </tr>\n",
       "    <tr>\n",
       "      <th>...</th>\n",
       "      <td>...</td>\n",
       "      <td>...</td>\n",
       "      <td>...</td>\n",
       "      <td>...</td>\n",
       "      <td>...</td>\n",
       "      <td>...</td>\n",
       "      <td>...</td>\n",
       "      <td>...</td>\n",
       "    </tr>\n",
       "    <tr>\n",
       "      <th>518</th>\n",
       "      <td>United Kingdom</td>\n",
       "      <td>2023-03</td>\n",
       "      <td>148.20</td>\n",
       "      <td>282548</td>\n",
       "      <td>-1.00</td>\n",
       "      <td>3.20</td>\n",
       "      <td></td>\n",
       "      <td>Below</td>\n",
       "    </tr>\n",
       "    <tr>\n",
       "      <th>519</th>\n",
       "      <td>United Kingdom</td>\n",
       "      <td>2023-04</td>\n",
       "      <td>148.90</td>\n",
       "      <td>283871</td>\n",
       "      <td>0.50</td>\n",
       "      <td>2.50</td>\n",
       "      <td></td>\n",
       "      <td>Below</td>\n",
       "    </tr>\n",
       "    <tr>\n",
       "      <th>520</th>\n",
       "      <td>United Kingdom</td>\n",
       "      <td>2023-05</td>\n",
       "      <td>149.50</td>\n",
       "      <td>285053</td>\n",
       "      <td>0.40</td>\n",
       "      <td>1.60</td>\n",
       "      <td></td>\n",
       "      <td>Below</td>\n",
       "    </tr>\n",
       "    <tr>\n",
       "      <th>521</th>\n",
       "      <td>United Kingdom</td>\n",
       "      <td>2023-06</td>\n",
       "      <td>151.20</td>\n",
       "      <td>288281</td>\n",
       "      <td>1.10</td>\n",
       "      <td>1.90</td>\n",
       "      <td></td>\n",
       "      <td>Below</td>\n",
       "    </tr>\n",
       "    <tr>\n",
       "      <th>522</th>\n",
       "      <td>United Kingdom</td>\n",
       "      <td>2023-07</td>\n",
       "      <td>152.00</td>\n",
       "      <td>289824</td>\n",
       "      <td>0.50</td>\n",
       "      <td>0.60</td>\n",
       "      <td></td>\n",
       "      <td>Below</td>\n",
       "    </tr>\n",
       "  </tbody>\n",
       "</table>\n",
       "<p>523 rows × 8 columns</p>\n",
       "</div>"
      ],
      "text/plain": [
       "               Name   Period  House price index All property types  \\\n",
       "0    United Kingdom  1980-01                                 10.11   \n",
       "1    United Kingdom  1980-02                                 10.11   \n",
       "2    United Kingdom  1980-03                                 10.11   \n",
       "3    United Kingdom  1980-04                                 10.51   \n",
       "4    United Kingdom  1980-05                                 10.51   \n",
       "..              ...      ...                                   ...   \n",
       "518  United Kingdom  2023-03                                148.20   \n",
       "519  United Kingdom  2023-04                                148.90   \n",
       "520  United Kingdom  2023-05                                149.50   \n",
       "521  United Kingdom  2023-06                                151.20   \n",
       "522  United Kingdom  2023-07                                152.00   \n",
       "\n",
       "     Average price All property types  \\\n",
       "0                               19273   \n",
       "1                               19273   \n",
       "2                               19273   \n",
       "3                               20044   \n",
       "4                               20044   \n",
       "..                                ...   \n",
       "518                            282548   \n",
       "519                            283871   \n",
       "520                            285053   \n",
       "521                            288281   \n",
       "522                            289824   \n",
       "\n",
       "     Percentage change (monthly) All property types  \\\n",
       "0                                              3.94   \n",
       "1                                              3.94   \n",
       "2                                              3.94   \n",
       "3                                              4.00   \n",
       "4                                              4.00   \n",
       "..                                              ...   \n",
       "518                                           -1.00   \n",
       "519                                            0.50   \n",
       "520                                            0.40   \n",
       "521                                            1.10   \n",
       "522                                            0.50   \n",
       "\n",
       "     Percentage change (yearly) All property types Location Relative Position  \n",
       "0                                            28.59                      Above  \n",
       "1                                            28.59                      Above  \n",
       "2                                            28.59                      Above  \n",
       "3                                            24.15                      Above  \n",
       "4                                            24.15                      Above  \n",
       "..                                             ...      ...               ...  \n",
       "518                                           3.20                      Below  \n",
       "519                                           2.50                      Below  \n",
       "520                                           1.60                      Below  \n",
       "521                                           1.90                      Below  \n",
       "522                                           0.60                      Below  \n",
       "\n",
       "[523 rows x 8 columns]"
      ]
     },
     "execution_count": 34,
     "metadata": {},
     "output_type": "execute_result"
    }
   ],
   "source": [
    "# take the dataframe as an argument \n",
    "def mean_house_price(df):\n",
    "# find the mean value for percentage change in house price per time period \n",
    "    mean = df['Percentage change (monthly) All property types'].mean()\n",
    "\n",
    "# create a comun aswsigning the above strings 'above', 'below' or 'equals' to the dataframe based on the values relative to teh maen \n",
    "    df['Relative Position'] = df['Percentage change (monthly) All property types'].apply(\n",
    "        lambda x: 'Above' if x > mean else ('Below' if x < mean else 'Equals'))\n",
    "    \n",
    "# have the function return this new dataframe to the old dataframe \n",
    "    return df\n",
    "\n",
    "mean_house_price(df)"
   ]
  },
  {
   "cell_type": "markdown",
   "metadata": {},
   "source": [
    "## Group work for session 6\n",
    "Using what we've seen about loops and conditionals, there are two tasks. The first task is to write some code that plays the game 'FizzBuzz'. FizzBuzz is a common test given in coding interviews. All you need to do is write some code that goes through the numbers 1-100, and, where a number is divisible by 3, print Fizz, 5, print Buzz, and both, print FizzBuzz, in other cases just print the number. For instance, for 3, the code should print Fizz, for 5 Buzz, and for 15 FizzBuzz, and for 8, just 8.\n",
    "\n",
    "It shouldn't be too hard to write some code that does it, but two write good clean code that does it will be harder. Some things to remember are: using suitable variable and iterator names, writing fewer lines of code where possible, wirting suitable comments for your code, etc.\n",
    "\n",
    "The second task is harder, and will test another important skill, your ability to google. I want you to write some code that simulates a coin flip and produces a heads or a tails. I would like you to write that code such that it keeps running until the number of heads produced by the code is the same as the number of tails. As an extension, it would be a good exercise to try packaging it up in a function, AND, running the simulation multiple times to find an average number of flips needed for the number of heads to equal the number of tails. TIP: this might be a good place to start https://docs.python.org/3/library/random.html"
   ]
  },
  {
   "cell_type": "code",
   "execution_count": 1,
   "metadata": {},
   "outputs": [
    {
     "name": "stdout",
     "output_type": "stream",
     "text": [
      "1\n",
      "2\n",
      "Fizz\n",
      "4\n",
      "Bang\n",
      "Fizz\n",
      "7\n",
      "8\n",
      "Fizz\n",
      "Bang\n",
      "11\n",
      "Fizz\n",
      "13\n",
      "14\n",
      "FizzBang\n",
      "16\n",
      "17\n",
      "Fizz\n",
      "19\n",
      "Bang\n",
      "Fizz\n",
      "22\n",
      "23\n",
      "Fizz\n",
      "Bang\n",
      "26\n",
      "Fizz\n",
      "28\n",
      "29\n",
      "FizzBang\n",
      "31\n",
      "32\n",
      "Fizz\n",
      "34\n",
      "Bang\n",
      "Fizz\n",
      "37\n",
      "38\n",
      "Fizz\n",
      "Bang\n",
      "41\n",
      "Fizz\n",
      "43\n",
      "44\n",
      "FizzBang\n",
      "46\n",
      "47\n",
      "Fizz\n",
      "49\n",
      "Bang\n",
      "Fizz\n",
      "52\n",
      "53\n",
      "Fizz\n",
      "Bang\n",
      "56\n",
      "Fizz\n",
      "58\n",
      "59\n",
      "FizzBang\n",
      "61\n",
      "62\n",
      "Fizz\n",
      "64\n",
      "Bang\n",
      "Fizz\n",
      "67\n",
      "68\n",
      "Fizz\n",
      "Bang\n",
      "71\n",
      "Fizz\n",
      "73\n",
      "74\n",
      "FizzBang\n",
      "76\n",
      "77\n",
      "Fizz\n",
      "79\n",
      "Bang\n",
      "Fizz\n",
      "82\n",
      "83\n",
      "Fizz\n",
      "Bang\n",
      "86\n",
      "Fizz\n",
      "88\n",
      "89\n",
      "FizzBang\n",
      "91\n",
      "92\n",
      "Fizz\n",
      "94\n",
      "Bang\n",
      "Fizz\n",
      "97\n",
      "98\n",
      "Fizz\n",
      "Bang\n"
     ]
    }
   ],
   "source": [
    "# go through the numbers 1-100\n",
    "# were divisible by 3 print 'Fizz' \n",
    "# divizible by 5 print buzz \n",
    "# both fizz buzz \n",
    "# otheerwise return the number \n",
    "\n",
    "for i in range(1, 101):\n",
    "    if (i %3 == 0)  & (i %5 == 0):\n",
    "        print('FizzBang')\n",
    "    elif (i %3 == 0):\n",
    "        print('Fizz')\n",
    "    elif (i %5 == 0):\n",
    "        print('Bang')\n",
    "    else:\n",
    "        print(i)\n"
   ]
  },
  {
   "cell_type": "code",
   "execution_count": 239,
   "metadata": {},
   "outputs": [
    {
     "name": "stdout",
     "output_type": "stream",
     "text": [
      "It took 28 trials and we got to 14 heads and 14 tails\n"
     ]
    }
   ],
   "source": [
    "# I want you to write some code that simulates a coin flip and produces a heads or a tails. \n",
    "# I would like you to write that code such that it keeps running until the number of heads produced by the code is the same as the number of tails. \n",
    "\n",
    "# As an extension, it would be a good exercise to try packaging it up in a function, AND, \n",
    "# running the simulation multiple times to find an average number of flips needed for the number of heads to equal the number of tails. \n",
    "# TIP: this might be a good place to start https://docs.python.org/3/library/random.html\n",
    "\n",
    "import random\n",
    "\n",
    "def flip(p):\n",
    "    return random.random() < p\n",
    "\n",
    "def coin():\n",
    "    if flip(0.5):\n",
    "        return \"Heads\"\n",
    "    else:\n",
    "        return'Tails'\n",
    "\n",
    "H = 0 \n",
    "T = 0\n",
    "counter = 0 \n",
    "\n",
    "while (counter == 0) | (H != T):\n",
    "    if flip(0.5):\n",
    "        H += 1\n",
    "    else:\n",
    "        T += 1\n",
    "    counter += 1\n",
    "\n",
    "print(f'It took {counter} trials and we got to {H} heads and {T} tails')\n"
   ]
  },
  {
   "cell_type": "code",
   "execution_count": 322,
   "metadata": {},
   "outputs": [
    {
     "data": {
      "text/plain": [
       "4"
      ]
     },
     "execution_count": 322,
     "metadata": {},
     "output_type": "execute_result"
    }
   ],
   "source": [
    "## Placing this loop inside of a function \n",
    "\n",
    "def flips():\n",
    "    H = 0 \n",
    "    T = 0\n",
    "    counter = 0 \n",
    "    while (counter == 0) | (H != T):\n",
    "        if flip(0.5):\n",
    "            H += 1\n",
    "        else:\n",
    "            T += 1\n",
    "        counter += 1\n",
    "    return counter\n",
    "\n",
    "flips()\n",
    "\n"
   ]
  },
  {
   "cell_type": "code",
   "execution_count": 354,
   "metadata": {},
   "outputs": [
    {
     "data": {
      "text/plain": [
       "60.38"
      ]
     },
     "execution_count": 354,
     "metadata": {},
     "output_type": "execute_result"
    }
   ],
   "source": [
    "## Creating a sumlation that test the average number of trials needed \n",
    "iterate = 100\n",
    "flips_list = []\n",
    "\n",
    "for i in range(iterate):\n",
    "    num_flips = flips()\n",
    "    flips_list.append(num_flips)\n",
    "    average = sum(flips_list) / len(flips_list)\n",
    "    \n",
    "average\n",
    "\n"
   ]
  }
 ],
 "metadata": {
  "kernelspec": {
   "display_name": "Python 3",
   "language": "python",
   "name": "python3"
  },
  "language_info": {
   "codemirror_mode": {
    "name": "ipython",
    "version": 3
   },
   "file_extension": ".py",
   "mimetype": "text/x-python",
   "name": "python",
   "nbconvert_exporter": "python",
   "pygments_lexer": "ipython3",
   "version": "3.10.13"
  },
  "orig_nbformat": 4
 },
 "nbformat": 4,
 "nbformat_minor": 2
}

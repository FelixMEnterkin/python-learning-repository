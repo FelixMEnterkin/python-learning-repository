{
 "cells": [
  {
   "cell_type": "markdown",
   "metadata": {},
   "source": [
    "# Session 1\n",
    "In Python, lots of things are done using variables. We can store data in variables in many ways, including individual items of data, lists of data, dictionaries, and dataframes. We can also store more complicated things like classes and operations, we won't worry about the complex things now though. Let's first of all look at how variables can store individual items of data, and some of the quirks of that."
   ]
  },
  {
   "cell_type": "code",
   "execution_count": 1,
   "metadata": {},
   "outputs": [
    {
     "name": "stdout",
     "output_type": "stream",
     "text": [
      "15\n",
      "2.0\n",
      "<class 'float'>\n",
      "<class 'int'>\n"
     ]
    }
   ],
   "source": [
    "x = 5\n",
    "y = 10\n",
    "z = x + y\n",
    "\n",
    "# print is a function that, for our simple purposes, will show you \n",
    "# in the terminal (or on the page in Jupyter) the data stored in a variable\n",
    "print(z) \n",
    "j = y / x\n",
    "print(j)\n",
    "\n",
    "# printing the type of a variable tells us what data is stored in it, \n",
    "# floats are numbers with decimals\n",
    "print(type(j)) \n",
    "\n",
    "\n",
    "# we can also convert j to an integer, \n",
    "# and check its worked by printing its new type\n",
    "j = int(j)\n",
    "print((type(j))) "
   ]
  },
  {
   "cell_type": "code",
   "execution_count": 2,
   "metadata": {},
   "outputs": [
    {
     "name": "stdout",
     "output_type": "stream",
     "text": [
      "c is equal to 2738\n",
      "The area of the circle is 12.56\n"
     ]
    }
   ],
   "source": [
    "# In this cell, initialise two numeric variables and find their product \n",
    "# using the * operator for multiplication and assign this to a new variable.\n",
    "# Print the new variable\n",
    "\n",
    "a = 37 \n",
    "b = 74 \n",
    "c = a*b \n",
    "\n",
    "print(\"c is equal to\", c)\n",
    "\n",
    "\n",
    "# The radius of a circle is 2, assume that Pi is 3.14. Assign both of these \n",
    "# to suitably named variables and find the area of the circle.\n",
    "\n",
    "# We can find the area of a circle by finding the product of Pi with the radius squared.\n",
    "# You probably don't know how to square a number in Python yet, so use Google to work it out!\n",
    "\n",
    "pi = 3.14\n",
    "r = 2 \n",
    "\n",
    "area = pi*(r**2)\n",
    "\n",
    "print(\"The area of the circle is\", area)"
   ]
  },
  {
   "cell_type": "code",
   "execution_count": 3,
   "metadata": {},
   "outputs": [
    {
     "name": "stdout",
     "output_type": "stream",
     "text": [
      "<class 'str'>\n",
      "WillRunning\n",
      "My name is Will, and I like Running.\n"
     ]
    }
   ],
   "source": [
    "# This is a string, we use a string to tell Python the data stored should be text, \n",
    "# not code or numbers. As will be seen, strings act differently to floats/ints\n",
    "\n",
    "name = 'Will' \n",
    "\n",
    "print(type(name))\n",
    "\n",
    "hobby = 'Running'\n",
    "long_string = name + hobby # Notice this variable is names using snake case\n",
    "\n",
    "print(long_string) # As we can see, addition of strings concats those strings\n",
    "\n",
    "\n",
    "# The below is an 'f string' which allows us to insert variables INSIDE a string\n",
    "\n",
    "phrase_2 = f'My name is {name}, and I like {hobby}.' \n",
    "\n",
    "# String behaviour and f strings can be useful when we want to join up variables \n",
    "# of strings, really useful when making dynamic titles for visualisations\n",
    "\n",
    "print(phrase_2)"
   ]
  },
  {
   "cell_type": "markdown",
   "metadata": {},
   "source": [
    "This type of string is usefull when we want to use dynamic references. for instance if we have a drop down menue in the end product we can use the title as a string to form the title of graphs, charts and reports."
   ]
  },
  {
   "cell_type": "code",
   "execution_count": 4,
   "metadata": {},
   "outputs": [
    {
     "name": "stdout",
     "output_type": "stream",
     "text": [
      "My name is Felix Enterkin and I am the Data Officer for access and inclusion\n"
     ]
    }
   ],
   "source": [
    "# In this cell, initialise two appropriately named variables, one for your name and one for your job title.\n",
    "# Next, combine them in an f string, assigned to a different, appropriately named variable.\n",
    "# Finally, print the f string.\n",
    "\n",
    "name = 'Felix Enterkin'\n",
    "title = 'Data Officer'\n",
    "statement = f'My name is {name} and I am the {title} for Access and Inclusion'\n",
    "\n",
    "\n",
    "#Make a variable for a string and one for a number, \n",
    "# Try and add them (not inside an f string) and see what happens\n",
    "\n",
    "string = 'Statement Number'\n",
    "number = 123456\n",
    "phrase = f'{string} {number}'\n",
    "print(statement)"
   ]
  },
  {
   "cell_type": "code",
   "execution_count": 5,
   "metadata": {},
   "outputs": [
    {
     "name": "stdout",
     "output_type": "stream",
     "text": [
      "tatement \n",
      "heres_a_file\n"
     ]
    }
   ],
   "source": [
    "# strings are interesting as we can easily select certain parts of them \n",
    "# by selecting a range in square brackets. When using square brackets to slice a range, \n",
    "# the number to the left is INCLUSIVE, the number to the right is EXCLUSIVE\n",
    "# You'll notice this new string starts at y, why? In most instances, \n",
    "# most things in Pythonc ount from 0 as the first index location.\n",
    "\n",
    "string_slice = phrase[1:10]\n",
    "print(string_slice)\n",
    "\n",
    "filename = 'heres_a_file.csv'\n",
    "\n",
    "shortened_name = filename[:-4] \n",
    "\n",
    "# We can also start the count from the end of the string, \n",
    "# here -4 means I want my last character to be 4 from the end.\n",
    "# When we don't put a number on one side of the colon, \n",
    "# it means 'take everything this side of the range', so string[4:] would mean take everything\n",
    "# after the 4th character\n",
    "\n",
    "print(shortened_name)"
   ]
  },
  {
   "cell_type": "code",
   "execution_count": 6,
   "metadata": {},
   "outputs": [
    {
     "name": "stdout",
     "output_type": "stream",
     "text": [
      "dog\n",
      "cat\n",
      "racoon\n"
     ]
    }
   ],
   "source": [
    "# In this cell I've initialised a variable 'slice_this_phrase'. \n",
    "# On the next three lines, print the words dog, cat, and racoon seprately \n",
    "# using a slice from the beginning, a slice giving a range in the middle, and a slice from the end.\n",
    "# This means one slice will involve [:n], one will involve [n1:n2], and one will involve [-n:].\n",
    "\n",
    "slice_this_phrase = 'dog cat racoon'\n",
    "\n",
    "\n",
    "a = slice_this_phrase[0:3]\n",
    "b = slice_this_phrase[4:7]\n",
    "c = slice_this_phrase[-6:]\n",
    "\n",
    "print(a)\n",
    "print(b)\n",
    "print(c)"
   ]
  },
  {
   "cell_type": "markdown",
   "metadata": {},
   "source": [
    "Lets have a look at lists now. We can initialise a list by using square brackets and assigning them to a variable. We seperate elements of a list with commas. We can put pretty much whatever we want in a list: ints, strings, dictionaries, other lists, a whole range of things. A full list of list methods can be found here: https://docs.python.org/3/tutorial/datastructures.html"
   ]
  },
  {
   "cell_type": "code",
   "execution_count": 3,
   "metadata": {},
   "outputs": [
    {
     "name": "stdout",
     "output_type": "stream",
     "text": [
      "<class 'list'>\n",
      "['red', 'blue', 'green']\n",
      "['red', 'blue', 'green', 'purple']\n",
      "['red', 'blue', 'green', 'purple', ['turquoise', 'teal']]\n",
      "teal\n",
      "['red', 'blue', 'green', 'purple', ['turquoise', 'teal'], 'turquoise', 'teal']\n",
      "['purple', ['turquoise', 'teal'], 'turquoise', 'teal']\n",
      "['red', 'blue', 'green', 'purple', ['turquoise', 'teal'], 'turquoise']\n"
     ]
    }
   ],
   "source": [
    "# Even though there's nothing in here, it's a list, we can check by printing type(list_1)\n",
    "list_1 = [] \n",
    "print(type(list_1))\n",
    "\n",
    "colours_list = ['red', 'blue', 'green']\n",
    "print(colours_list)\n",
    "\n",
    "# The append method adds whatever is being appended to a list as one item in a list\n",
    "colours_list.append('purple') \n",
    "print(colours_list)\n",
    "\n",
    "extra_colours = ['turquoise', 'teal']\n",
    "colours_list.append(extra_colours)\n",
    "# You can see here it's appended the whole list extra_colours as one item in the list\n",
    "print(colours_list) \n",
    "\n",
    "\n",
    "print(colours_list[-1][1]) # double index can index a list within a list \n",
    "\n",
    "\n",
    "# Instead, we can extend a to have each element of a list as a new element in another list with the .extend() method\n",
    "colours_list.extend(extra_colours)\n",
    "print(colours_list)\n",
    "\n",
    "# We can also access elements in a list the same way we can strings\n",
    "print(colours_list[3:7]) \n",
    "\n",
    "# We can remove list elements using.remove\n",
    "colours_list.remove('teal')\n",
    "print(colours_list)\n",
    "\n"
   ]
  },
  {
   "cell_type": "markdown",
   "metadata": {},
   "source": [
    "The append is a type of function called a method. this is unique as it can obly be applied to certain object types - in this case teh append method can only be applied to lists. As a result rather than using this like a standard function this function is added after the object using a dot.  \n",
    "\n",
    "---- Add mre here"
   ]
  },
  {
   "cell_type": "code",
   "execution_count": 2,
   "metadata": {},
   "outputs": [
    {
     "name": "stdout",
     "output_type": "stream",
     "text": [
      "['burger', 'fries', 'milkshake']\n",
      "['burger', 'fries', 'milkshake', 'nuggets']\n",
      "['burger', 'fries', 'milkshake', 'nuggets', 'burrito', 'natchos', 'qesadilla']\n",
      "['burger', 'fries', 'milkshake', 'nuggets', 'burrito', 'qesadilla']\n"
     ]
    }
   ],
   "source": [
    "# In this cell, make a list of a few foods and print it.\n",
    "# Then extend the list with another food and print it.\n",
    "# Next, make another list of foods, and use the extend method to \n",
    "# add those extra foods as individual elements of the list, and print it.\n",
    "# Finally, remove and element from the list and print the final list.\n",
    "# Remember to always use a suitable name for your lists!\n",
    "\n",
    "food = ['burger', 'fries', 'milkshake']\n",
    "print(food)\n",
    "\n",
    "\n",
    "food.append('nuggets')\n",
    "print(food)\n",
    "\n",
    "\n",
    "more_food = ['burrito', 'natchos', 'qesadilla']\n",
    "food.extend(more_food)\n",
    "print(food)\n",
    "\n",
    "\n",
    "food.remove('natchos')\n",
    "print(food)"
   ]
  },
  {
   "cell_type": "code",
   "execution_count": 9,
   "metadata": {},
   "outputs": [
    {
     "name": "stdout",
     "output_type": "stream",
     "text": [
      "[1, 2, 3, 4, 5, 6]\n",
      "[6, 5, 4, 3, 2, 1]\n",
      "[2, 3, 3, 4, 5]\n",
      "['amber', 'blue', 'green', 'red']\n"
     ]
    }
   ],
   "source": [
    "numbers_list = [2,3,4,5,1,6]\n",
    "\n",
    "# we can sort lists too, here using a method\n",
    "numbers_list.sort() \n",
    "print(numbers_list) \n",
    "\n",
    "numbers_list.sort(reverse=True)\n",
    "print(numbers_list) \n",
    "\n",
    "# Here we sort a list using a function and returning it to a new variable\n",
    "sorted_list = sorted([3,2,3,4,5]) \n",
    "print(sorted_list)\n",
    "\n",
    "# we can also order lists that are not numbered \n",
    "colours_list = ['red', 'blue', 'green', 'amber']\n",
    "sorted_colours = sorted(colours_list, key=str.lower)\n",
    "print(sorted_colours)"
   ]
  },
  {
   "cell_type": "markdown",
   "metadata": {},
   "source": [
    "The sort() is a method that sorts the data inside the variable. While the Sorted() function does not alter the actuall data - so it keeps the original order of the list. This is worth bearing in mind on teh odd occation where you want to sort data but also maintain a copy of th original order that it was in.\n",
    "\n",
    "We can append if we want to add an additional element to the list. It adds *a singluar* new element to the list.\n",
    "\n",
    "we can extend if we want to add multiple elements or another list. This has odd behavior if you try to just add one element like a string etc. it will add each indexable item as its own string. Howerver this can be avoided by plasing the string or list of strings within square brackets. The below code offeers a demondtration"
   ]
  },
  {
   "cell_type": "code",
   "execution_count": 8,
   "metadata": {},
   "outputs": [
    {
     "name": "stdout",
     "output_type": "stream",
     "text": [
      "['Apple', 'Orange', 'Pear', 'B', 'a', 'n', 'a', 'n', 'a', 'h']\n",
      "['Apple', 'Orange', 'Pear', 'B', 'a', 'n', 'a', 'n', 'a', 'h', 'Grapes']\n"
     ]
    }
   ],
   "source": [
    "example_list = [\"Apple\", \"Orange\", \"Pear\"]\n",
    "\n",
    "example_list.extend(\"Bananah\")\n",
    "print(example_list)\n",
    "\n",
    "example_list.extend([\"Grapes\"])\n",
    "print(example_list)\n"
   ]
  },
  {
   "cell_type": "code",
   "execution_count": 9,
   "metadata": {},
   "outputs": [
    {
     "name": "stdout",
     "output_type": "stream",
     "text": [
      "['burger', 'burrito', 'fries', 'milkshake', 'nuggets', 'qesadilla']\n",
      "['burger', 'burrito', 'fries', 'milkshake', 'nuggets', 'qesadilla']\n",
      "['qesadilla', 'nuggets', 'milkshake', 'fries', 'burrito', 'burger']\n"
     ]
    }
   ],
   "source": [
    "# In this cell, use the sorted method on your final list of \n",
    "# foods to sort it alphabetically and print it. Use both the sort() and sorted() method\n",
    "food.sort()\n",
    "print(food)\n",
    "\n",
    "food = sorted(food)\n",
    "print(food)\n",
    "\n",
    "# Now use the documentation here to sort in reverse order:  https://docs.python.org/3/library/functions.html#sorted\n",
    "food = sorted(food, reverse=True)\n",
    "print(food)"
   ]
  },
  {
   "cell_type": "markdown",
   "metadata": {},
   "source": [
    "Now lets look at dictionaries. dictionaries may initially seem a little confusing, and not overly helpful, but they are an incredibly powerful tool. Dictionaries allow us to store things in key:value pairs, where, generally, the key is a string or a number, keys must be unique within a dictionary and must be immutable objects (objects that can't be changed, like lists), and the value is... pretty much whatever we want it to be. We build a list using curly brackets {}, seperating key:value pairs with colons, and entries with commas."
   ]
  },
  {
   "cell_type": "code",
   "execution_count": 11,
   "metadata": {},
   "outputs": [
    {
     "name": "stdout",
     "output_type": "stream",
     "text": [
      "{'Will': 'teal', 'Andy': ['Purple', 'Green', 'Azure'], 'Annie': {'Mondays': 'Red', 'Sundays': 'Orange', 'Other days': 'Black'}}\n",
      "\n",
      "['Will', 'Andy', 'Annie']\n",
      "\n",
      "dict_items([('Will', 'teal'), ('Andy', ['Purple', 'Green', 'Azure']), ('Annie', {'Mondays': 'Red', 'Sundays': 'Orange', 'Other days': 'Black'})])\n",
      "\n",
      "dict_keys(['Will', 'Andy', 'Annie'])\n",
      "\n",
      "dict_values(['teal', ['Purple', 'Green', 'Azure'], {'Mondays': 'Red', 'Sundays': 'Orange', 'Other days': 'Black'}])\n"
     ]
    }
   ],
   "source": [
    "favourite_colours = {'Will':'teal',\n",
    "                     'Andy':['Purple', 'Green', 'Azure'],\n",
    "                     'Annie':{'Mondays':'Red',\n",
    "                              'Sundays':'Orange',\n",
    "                              'Other days':'Black'}}\n",
    "# Here you can see I've stored strongs, lists, and even entire dictionaries inside strings        \n",
    "                      \n",
    "print(favourite_colours) \n",
    "print()\n",
    "\n",
    "print(list(favourite_colours)) # list(d) will print the keys, in order from a dictionary\n",
    "print()\n",
    "\n",
    "print(favourite_colours.items()) # Prints all key:value pairs\n",
    "print()\n",
    "\n",
    "print(favourite_colours.keys()) # Prints all keys\n",
    "print()\n",
    "\n",
    "print(favourite_colours.values()) # Prints all values"
   ]
  },
  {
   "cell_type": "markdown",
   "metadata": {},
   "source": [
    "They allow is to store one variable inside of another variable and can use keys to index. It helps keep data tidy and is helpful for storing data in a very accessable way. Everything in a dictonary is given in a kety value pair. The keys are stored as a list and as a result they all need to be immutable objects. The values, by copmariosn, vcan pretty much be whatever you want to store in a variable (a list, a table, a dataframe etc). \n",
    "\n",
    "There are several different ways that5 wwe can initialise a dictionarry, we can put it all on one line or break it up across different lines\n",
    "White space in python is really important in pythan unlike some other languages. Loosly speaking just as in R we can craete a new line after the commas.\n",
    "\n",
    "\n"
   ]
  },
  {
   "cell_type": "code",
   "execution_count": 12,
   "metadata": {},
   "outputs": [
    {
     "name": "stdout",
     "output_type": "stream",
     "text": [
      "teal\n",
      "{'Will': 'teal', 'Andy': ['Purple', 'Green', 'Azure'], 'Annie': {'Mondays': 'Red', 'Sundays': 'Orange', 'Other days': 'Black'}, 'Naiomi': 'Yellow'}\n",
      "False\n"
     ]
    }
   ],
   "source": [
    "# We can access the values associated with a key by passing it between square brackets after the dictionary's name\n",
    "print(favourite_colours['Will']) \n",
    "\n",
    "# We can also add/update key value pairs in a similar way\n",
    "favourite_colours['Naiomi'] = 'Yellow' \n",
    "print(favourite_colours)\n",
    "\n",
    "# We can check if a key is in a dict or not like so\n",
    "print('Mo' in favourite_colours) "
   ]
  },
  {
   "cell_type": "code",
   "execution_count": 28,
   "metadata": {},
   "outputs": [
    {
     "name": "stdout",
     "output_type": "stream",
     "text": [
      "dict_items([('McDonalds', ['burgers', 'nuggest', 'fries']), ('chipotle', ['burrito', 'natchos', 'quesdaillia']), ('PizzaExpress', ['pizza', {'pasta': 'bolognaise', 'bread': 'garlic flatbread'}])])\n",
      "dict_keys(['McDonalds', 'chipotle', 'PizzaExpress'])\n",
      "dict_values([['burgers', 'nuggest', 'fries'], ['burrito', 'natchos', 'quesdaillia'], ['pizza', {'pasta': 'bolognaise', 'bread': 'garlic flatbread'}]])\n",
      "{'McDonalds': ['burgers', 'nuggest', 'fries'], 'chipotle': ['burrito', 'natchos', 'quesdaillia'], 'PizzaExpress': ['pizza', {'pasta': 'bolognaise', 'bread': 'garlic flatbread'}]}\n",
      "['McDonalds', 'chipotle', 'PizzaExpress']\n",
      "['burrito', 'natchos', 'quesdaillia']\n",
      "True\n"
     ]
    }
   ],
   "source": [
    "# In this cell, make a dicitonary of some restaurants and the foods they sell, \n",
    "# make sure at least one vlaue is a list of foods, and another is a dicitonary of days and foods\n",
    "restaurants = {\n",
    "    'McDonalds':['burgers', 'nuggest', 'fries'],\n",
    "    'chipotle':['burrito', 'natchos', 'quesdaillia'],\n",
    "    'PizzaExpress':['pizza', {'pasta': 'bolognaise',\n",
    "                             'bread': 'garlic flatbread'}]\n",
    "    }\n",
    "\n",
    "# print the items, keys, and values, have at least one have the value as a list.\n",
    "print(restaurants.items())\n",
    "print(restaurants.keys())\n",
    "print(restaurants.values())\n",
    "\n",
    "\n",
    "## or this can be achived in other ways \n",
    "print(restaurants)\n",
    "print(list(restaurants))\n",
    "\n",
    "\n",
    "\n",
    "## to get the values out of the dictionary\n",
    "Chipotle_menue = restaurants['chipotle']\n",
    "print(Chipotle_menue)\n",
    "## we use the square braketsv [] to reference the key and this will give us the values that are associated with it. \n",
    "\n",
    "\n",
    "# Add a new key:value pair to your dictionary, as above.\n",
    "restaurants['Subway'] = [\"Sandwich\", \"Cookies\"]\n",
    "\n",
    "# Check whether 'mcdonalds' is a key in your dictionary, printing the answer.\n",
    "print('McDonalds' in restaurants)\n",
    "\n",
    "\n",
    "\n"
   ]
  },
  {
   "cell_type": "markdown",
   "metadata": {},
   "source": [
    "## Group work for session 1\n",
    "Make a dictionary which has the names of everyone in the group as keys, and job titles as the values, print it.\n",
    "When everyone has a working version, work out how to get all of the values from the dictionary as a single list, and sort the new list alphabetically, assigned to a suitably named variable.\n",
    "\n",
    "You have probably not used for loops before, and actually that is a topic for a later session, if you have used for loops, help guide rather than instruc the rest of your group. I would like you to use google as your main resource to work out how to use a for loop to print each set of keys/values from your dictionary on new lines, one line per loop, with the resulting form 'My name is <key> and my job is <value>'. The point of this exercise isn't the answer, the point of this exercise is learning how to use online resources to search for an answer and translate the answer from those resources into your own work."
   ]
  },
  {
   "cell_type": "code",
   "execution_count": 14,
   "metadata": {},
   "outputs": [
    {
     "name": "stdout",
     "output_type": "stream",
     "text": [
      "{'Teigan': 'Performance Analyst', 'Zivilie': 'Performence Officer', 'Felix': 'Data Officer'}\n",
      "['Performance Analyst', 'Performence Officer', 'Data Officer']\n",
      "['Data Officer', 'Performance Analyst', 'Performence Officer']\n"
     ]
    }
   ],
   "source": [
    "# Create a dictionary of names ans job titles\n",
    "group_names = {\n",
    "    'Teigan':\"Performance Analyst\",\n",
    "    'Zivilie':\"Performence Officer\",\n",
    "    'Felix':\"Data Officer\"\n",
    "}\n",
    "\n",
    "print(group_names)\n",
    "\n",
    "# printing all the items as a single list\n",
    "print(list(group_names.values()))\n",
    "\n",
    "# Sort and print the lsit alphabeltically \n",
    "\n",
    "titles = list(sorted(group_names.values()))\n",
    "print(titles)\n",
    "\n"
   ]
  },
  {
   "cell_type": "code",
   "execution_count": 15,
   "metadata": {},
   "outputs": [
    {
     "name": "stdout",
     "output_type": "stream",
     "text": [
      "My name is Teigan and my job is Performance Analyst.\n",
      "My name is Zivilie and my job is Performence Officer.\n",
      "My name is Felix and my job is Data Officer.\n"
     ]
    }
   ],
   "source": [
    "# Create a loop \n",
    "# print each set of value keys on new lines, one per loop\n",
    "\n",
    "\n",
    "for key, values in group_names.items():\n",
    "    name = key\n",
    "    job = values\n",
    "    print(f'My name is {name} and my job is {job}.')\n",
    "\n",
    "\n"
   ]
  },
  {
   "cell_type": "code",
   "execution_count": 16,
   "metadata": {},
   "outputs": [
    {
     "name": "stdout",
     "output_type": "stream",
     "text": [
      "Performance Analyst\n",
      "Performence Officer\n",
      "Data Officer\n",
      "\n",
      "Teigan\n",
      "Zivilie\n",
      "Felix\n"
     ]
    }
   ],
   "source": [
    "# more example loops \n",
    "\n",
    "for x in group_names.values():\n",
    "    print(x)\n",
    "\n",
    "print()\n",
    "\n",
    "\n",
    "for x in group_names.keys():\n",
    "    print(x)"
   ]
  },
  {
   "cell_type": "markdown",
   "metadata": {},
   "source": [
    "# Session 2\n",
    "Now we'll look at dataframes which are probably going to be the most powerful ways of storing, manipulating, and using data for us. Dataframes is one of the key ways of working with tabular data in Python. To use them, we need to import the package that has them to our workspace. It's called pandas. Every time we use the package, we'd have to tell Python we want to, bu calling 'pandas' but this is a bit long to do over and over, so the accepted way is to import pandas as pd, and we can use pd as short for pandas. This will become clear as we go.\n",
    "\n",
    "Dataframes can be made in lots of ways, we can build them from scratch using things like lists and dictionaries, we can read in data from files like CSVs and Excel files, and we can even use extra packages like SQLAlchemy to query SQL databases directly into dataframes. For now, we'll build up our skills by hard coding them from scratch, first using dicitonaries. In this case, we will make a dictionary, with each key being a column, and all the values in lists being the values in that column per row."
   ]
  },
  {
   "cell_type": "code",
   "execution_count": 17,
   "metadata": {},
   "outputs": [
    {
     "name": "stdout",
     "output_type": "stream",
     "text": [
      "  here's a column  Here's another and another\n",
      "0           Val 1               4         foo\n",
      "1               2               5         bar\n",
      "2           Val 3               6         baz\n",
      "  letter word  number\n",
      "0      A  Foo       1\n",
      "1      B  Bar       2\n",
      "2      C  Baz       3\n"
     ]
    }
   ],
   "source": [
    "import pandas as pd\n",
    "\n",
    "# Notice here we made a string, but the string had an apostrophe in, \n",
    "# to make sure the apostrophe was inside the string, we used double quotes\n",
    "d = {\"here's a column\":['Val 1', 2, 'Val 3'], \n",
    "     \"Here's another\":[4, 5, 6],\n",
    "     \"and another\":['foo', 'bar', 'baz']}\n",
    "\n",
    "df_1  = pd.DataFrame(d)\n",
    "print(df_1)\n",
    "\n",
    "# Perhaps a more intuituve way of building a df, one dict per row\n",
    "df_2 = pd.DataFrame([  \n",
    "    {'letter':'A',\n",
    "     'word':'Foo',\n",
    "     'number':1},\n",
    "     {'letter':'B',\n",
    "     'word':'Bar',\n",
    "     'number':2},\n",
    "     {'letter':'C',\n",
    "     'word':'Baz',\n",
    "     'number':3},\n",
    "])\n",
    "\n",
    "print(df_2)\n"
   ]
  },
  {
   "cell_type": "code",
   "execution_count": 18,
   "metadata": {},
   "outputs": [
    {
     "name": "stdout",
     "output_type": "stream",
     "text": [
      "            Name  Salary      Job Title\n",
      "0  Matthew Smith   20000  Administrator\n",
      "1   Luke Johnson   20000   Receptionist\n",
      "2    Mark Andews   30000     Supervisor\n",
      "3   John O'reily   25000        Analyst\n"
     ]
    }
   ],
   "source": [
    "# Make sure you have Pandas imported as pd.\n",
    "# Using dictionaries and the pd.DataFrame method (remember the capitals) make a dataframe \n",
    "# of a few employees at an imaginary company with the columns: name, salary, and job title.\n",
    "# Name the dataframe something sensible.\n",
    "# For a later exercise, ensure every employess has a first and last name seperated by a space.\n",
    "# Print it!\n",
    "\n",
    "employees = pd.DataFrame({\"Name\":['Matthew Smith', 'Luke Johnson', 'Mark Andews', \"John O'reily\"],\n",
    "                   \"Salary\":[20000, 20000, 30000, 25000],\n",
    "                   \"Job Title\":['Administrator', 'Receptionist', 'Supervisor', 'Analyst'],})\n",
    "\n",
    "print(employees)\n"
   ]
  },
  {
   "cell_type": "markdown",
   "metadata": {},
   "source": [
    "We will often want to interrogate data in dfs, a good way to start is by using the .info() method, .dtypes is also useful to find out what type of data is stored in a column. .head(n)/.tail(n) will print the top/bottom n rows respectively. A full list of Pandas methods can be found here: https://pandas.pydata.org/pandas-docs/stable/user_guide/basics.html"
   ]
  },
  {
   "cell_type": "code",
   "execution_count": 19,
   "metadata": {},
   "outputs": [
    {
     "name": "stdout",
     "output_type": "stream",
     "text": [
      "<class 'pandas.core.frame.DataFrame'>\n",
      "RangeIndex: 3 entries, 0 to 2\n",
      "Data columns (total 3 columns):\n",
      " #   Column  Non-Null Count  Dtype \n",
      "---  ------  --------------  ----- \n",
      " 0   letter  3 non-null      object\n",
      " 1   word    3 non-null      object\n",
      " 2   number  3 non-null      int64 \n",
      "dtypes: int64(1), object(2)\n",
      "memory usage: 200.0+ bytes\n",
      "None\n",
      "letter    object\n",
      "word      object\n",
      "number     int64\n",
      "dtype: object\n",
      "  letter word  number\n",
      "2      C  Baz       3\n"
     ]
    }
   ],
   "source": [
    "print(df_2.info(1))\n",
    "print(df_2.dtypes)\n",
    "print(df_2.tail(1))"
   ]
  },
  {
   "cell_type": "code",
   "execution_count": 20,
   "metadata": {},
   "outputs": [
    {
     "name": "stdout",
     "output_type": "stream",
     "text": [
      "            Name  Salary      Job Title\n",
      "0  Matthew Smith   20000  Administrator\n",
      "1   Luke Johnson   20000   Receptionist\n",
      "2    Mark Andews   30000     Supervisor\n",
      "3   John O'reily   25000        Analyst\n",
      "Name         object\n",
      "Salary        int64\n",
      "Job Title    object\n",
      "dtype: object\n",
      "<class 'pandas.core.frame.DataFrame'>\n",
      "RangeIndex: 4 entries, 0 to 3\n",
      "Data columns (total 3 columns):\n",
      " #   Column     Non-Null Count  Dtype \n",
      "---  ------     --------------  ----- \n",
      " 0   Name       4 non-null      object\n",
      " 1   Salary     4 non-null      int64 \n",
      " 2   Job Title  4 non-null      object\n",
      "dtypes: int64(1), object(2)\n",
      "memory usage: 224.0+ bytes\n",
      "None\n"
     ]
    }
   ],
   "source": [
    "# On seprate lines print the top line of your df using the head method, \n",
    "# print the .dtypes of your dataframe, and print the info.\n",
    "print(employees.head())\n",
    "print(employees.dtypes)\n",
    "print(employees.info())"
   ]
  },
  {
   "cell_type": "code",
   "execution_count": 21,
   "metadata": {},
   "outputs": [
    {
     "name": "stdout",
     "output_type": "stream",
     "text": [
      "letter          ABC\n",
      "word      FooBarBaz\n",
      "number            6\n",
      "dtype: object\n",
      "2.0\n",
      "0    1\n",
      "1    3\n",
      "2    6\n",
      "Name: number, dtype: int64\n",
      "[1, 3]\n"
     ]
    }
   ],
   "source": [
    "# See how it sums strings, exactly as we did earlier?\n",
    "print(df_2.sum()) \n",
    "\n",
    "# You obviously can't take the mean of strings, so lets look at just the number column, we access using square braces\n",
    "print(df_2['number'].mean()) \n",
    "\n",
    "# cumalative sum is also useful\n",
    "print(df_2['number'].cumsum()) \n",
    "\n",
    "# Min and max. Notice we can access a column using . notation rather \n",
    "# than square braces if we want, though square braces is more common\n",
    "print([df_2['number'].min(), df_2.number.max()]) "
   ]
  },
  {
   "cell_type": "code",
   "execution_count": 22,
   "metadata": {},
   "outputs": [
    {
     "name": "stdout",
     "output_type": "stream",
     "text": [
      "95000\n",
      "23750.0\n",
      "20000 30000\n"
     ]
    }
   ],
   "source": [
    "# Use the pandas methods from above to find and print the sum, mean, \n",
    "# minimum, and maximum salary values from your df.\n",
    "# If it doesn't work, check you haven't input the salary values as strings instead of numbers.\n",
    "\n",
    "print(employees['Salary'].sum())\n",
    "print(employees['Salary'].mean())\n",
    "print(employees['Salary'].min(), employees['Salary'].max())"
   ]
  },
  {
   "cell_type": "markdown",
   "metadata": {},
   "source": [
    "This next cell introduces functions and conditionals briefly, don't worry too much about them, we'll go through them in depth in a later work sheet."
   ]
  },
  {
   "cell_type": "code",
   "execution_count": 23,
   "metadata": {},
   "outputs": [
    {
     "name": "stdout",
     "output_type": "stream",
     "text": [
      "  letter word  number  product 3\n",
      "0      A  Foo       1          3\n",
      "1      B  Bar       2          6\n",
      "2      C  Baz       3          9\n",
      "  letter word  number  product 3 multiple of 3\n",
      "0      A  Foo       1          3           Yes\n",
      "1      B  Bar       2          6           Yes\n",
      "2      C  Baz       3          9            No\n"
     ]
    }
   ],
   "source": [
    "# we can also perform actions on columns easily, for example, \n",
    "# multiplying each row in the number column by 3 to make a new column\n",
    "\n",
    "df_2['product 3'] = df_2['number'] * 3 \n",
    "print(df_2)\n",
    "\n",
    "def multiple_of_3(x):\n",
    "    if x % 3:\n",
    "        return 'Yes'\n",
    "    else:\n",
    "        return 'No'\n",
    "\n",
    "# mapping is really useful if we want to perform an action for every row that changes based on values in rows    \n",
    "\n",
    "df_2['multiple of 3'] = df_2['number'].map(multiple_of_3) \n",
    "\n",
    "print(df_2)"
   ]
  },
  {
   "cell_type": "code",
   "execution_count": 24,
   "metadata": {},
   "outputs": [
    {
     "name": "stdout",
     "output_type": "stream",
     "text": [
      "0    21400.0\n",
      "1    21400.0\n",
      "2    32100.0\n",
      "3    26750.0\n",
      "Name: Salary, dtype: float64\n",
      "            Name   Salary      Job Title       Catagory\n",
      "0  Matthew Smith  21400.0  Administrator  Below average\n",
      "1   Luke Johnson  21400.0   Receptionist  Below average\n",
      "2    Mark Andews  32100.0     Supervisor  Below average\n",
      "3   John O'reily  26750.0        Analyst  Below average\n"
     ]
    }
   ],
   "source": [
    "# Everyone at your imaginary company has had a pay rise, update the salary column to \n",
    "# reflect this by using the * operator by 1.07 and setting it equal to\n",
    "# the same column. Print the new column using the square bracket method.\n",
    "\n",
    "employees['Salary'] = employees['Salary'] * 1.07\n",
    "print(employees['Salary'])\n",
    "\n",
    "\n",
    "# use the .map method and the pre-written function on your dataframe to make a \n",
    "# new column indicating whose salary is above avergage (The average uk salary is £33,402). \n",
    "\n",
    "def above_average(x):\n",
    "    if x > 33402:\n",
    "        return 'Above avergage'\n",
    "    if x == 33402:\n",
    "        return 'Average'\n",
    "    else:\n",
    "        return 'Below average'\n",
    "\n",
    "employees['Catagory'] = employees['Salary'].map(above_average)\n",
    "\n",
    "print(employees)"
   ]
  },
  {
   "cell_type": "code",
   "execution_count": 25,
   "metadata": {},
   "outputs": [
    {
     "name": "stdout",
     "output_type": "stream",
     "text": [
      "  ChildId  Age first contact Gender    Birthday CP Plan?\n",
      "0     id1                  6      M  01/01/2002        Y\n",
      "1     id2                 12      m  02/02/2003        n\n",
      "2     id3                 11      F        <NA>        N\n",
      "3     id4                  1         03/03/2023       No\n",
      "4     id5                 19      F  06/01/2012      yES\n",
      "<class 'pandas.core.frame.DataFrame'>\n",
      "RangeIndex: 5 entries, 0 to 4\n",
      "Data columns (total 5 columns):\n",
      " #   Column             Non-Null Count  Dtype \n",
      "---  ------             --------------  ----- \n",
      " 0   ChildId            5 non-null      object\n",
      " 1   Age first contact  5 non-null      int64 \n",
      " 2   Gender             5 non-null      object\n",
      " 3   Birthday           4 non-null      object\n",
      " 4   CP Plan?           5 non-null      object\n",
      "dtypes: int64(1), object(4)\n",
      "memory usage: 328.0+ bytes\n",
      "None\n"
     ]
    }
   ],
   "source": [
    "# Here we're just making a larger dataframe to work from for examples going forward\n",
    "\n",
    "df = pd.DataFrame({'ChildId':['id1', 'id2', 'id3', 'id4', 'id5'],\n",
    "                   'Age first contact':[6,12,11,1,19],\n",
    "                   'Gender':['M','m', 'F', '', 'F' ],\n",
    "                   'Birthday':['01/01/2002', '02/02/2003', pd.NA, '03/03/2023', '06/01/2012'],\n",
    "                   'CP Plan?':['Y', 'n', 'N', 'No', 'yES'],})\n",
    "\n",
    "print(df)\n",
    "print(df.info())"
   ]
  },
  {
   "cell_type": "markdown",
   "metadata": {},
   "source": [
    "So, lets use this df to go though some key DF processes: making selections based on criteria, some basic data cleaning, and making sure data is of the right type"
   ]
  },
  {
   "cell_type": "code",
   "execution_count": 26,
   "metadata": {},
   "outputs": [
    {
     "name": "stdout",
     "output_type": "stream",
     "text": [
      "datetime64[ns]\n",
      "0   7925 days\n",
      "1   7528 days\n",
      "2         NaT\n",
      "3    194 days\n",
      "4   4121 days\n",
      "Name: Age, dtype: timedelta64[ns]\n",
      "  ChildId  Age first contact Gender   Birthday CP Plan?   Age\n",
      "0     id1                  6      M 2002-01-01        Y  22.0\n",
      "1     id2                 12      m 2003-02-02        n  21.0\n",
      "2     id3                 11      F        NaT        N   NaN\n",
      "3     id4                  1        2023-03-03       No   1.0\n",
      "4     id5                 19      F 2012-06-01      yES  11.0\n",
      "  ChildId  Age first contact Gender   Birthday CP Plan?   Age\n",
      "4     id5                 19      F 2012-06-01      yES  11.0\n"
     ]
    }
   ],
   "source": [
    "# Making sure stuff is the right type: our dates are strings, we need them to be dates!\n",
    "df['Birthday'] = pd.to_datetime(df['Birthday'])\n",
    "\n",
    "# Now it's a datetime object, we can do a calculation to work out current ages!\n",
    "print(df['Birthday'].dtypes) \n",
    "\n",
    "df['Age'] = pd.to_datetime('13/09/2023', dayfirst=True) - df['Birthday']\n",
    "\n",
    "print(df['Age']) # It's now a time delta object, we want age in years!\n",
    "\n",
    "\n",
    "import numpy as np\n",
    "\n",
    "df['Age'] = df['Age'] / pd.Timedelta('365 days')\n",
    "\n",
    "# Round, convert to integers, ignoring the error produced by the empty value for age\n",
    "df['Age'] = df['Age'].round().astype('int', errors='ignore') \n",
    "print(df)\n",
    "\n",
    "# Lets do an error check and take rows where first contact is an age older then their current age\n",
    "error_df = df[df['Age first contact'] > df['Age']]\n",
    "\n",
    "print(error_df) # We can see, based on our selection, child id5 has an error"
   ]
  },
  {
   "cell_type": "code",
   "execution_count": 27,
   "metadata": {},
   "outputs": [
    {
     "name": "stdout",
     "output_type": "stream",
     "text": [
      "            Name   Salary      Job Title       Catagory Start Date  \\\n",
      "0  Matthew Smith  21400.0  Administrator  Below average 2002-01-01   \n",
      "1   Luke Johnson  21400.0   Receptionist  Below average 2003-02-02   \n",
      "2    Mark Andews  32100.0     Supervisor  Below average 2023-03-03   \n",
      "3   John O'reily  26750.0        Analyst  Below average 2012-06-01   \n",
      "\n",
      "   Years Worked  \n",
      "0            22  \n",
      "1            21  \n",
      "2             1  \n",
      "3            12  \n",
      "The mean number of years worked is 14.0\n"
     ]
    }
   ],
   "source": [
    "# Add a start date column to the dataframe of employees you made earlier,\n",
    "# convert it to a datetime data type, and add a column for years worked.\n",
    "\n",
    "start_dates = ['01/01/2002', '02/02/2003', '03/03/2023', '06/01/2012'] \n",
    "employees['Start Date'] = start_dates\n",
    "\n",
    "employees['Start Date'] = pd.to_datetime(employees['Start Date'])\n",
    "\n",
    "employees['Years Worked'] = pd.to_datetime('15/05/2024', dayfirst=True) - employees['Start Date']\n",
    "employees['Years Worked'] = employees['Years Worked']  / pd.Timedelta('365 days')\n",
    "employees['Years Worked'] = employees['Years Worked'].round().astype('int', errors='ignore') \n",
    "\n",
    "print(employees)\n",
    "\n",
    "# Use the .mean() method on the years worked column to calculate the average\n",
    "# time people have worked for and assign this for a variable.\n",
    "\n",
    "print('The mean number of years worked is', employees['Years Worked'].mean())\n",
    "\n",
    "# Next, make a new dataframe, with an appropriate name, choosing only rows\n",
    "# where the years worked value is greater than the average. \n",
    "\n",
    "\n",
    "\n",
    "# Tips:\n",
    "# An easy way to make a new column and add values to it is to have the\n",
    "# dataframe column and set it equal to a list of values you want, in order.\n",
    "# For example 'df['numbers'] = [1, 2, 3, 4, 5]'. Make sure you have as\n",
    "# many items in your list as you have rows in the dataframe.\n",
    "# Make sure you add the start dates in your list as strings, all in the\n",
    "# same format (eg dd/mm/yyyy)."
   ]
  },
  {
   "cell_type": "markdown",
   "metadata": {},
   "source": [
    "We've converted to dates, calculated ages, and found a row with errors, lets do a little cleaning now. "
   ]
  },
  {
   "cell_type": "code",
   "execution_count": 28,
   "metadata": {},
   "outputs": [
    {
     "name": "stdout",
     "output_type": "stream",
     "text": [
      "  ChildId  Age first contact Gender   Birthday CP Plan?   Age\n",
      "0     id1                  6      m 2002-01-01        Y  22.0\n",
      "1     id2                 12      m 2003-02-02        n  21.0\n",
      "2     id3                 11      f        NaT        N   NaN\n",
      "3     id4                  1        2023-03-03       No   1.0\n",
      "4     id5                 19      f 2012-06-01      yES  11.0\n",
      "  ChildId  Age first contact Gender   Birthday CP Plan?   Age\n",
      "0     id1                  6      m 2002-01-01        y  22.0\n",
      "1     id2                 12      m 2003-02-02        n  21.0\n",
      "2     id3                 11      f        NaT        n   NaN\n",
      "3     id4                  1        2023-03-03       no   1.0\n",
      "4     id5                 19      f 2012-06-01      yes  11.0\n",
      "  ChildId  Age first contact Gender   Birthday CP Plan?   Age\n",
      "0     id1                  6      m 2002-01-01        y  22.0\n",
      "1     id2                 12      m 2003-02-02        n  21.0\n",
      "2     id3                 11      f        NaT        n   NaN\n",
      "3     id4                  1        2023-03-03        n   1.0\n",
      "4     id5                 19      f 2012-06-01        y  11.0\n"
     ]
    }
   ],
   "source": [
    "# Convert all gender values to lower case\n",
    "df['Gender'] = df['Gender'].str.lower()\n",
    "print(df)\n",
    "\n",
    "# convert all cp plan? to lower... but we still need the right things in each column\n",
    "df['CP Plan?'] = df['CP Plan?'].str.lower()\n",
    "\n",
    "# This has got a bit more complicated, we've used a lambda function to change\n",
    "# value sbased on other values\n",
    "print(df)\n",
    "df['CP Plan?'] = df['CP Plan?'].apply(lambda x: 'y' if 'y' in x else 'n' if 'n' in x else pd.NA) \n",
    "\n",
    "df = df.fillna(pd.NA) \n",
    "# .fillna() can be used to fill empty rows with whatever we want. standard would be\n",
    "# pd.NA which pandas understands as NAs\n",
    "# Note, this hasn't worked for our empty value in gender as an empty\n",
    "# string is still a string!\n",
    "print(df)\n",
    "\n",
    "df = df.replace(r'^\\s*$', pd.NA, regex=True) \n",
    "# The easiest way to fill it is replacing the regex expression for an empty string with an na\n",
    "# We can see in the table below we have a NaN, an <NA>, and an NaT, these are the\n",
    "# Not a Number, Empty, and Not a Time NAs for each data type."
   ]
  },
  {
   "cell_type": "code",
   "execution_count": 29,
   "metadata": {},
   "outputs": [
    {
     "name": "stdout",
     "output_type": "stream",
     "text": [
      "            Name   Salary      Job Title       Catagory Start Date  \\\n",
      "0  matthew smith  21400.0  Administrator  Below average 2002-01-01   \n",
      "1   luke johnson  21400.0   Receptionist  Below average 2003-02-02   \n",
      "2    mark andews  32100.0     Supervisor  Below average 2023-03-03   \n",
      "3   john o'reily  26750.0        Analyst  Below average 2012-06-01   \n",
      "\n",
      "   Years Worked First Name Last Name  \n",
      "0            22    matthew     smith  \n",
      "1            21       luke   johnson  \n",
      "2             1       mark    andews  \n",
      "3            12       john   o'reily  \n"
     ]
    }
   ],
   "source": [
    "# In this cell use the .str.lower() method to make all the names in the employee names\n",
    "# column lower case\n",
    "\n",
    "employees['Name'] = employees['Name'].str.lower()\n",
    "\n",
    "# You now need to make two new columns, one for first and one for last name.\n",
    "# We are going to do this by learning a new skill:\n",
    "# Getting other people to write the code for us!\n",
    "# Use this stack overflow link to learn how to split columns in pandas: \n",
    "# https://stackoverflow.com/questions/38437847/pandas-split-name-column-into-first-and-last-name-if-contains-one-space\n",
    "\n",
    "employees[['First Name', 'Last Name']] = employees['Name'].loc[employees['Name'].str.split().str.len() == 2].str.split(expand=True)\n",
    "\n",
    "print(employees)"
   ]
  },
  {
   "cell_type": "code",
   "execution_count": 30,
   "metadata": {},
   "outputs": [
    {
     "name": "stdout",
     "output_type": "stream",
     "text": [
      "{'ChildId': ['id8'], 'Age': [10], 'Gender': ['m'], 'Birthday': [Timestamp('1993-05-12 00:00:00')], 'NHS Number': '666'}\n",
      "  ChildId  Age first contact Gender   Birthday CP Plan?   Age NHS Number\n",
      "0     id1                6.0      m 2002-01-01        y  22.0        NaN\n",
      "1     id2               12.0      m 2003-02-02        n  21.0        NaN\n",
      "2     id3               11.0      f        NaT        n   NaN        NaN\n",
      "3     id4                1.0   <NA> 2023-03-03        n   1.0        NaN\n",
      "4     id5               19.0      f 2012-06-01        y  11.0        NaN\n",
      "5     id8                NaN      m 1993-05-12      NaN  10.0        666\n",
      "ChildId                      object\n",
      "Age first contact           float64\n",
      "Gender                       object\n",
      "Birthday             datetime64[ns]\n",
      "CP Plan?                     object\n",
      "Age                         float64\n",
      "NHS Number                   object\n",
      "dtype: object\n"
     ]
    }
   ],
   "source": [
    "# Lets say we have another child\n",
    "new_child = {\n",
    "            'ChildId':['id8'],\n",
    "             'Age':[10],\n",
    "             'Gender':['m'],\n",
    "             'Birthday':[pd.to_datetime('05/12/1993')],\n",
    "             'NHS Number': '666',\n",
    "             }\n",
    "\n",
    "print(new_child)\n",
    "df = pd.concat([df, pd.DataFrame(new_child)], ignore_index=True)\n",
    "# this has allowed us to add a new child, and has also added a new column to include the new data\n",
    "print(df) \n",
    "print(df.dtypes)"
   ]
  },
  {
   "cell_type": "code",
   "execution_count": 31,
   "metadata": {},
   "outputs": [
    {
     "name": "stdout",
     "output_type": "stream",
     "text": [
      "            Name   Salary      Job Title       Catagory Start Date  \\\n",
      "0  matthew smith  21400.0  Administrator  Below average 2002-01-01   \n",
      "1   luke johnson  21400.0   Receptionist  Below average 2003-02-02   \n",
      "2    mark andews  32100.0     Supervisor  Below average 2023-03-03   \n",
      "3   john o'reily  26750.0        Analyst  Below average 2012-06-01   \n",
      "4     Amy Parker      NaN     Accountant  Below Average 2024-01-01   \n",
      "\n",
      "   Years Worked First Name Last Name  \n",
      "0            22    matthew     smith  \n",
      "1            21       luke   johnson  \n",
      "2             1       mark    andews  \n",
      "3            12       john   o'reily  \n",
      "4             0        Amy    Parker  \n"
     ]
    }
   ],
   "source": [
    "# In this cell, make a dataframe for a new employee, with all the same columns as before,\n",
    "# and an extra 'employee ID' column.\n",
    "\n",
    "new_employee = {\n",
    "    'Name':['Amy Parker'],\n",
    "    'Job Title':['Accountant'],\n",
    "    'Catagory':['Below Average'],\n",
    "    'Start Date':[pd.to_datetime('01/01/2024')],\n",
    "    'Years Worked':[int(0)],\n",
    "    'First Name':['Amy'],\n",
    "    'Last Name':['Parker'],\n",
    "\n",
    "}\n",
    "\n",
    "# Use the pd.concat() method to join it to your employees dataframe.\n",
    "employees = pd.concat([employees, pd.DataFrame(new_employee)], ignore_index=True)\n",
    "print(employees)"
   ]
  },
  {
   "cell_type": "code",
   "execution_count": 32,
   "metadata": {},
   "outputs": [
    {
     "name": "stdout",
     "output_type": "stream",
     "text": [
      "  ChildId  Age first contact Gender   Birthday CP Plan?   Age NHS Number_x  \\\n",
      "0     id1                6.0      m 2002-01-01        y  22.0          303   \n",
      "1     id2               12.0      m 2003-02-02        n  21.0       3u5029   \n",
      "2     id3               11.0      f        NaT        n   NaN         gqw3   \n",
      "3     id4                1.0   <NA> 2023-03-03        n   1.0       avsgvb   \n",
      "4     id5               19.0      f 2012-06-01        y  11.0       varwvw   \n",
      "5     id8                NaN      m 1993-05-12      NaN  10.0          666   \n",
      "\n",
      "  NHS Number_y  \n",
      "0          303  \n",
      "1       3u5029  \n",
      "2         gqw3  \n",
      "3       avsgvb  \n",
      "4       varwvw  \n",
      "5          NaN  \n",
      "  ChildId  Age first contact Gender   Birthday CP Plan?   Age NHS Number\n",
      "0     id1                6.0      m 2002-01-01        y  22.0        303\n",
      "1     id2               12.0      m 2003-02-02        n  21.0     3u5029\n",
      "2     id3               11.0      f        NaT        n   NaN       gqw3\n",
      "3     id4                1.0   <NA> 2023-03-03        n   1.0     avsgvb\n",
      "4     id5               19.0      f 2012-06-01        y  11.0     varwvw\n",
      "5     id8                NaN      m 1993-05-12      NaN  10.0        666\n"
     ]
    }
   ],
   "source": [
    "nhs_numbers = pd.DataFrame([\n",
    "                            {'ChildId':'id1',\n",
    "                            'NHS Number': '303',},\n",
    "                            {'ChildId':'id2',\n",
    "                            'NHS Number': '3u5029',},\n",
    "                            {'ChildId':'id3',\n",
    "                            'NHS Number': 'gqw3',},\n",
    "                            {'ChildId':'id4',\n",
    "                            'NHS Number': 'avsgvb',},\n",
    "                            {'ChildId':'id5',\n",
    "                            'NHS Number': 'varwvw',},\n",
    "                            ])\n",
    "\n",
    "df = pd.merge(df, nhs_numbers, how='left', on='ChildId')\n",
    "df['NHS Number_x'] = df['NHS Number_x'].fillna(df['NHS Number_y'])\n",
    "print(df)\n",
    "df.drop('NHS Number_y', axis=1, inplace=True)\n",
    "df.rename({'NHS Number_x': 'NHS Number'}, axis=1, inplace=True)\n",
    "print(df)"
   ]
  },
  {
   "cell_type": "code",
   "execution_count": 33,
   "metadata": {},
   "outputs": [
    {
     "name": "stdout",
     "output_type": "stream",
     "text": [
      "            Name   Salary      Job Title       Catagory Start Date  \\\n",
      "0  matthew smith  21400.0  Administrator  Below average 2002-01-01   \n",
      "1   luke johnson  21400.0   Receptionist  Below average 2003-02-02   \n",
      "2    mark andews  32100.0     Supervisor  Below average 2023-03-03   \n",
      "3   john o'reily  26750.0        Analyst  Below average 2012-06-01   \n",
      "4     Amy Parker      NaN     Accountant  Below Average 2024-01-01   \n",
      "\n",
      "   Years Worked First Name Last Name  ID_x  ID_y       Manager  \n",
      "0            22    matthew     smith  0001  0001  mark andrews  \n",
      "1            21       luke   johnson  0002  0002  mark andrews  \n",
      "2             1       mark    andews  0005  0005     tom clark  \n",
      "3            12       john   o'reily  0065  0065     tom clark  \n",
      "4             0        Amy    Parker   NaN   NaN           NaN  \n"
     ]
    }
   ],
   "source": [
    "# Make a new dataframe of your employees names and some employee IDs, then merge \n",
    "# it with your big dataframe, and use the drop, fillna, and rename methods to clean it up.\n",
    "\n",
    "employee_ID = pd.DataFrame({\n",
    "    'Name':['matthew smith', 'luke johnson', 'mark andews', \"john o'reily\", 'amy parker'],\n",
    "    'ID':['0001', '0002', '0005', '0065', '0043']\n",
    "    })\n",
    "\n",
    "company = pd.merge(employees, employee_ID, how='left', on='Name')\n",
    "\n",
    "\n",
    "# To finish off, make a new dataframe with every employee from your large employees \n",
    "# dataframe with a column for their employee IDs, and a new column for their managers. \n",
    "\n",
    "emploees_managers = pd.DataFrame({\n",
    "    'Name':['matthew smith', 'luke johnson', 'mark andews', \"john o'reily\", 'amy parker'],\n",
    "    'ID':['0001', '0002', '0005', '0065', '0043'],\n",
    "    'Manager':['mark andrews', 'mark andrews', 'tom clark', 'tom clark', 'david grey']\n",
    "    })\n",
    "\n",
    "\n",
    "\n",
    "# Merge this to the bigger dataframe and print it to see that merging doesn't always need\n",
    "# any clean up!\n",
    "\n",
    "company = pd.merge(company, emploees_managers, how='left', on='Name')\n",
    "\n",
    "\n",
    "print(company)"
   ]
  },
  {
   "cell_type": "markdown",
   "metadata": {},
   "source": [
    "## Group work for session 2\n",
    "There is a csv of house price data in the UK from 1980-2023 here: https://raw.githubusercontent.com/data-to-insight/D2I-Jupyter-Notebook-Tools/main/ERN-worksheets/data/1980%202023%20average%20house%20prices.csv\n",
    "\n",
    "This is real data taken from the ONS website, but stored on GitHub for ease of accessibility.\n",
    "\n",
    "As a group, use google to work out how to read data from a url into pandas, and do so, naming the dataframe variable appropriately.\n",
    "Convert date columns to datetime type.\n",
    "Find the year with the highest and lowest house prices.\n",
    "Find the year with the largest percentage increase in house prices.\n",
    "Slice the dataframe to return only rows where the average house price is over 200,000.\n",
    "Slice the dataframe to return only rows where the average house price in that year is over the median house price for all the data.\n",
    "\n",
    "Now for the hard bit once again: work out how to plot the average house price against the time period as a line plot, using a library called seaborn.\n",
    "You will need to import seaborn as sns (just as we import pandas as pd).\n",
    "A good place to start is google, and the seaborn documentation: https://seaborn.pydata.org/generated/seaborn.lineplot.html"
   ]
  },
  {
   "cell_type": "code",
   "execution_count": 48,
   "metadata": {},
   "outputs": [
    {
     "name": "stdout",
     "output_type": "stream",
     "text": [
      "               Name     Period  House price index All property types  \\\n",
      "258  United Kingdom 2001-07-01                                 52.43   \n",
      "259  United Kingdom 2001-08-01                                 52.43   \n",
      "260  United Kingdom 2001-09-01                                 52.43   \n",
      "265  United Kingdom 2002-02-01                                 53.06   \n",
      "266  United Kingdom 2002-03-01                                 54.92   \n",
      "..              ...        ...                                   ...   \n",
      "518  United Kingdom 2023-03-01                                148.20   \n",
      "519  United Kingdom 2023-04-01                                148.90   \n",
      "520  United Kingdom 2023-05-01                                149.50   \n",
      "521  United Kingdom 2023-06-01                                151.20   \n",
      "522  United Kingdom 2023-07-01                                152.00   \n",
      "\n",
      "     Average price All property types  \\\n",
      "258                             99971   \n",
      "259                             99971   \n",
      "260                             99971   \n",
      "265                            101164   \n",
      "266                            104705   \n",
      "..                                ...   \n",
      "518                            282548   \n",
      "519                            283871   \n",
      "520                            285053   \n",
      "521                            288281   \n",
      "522                            289824   \n",
      "\n",
      "     Percentage change (monthly) All property types  \\\n",
      "258                                            3.60   \n",
      "259                                            3.60   \n",
      "260                                            3.60   \n",
      "265                                            3.63   \n",
      "266                                            3.50   \n",
      "..                                              ...   \n",
      "518                                           -1.00   \n",
      "519                                            0.50   \n",
      "520                                            0.40   \n",
      "521                                            1.10   \n",
      "522                                            0.50   \n",
      "\n",
      "     Percentage change (yearly) All property types  \n",
      "258                                           9.96  \n",
      "259                                           9.96  \n",
      "260                                           9.96  \n",
      "265                                           8.62  \n",
      "266                                          12.42  \n",
      "..                                             ...  \n",
      "518                                           3.20  \n",
      "519                                           2.50  \n",
      "520                                           1.60  \n",
      "521                                           1.90  \n",
      "522                                           0.60  \n",
      "\n",
      "[261 rows x 6 columns]\n"
     ]
    }
   ],
   "source": [
    "# Pandas should already be loaded \n",
    "\n",
    "house_prices_df = pd.read_csv(\"https://raw.githubusercontent.com/data-to-insight/D2I-Jupyter-Notebook-Tools/main/ERN-worksheets/data/1980%202023%20average%20house%20prices.csv\")\n",
    "\n",
    "#Specify 'Period' as a datetime object \n",
    "house_prices_df['Period'] = pd.to_datetime(house_prices_df['Period'])\n",
    "\n",
    "# Find the highest and loswest House Prices \n",
    "highest_price = house_prices_df['House price index All property types'].max()\n",
    "lowest_price = house_prices_df['House price index All property types'].min()\n",
    "\n",
    "# Find the largest increase in house price \n",
    "largest_incease = house_prices_df['Percentage change (yearly) All property types'].max()\n",
    "\n",
    "# Filter House prices over 200,000\n",
    "over_200_df = house_prices_df.loc[house_prices_df['Average price All property types'] > 200000]\n",
    "\n",
    "# Filter House Prices that are above the median price \n",
    "above_median = house_prices_df.loc[house_prices_df['Average price All property types'] > house_prices_df['Average price All property types'].median()]\n",
    "print(above_median.head())\n",
    "\n"
   ]
  },
  {
   "cell_type": "code",
   "execution_count": 50,
   "metadata": {},
   "outputs": [
    {
     "data": {
      "text/plain": [
       "<Axes: xlabel='Period', ylabel='Average price All property types'>"
      ]
     },
     "execution_count": 50,
     "metadata": {},
     "output_type": "execute_result"
    },
    {
     "data": {
      "image/png": "[encoded data removed]",
      "text/plain": [
       "<Figure size 640x480 with 1 Axes>"
      ]
     },
     "metadata": {},
     "output_type": "display_data"
    }
   ],
   "source": [
    "import seaborn as sb \n",
    "\n",
    "sb.lineplot(house_prices_df, x=\"Period\", y=\"Average price All property types\")\n"
   ]
  }
 ],
 "metadata": {
  "kernelspec": {
   "display_name": "Python 3",
   "language": "python",
   "name": "python3"
  },
  "language_info": {
   "codemirror_mode": {
    "name": "ipython",
    "version": 3
   },
   "file_extension": ".py",
   "mimetype": "text/x-python",
   "name": "python",
   "nbconvert_exporter": "python",
   "pygments_lexer": "ipython3",
   "version": "3.10.13"
  },
  "orig_nbformat": 4
 },
 "nbformat": 4,
 "nbformat_minor": 2
}

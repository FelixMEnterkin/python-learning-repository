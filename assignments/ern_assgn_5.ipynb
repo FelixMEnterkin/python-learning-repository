{
 "cells": [
  {
   "cell_type": "code",
   "execution_count": 25,
   "metadata": {},
   "outputs": [
    {
     "data": {
      "text/plain": [
       "[0, 1, 1, 2, 3, 5, 8, 13, 21, 34, 55]"
      ]
     },
     "execution_count": 25,
     "metadata": {},
     "output_type": "execute_result"
    }
   ],
   "source": [
    "# Write a function that generates the fibonacci sequence up to a set number of terms\n",
    "\n",
    "def fibonacci(limit):\n",
    "    series = [0, 1]\n",
    "    while len(series) < limit:\n",
    "        \n",
    "        last = series[-2:]\n",
    "        new = sum(last)\n",
    "        series.append(new)\n",
    "    return series\n",
    "\n",
    "fibonacci(10)"
   ]
  },
  {
   "cell_type": "code",
   "execution_count": 35,
   "metadata": {},
   "outputs": [
    {
     "data": {
      "text/plain": [
       "[3, 4, 7, 11, 18, 29, 47, 76, 123, 199]"
      ]
     },
     "execution_count": 35,
     "metadata": {},
     "output_type": "execute_result"
    }
   ],
   "source": [
    "# Extend the fibonacci function previously given to take two starting numbers and, using them, generate a fibonacci-like sequence up to a set number of terms.\n",
    "\n",
    "def fibonacci_like(x,y, limit):\n",
    "    series = [x, y]\n",
    "    while len(series) < limit:\n",
    "        last = series[-2:]\n",
    "        new = sum(last)\n",
    "        series.append(new)\n",
    "    return series\n",
    "\n",
    "fibonacci_like(3, 4, limit=10)"
   ]
  },
  {
   "cell_type": "code",
   "execution_count": 13,
   "metadata": {},
   "outputs": [
    {
     "data": {
      "text/plain": [
       "[0, 2, 4]"
      ]
     },
     "execution_count": 13,
     "metadata": {},
     "output_type": "execute_result"
    }
   ],
   "source": [
    "# Write a function named capital_indexes. The function takes a single parameter, which is a string. \n",
    "# Your function should return a list of all the indexes in the string that have capital letters.\n",
    "\n",
    "# For example, calling capital_indexes(\"HeLlO\") should return the list [0, 2, 4].\n",
    "\n",
    "def capital_indexes(string):\n",
    "    return [ i for i, letter in enumerate(string) if letter.isupper()]\n",
    "\n",
    "capital_indexes(\"HeLlO\")"
   ]
  }
 ],
 "metadata": {
  "kernelspec": {
   "display_name": "Python 3",
   "language": "python",
   "name": "python3"
  },
  "language_info": {
   "codemirror_mode": {
    "name": "ipython",
    "version": 3
   },
   "file_extension": ".py",
   "mimetype": "text/x-python",
   "name": "python",
   "nbconvert_exporter": "python",
   "pygments_lexer": "ipython3",
   "version": "3.10.13"
  }
 },
 "nbformat": 4,
 "nbformat_minor": 2
}

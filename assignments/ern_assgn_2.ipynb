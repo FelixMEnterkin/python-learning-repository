{
 "cells": [
  {
   "cell_type": "markdown",
   "metadata": {},
   "source": [
    "# Assignment 2"
   ]
  },
  {
   "cell_type": "code",
   "execution_count": 26,
   "metadata": {},
   "outputs": [
    {
     "name": "stdout",
     "output_type": "stream",
     "text": [
      "     Name Employee ID  Age  Salary          Job Title\n",
      "0    Lucy       07890   34   38000          Doveloper\n",
      "1   James       67890   32   30000  Juniour Doveloper\n",
      "2  Teegan       57985   56   45000            Manager\n",
      "3  Sophia       53379   24   27000          Associate\n",
      "4    Sean       46674   28   30000   Junior Doveloper\n"
     ]
    }
   ],
   "source": [
    "# This assignment focuses on dataframes\n",
    "# First off, using a method of your choice, make a dataframe with the columns:\n",
    "# EmployeeID, Age, Salary, Job Title\n",
    "# Fill this out with arbitrary but sensible inputs for 5 rows.\n",
    "# Ensure age and salary are stored as the right type of data for numbers, and that there's a good range of salarie\n",
    "\n",
    "import pandas as pd \n",
    "\n",
    "workforce = pd.DataFrame({ # the syntax for dataframe is simmilar to the dictionary syntax\n",
    "    \"Name\": [\"Lucy\", \"James\", \"Teegan\", \"Sophia\", \"Sean\"],\n",
    "    \"Employee ID\": [\"07890\", \"67890\", \"57985\", \"53379\", \"46674\"],\n",
    "    \"Age\": [34, 32, 56, 24, 28],\n",
    "    \"Salary\": [38000, 30000, 45000, 27000, 30000],\n",
    "    \"Job Title\": [\"Doveloper\", \"Juniour Doveloper\", \"Manager\", \"Associate\", \"Junior Doveloper\"]\n",
    "})\n",
    "\n",
    "print(workforce)\n"
   ]
  },
  {
   "cell_type": "code",
   "execution_count": 30,
   "metadata": {},
   "outputs": [
    {
     "name": "stdout",
     "output_type": "stream",
     "text": [
      "27000\n",
      "45000\n",
      "24\n",
      "56\n",
      "170000\n",
      "Teegan\n",
      "6\n",
      "     Name Employee ID  Age  Salary Job Title\n",
      "2  Teegan       57985   56   45000   Manager\n"
     ]
    }
   ],
   "source": [
    "# Use pandas methods to find the maximum and minimum salaries and ages\n",
    "\n",
    "minimum_salary = workforce[\"Salary\"].min()\n",
    "print(minimum_salary)\n",
    "\n",
    "maximum_salary = workforce[\"Salary\"].max()\n",
    "print(maximum_salary)\n",
    "\n",
    "min_age = workforce[\"Age\"].min()\n",
    "print(min_age)\n",
    "\n",
    "max_age = workforce[\"Age\"].max()\n",
    "print(max_age)\n",
    "\n",
    "\n",
    "# Find the sum of all the salaries using pandas methods\n",
    "sum_salary = workforce[\"Salary\"].sum()\n",
    "print(sum_salary)\n",
    "\n",
    "\n",
    "# Find the mean age \n",
    "mean_age = workforce[\"Age\"].mean()\n",
    "\n",
    "\n",
    "# A little more tricky: find the longest name and print it, and its length\n",
    "longest_name = workforce[\"Name\"].max()\n",
    "print(longest_name)\n",
    "print(len(longest_name))\n",
    "\n",
    "# Assign to an appropriately named variable a slice of the dataframe where all the salaries are above the median\n",
    "upper_half = workforce[workforce[\"Salary\"] > workforce[\"Salary\"].median()]\n",
    "\n",
    "# To a different appropriately named variable, slice the dataframe to have only those above the median age who also have a letter (of your choice) at least once in their name\n",
    "uppeer_half_e = workforce[(workforce[\"Salary\"] > workforce[\"Salary\"].median()) & (workforce[\"Name\"]).str.contains(\"e\")]\n",
    "print(uppeer_half_e)\n"
   ]
  }
 ],
 "metadata": {
  "kernelspec": {
   "display_name": "Python 3",
   "language": "python",
   "name": "python3"
  },
  "language_info": {
   "codemirror_mode": {
    "name": "ipython",
    "version": 3
   },
   "file_extension": ".py",
   "mimetype": "text/x-python",
   "name": "python",
   "nbconvert_exporter": "python",
   "pygments_lexer": "ipython3",
   "version": "3.10.13"
  }
 },
 "nbformat": 4,
 "nbformat_minor": 2
}

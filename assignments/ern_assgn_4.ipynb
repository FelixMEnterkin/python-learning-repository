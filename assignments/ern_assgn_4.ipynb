{
 "cells": [
  {
   "cell_type": "code",
   "execution_count": 1,
   "metadata": {},
   "outputs": [],
   "source": [
    "## Relevent packeges \n",
    "import pandas as pd"
   ]
  },
  {
   "cell_type": "code",
   "execution_count": 2,
   "metadata": {},
   "outputs": [
    {
     "data": {
      "text/plain": [
       "'xxxxxxxxxxxx3456'"
      ]
     },
     "execution_count": 2,
     "metadata": {},
     "output_type": "execute_result"
    }
   ],
   "source": [
    "# Remember the exercise from assignment 1 where you had to write code to changea credit card number to display only the 4 last numbers, and the bgeinning as all Xs?\n",
    "# Write a function that takes in any 16 digit number and prints the first 14 chasracters as Xs and the last 4 as the original numbers\n",
    "\n",
    "number = 1234568890123456\n",
    "\n",
    "def convert(number):\n",
    "    if type(number) != int :\n",
    "        raise ValueError(\"Input is not an integer\")\n",
    "    else:\n",
    "        number = str(number)\n",
    "        last_dig = number[-4:]\n",
    "        x_num = 'xxxxxxxxxxxx'\n",
    "        card_num = x_num + last_dig\n",
    "        return card_num\n",
    "\n",
    "convert(number)\n",
    "\n"
   ]
  },
  {
   "cell_type": "code",
   "execution_count": 1,
   "metadata": {},
   "outputs": [
    {
     "data": {
      "text/plain": [
       "'xxxxxxxxxxxx3456'"
      ]
     },
     "execution_count": 1,
     "metadata": {},
     "output_type": "execute_result"
    }
   ],
   "source": [
    "# Now, improve and extend the function to check whether the user has input 16 numbers, if they have put in a different amount of numbers, have it throw an error.\n",
    "# Improve your function again so it can accept a string or an integer (if it can't already)\n",
    "\n",
    "number = 1234568890123456\n",
    "\n",
    "def convert(number):\n",
    "    if type(number) != int :\n",
    "        raise ValueError(\"Input is not an integer\")\n",
    "    else:\n",
    "        number = str(number)\n",
    "        if len(number) != 16:\n",
    "            raise ValueError(\"Number must be 16 digets\")\n",
    "        else:\n",
    "            last_dig = number[-4:]\n",
    "            x_num = 'xxxxxxxxxxxx'\n",
    "            card_num = x_num + last_dig\n",
    "        return card_num\n",
    "\n",
    "convert(number)\n",
    "\n"
   ]
  },
  {
   "cell_type": "code",
   "execution_count": 35,
   "metadata": {},
   "outputs": [
    {
     "name": "stdout",
     "output_type": "stream",
     "text": [
      "bad is an anagram for dab\n"
     ]
    }
   ],
   "source": [
    "# Write a function that takes two strings as arguments, checks if the two strings are anagrams, and prints an answer of the form:\n",
    "# <word 1> is an anagram of <word 2>\n",
    "# or\n",
    "# <word 1> is not an anagram of <word 2>\n",
    "\n",
    "word1 = 'bad'\n",
    "word2 = 'dab'\n",
    "\n",
    "def is_anogram(word1, word2):\n",
    "    if type(word1) != str:\n",
    "        raise ValueError(\"Word 1 is not a string\")\n",
    "    elif type(word2) != str:\n",
    "        raise ValueError(\"word 2 is not a string\")\n",
    "    else:\n",
    "        if(sorted(word1) == sorted(word2)):\n",
    "            print(f'{word1} is an anagram for {word2}')\n",
    "        else:\n",
    "            print(f'{word1} is not an anogram for {word2}')\n",
    "\n",
    "is_anogram(word1, word2)\n",
    "\n"
   ]
  }
 ],
 "metadata": {
  "kernelspec": {
   "display_name": "Python 3",
   "language": "python",
   "name": "python3"
  },
  "language_info": {
   "codemirror_mode": {
    "name": "ipython",
    "version": 3
   },
   "file_extension": ".py",
   "mimetype": "text/x-python",
   "name": "python",
   "nbconvert_exporter": "python",
   "pygments_lexer": "ipython3",
   "version": "3.10.13"
  }
 },
 "nbformat": 4,
 "nbformat_minor": 2
}

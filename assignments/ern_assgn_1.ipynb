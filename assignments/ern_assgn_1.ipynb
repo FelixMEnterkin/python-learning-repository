{
 "cells": [
  {
   "cell_type": "code",
   "execution_count": 4,
   "metadata": {},
   "outputs": [
    {
     "name": "stdout",
     "output_type": "stream",
     "text": [
      "{'x': 7, 'y': 5, 'x+y': 12, 'x-y': 2, 'X^2': 49, 'y^2': 25, 'x^y': 16807}\n"
     ]
    }
   ],
   "source": [
    "# You should expect to have to Google how to do things for every assignment.\n",
    "# This is because a really important part of coding is knowing how to search for answers.\n",
    "# Don't expect to know how to solve problems already.\n",
    "\n",
    "# Using an appropriate name, initialise an empty dicitonary which you will store the outcome of some sums in.\n",
    "\n",
    "my_dict = {}\n",
    "\n",
    "# Then, setting 7 as x and 5 as y,\n",
    "\n",
    "\n",
    "my_dict['x'] = 7\n",
    "my_dict['y'] = 5 \n",
    "\n",
    "#  find:\n",
    "# x + y\n",
    "# x - y\n",
    "# x squared\n",
    "# y squared\n",
    "# x to the power y\n",
    "# Assigning each to a variable with an appropriate name.\n",
    "\n",
    "sum_of_xy = my_dict['x'] + my_dict['y']\n",
    "diff_of_xy = my_dict['x'] - my_dict['y']\n",
    "\n",
    "\n",
    "x_sq = my_dict['x']**2\n",
    "y_sq = my_dict['y']**2\n",
    "\n",
    "x_to_the_y = my_dict['x']**my_dict['y']\n",
    "\n",
    "\n",
    "# Finally, add each of these answers as entries in your dicitonary and print the dictionary.\n",
    "\n",
    "\n",
    "my_dict['x+y'] = sum_of_xy\n",
    "my_dict['x-y'] = diff_of_xy\n",
    "my_dict['X^2'] = x_sq\n",
    "my_dict['y^2'] = y_sq \n",
    "my_dict['x^y'] = x_to_the_y\n",
    "\n",
    "print(my_dict)\n"
   ]
  },
  {
   "cell_type": "code",
   "execution_count": 15,
   "metadata": {},
   "outputs": [
    {
     "name": "stdout",
     "output_type": "stream",
     "text": [
      "XXXXXXXXXXXX4444\n"
     ]
    }
   ],
   "source": [
    "# Assume a credit card number is '4444444444444444', store this as a string with an appropriate name.\n",
    "\n",
    "card_number = '444444444444444'\n",
    "\n",
    "\n",
    "# Slice the string to only show the last four digits with an appropriate name.\n",
    "\n",
    "last_dig = card_number[-4:]\n",
    "\n",
    "# Manipulate the sliced variable so that it appears with an appropriate number of Xs before the last 4 digits\n",
    "# Giving this new string an appropriate name, print it.              \n",
    "\n",
    "pinX = 'XXXXXXXXXXXX' + last_dig\n",
    "print(pinX)\n",
    "\n",
    "# Your print readout should look like 'XXXXXXXXXXXX4444'\n",
    "# At no point should you make a string from scratch that is just 'XXXXXXXXXXXX4444', that defeats the point of the exercise"
   ]
  },
  {
   "cell_type": "code",
   "execution_count": null,
   "metadata": {},
   "outputs": [],
   "source": []
  }
 ],
 "metadata": {
  "kernelspec": {
   "display_name": "Python 3",
   "language": "python",
   "name": "python3"
  },
  "language_info": {
   "codemirror_mode": {
    "name": "ipython",
    "version": 3
   },
   "file_extension": ".py",
   "mimetype": "text/x-python",
   "name": "python",
   "nbconvert_exporter": "python",
   "pygments_lexer": "ipython3",
   "version": "3.10.13"
  }
 },
 "nbformat": 4,
 "nbformat_minor": 2
}
